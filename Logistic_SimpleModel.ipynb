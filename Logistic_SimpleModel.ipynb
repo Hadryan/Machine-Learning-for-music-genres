{
 "cells": [
  {
   "cell_type": "code",
   "execution_count": 50,
   "metadata": {},
   "outputs": [],
   "source": [
    "%matplotlib inline\n",
    "import matplotlib.pyplot as plt\n",
    "import pandas as pd\n",
    "import os\n",
    "import numpy as np\n",
    "from sklearn.ensemble import RandomForestClassifier"
   ]
  },
  {
   "cell_type": "code",
   "execution_count": 40,
   "metadata": {},
   "outputs": [
    {
     "data": {
      "text/html": [
       "<div>\n",
       "<style scoped>\n",
       "    .dataframe tbody tr th:only-of-type {\n",
       "        vertical-align: middle;\n",
       "    }\n",
       "\n",
       "    .dataframe tbody tr th {\n",
       "        vertical-align: top;\n",
       "    }\n",
       "\n",
       "    .dataframe thead th {\n",
       "        text-align: right;\n",
       "    }\n",
       "</style>\n",
       "<table border=\"1\" class=\"dataframe\">\n",
       "  <thead>\n",
       "    <tr style=\"text-align: right;\">\n",
       "      <th></th>\n",
       "      <th>ID</th>\n",
       "      <th>artists</th>\n",
       "      <th>acousticness</th>\n",
       "      <th>danceability</th>\n",
       "      <th>duration_ms</th>\n",
       "      <th>energy</th>\n",
       "      <th>instrumentalness</th>\n",
       "      <th>liveness</th>\n",
       "      <th>loudness</th>\n",
       "      <th>speechiness</th>\n",
       "      <th>tempo</th>\n",
       "      <th>valence</th>\n",
       "      <th>popularity</th>\n",
       "      <th>key</th>\n",
       "      <th>mode</th>\n",
       "      <th>count</th>\n",
       "      <th>genres</th>\n",
       "      <th>new_genres</th>\n",
       "    </tr>\n",
       "  </thead>\n",
       "  <tbody>\n",
       "    <tr>\n",
       "      <th>0</th>\n",
       "      <td>3297</td>\n",
       "      <td>Britney Spears</td>\n",
       "      <td>0.156519</td>\n",
       "      <td>0.728706</td>\n",
       "      <td>223534.9358</td>\n",
       "      <td>0.762624</td>\n",
       "      <td>0.003121</td>\n",
       "      <td>0.222037</td>\n",
       "      <td>-4.966725</td>\n",
       "      <td>0.065950</td>\n",
       "      <td>114.956083</td>\n",
       "      <td>0.721743</td>\n",
       "      <td>56.871560</td>\n",
       "      <td>5</td>\n",
       "      <td>1</td>\n",
       "      <td>109</td>\n",
       "      <td>['dance pop', 'pop', 'pop rap', 'post-teen pop']</td>\n",
       "      <td>rap</td>\n",
       "    </tr>\n",
       "    <tr>\n",
       "      <th>1</th>\n",
       "      <td>10647</td>\n",
       "      <td>JGRXXN</td>\n",
       "      <td>0.055570</td>\n",
       "      <td>0.608500</td>\n",
       "      <td>228249.5000</td>\n",
       "      <td>0.718000</td>\n",
       "      <td>0.132511</td>\n",
       "      <td>0.096100</td>\n",
       "      <td>-5.697000</td>\n",
       "      <td>0.165350</td>\n",
       "      <td>105.048500</td>\n",
       "      <td>0.130300</td>\n",
       "      <td>62.000000</td>\n",
       "      <td>10</td>\n",
       "      <td>0</td>\n",
       "      <td>4</td>\n",
       "      <td>['atl trap', 'dark trap', 'phonk', 'undergroun...</td>\n",
       "      <td>rap</td>\n",
       "    </tr>\n",
       "    <tr>\n",
       "      <th>2</th>\n",
       "      <td>14103</td>\n",
       "      <td>Lil Pump</td>\n",
       "      <td>0.114460</td>\n",
       "      <td>0.831696</td>\n",
       "      <td>175930.8261</td>\n",
       "      <td>0.659087</td>\n",
       "      <td>0.000424</td>\n",
       "      <td>0.214222</td>\n",
       "      <td>-5.790174</td>\n",
       "      <td>0.177191</td>\n",
       "      <td>128.591565</td>\n",
       "      <td>0.531478</td>\n",
       "      <td>67.869565</td>\n",
       "      <td>10</td>\n",
       "      <td>1</td>\n",
       "      <td>23</td>\n",
       "      <td>['emo rap', 'miami hip hop', 'rap', 'trap']</td>\n",
       "      <td>rap</td>\n",
       "    </tr>\n",
       "    <tr>\n",
       "      <th>3</th>\n",
       "      <td>17783</td>\n",
       "      <td>ODIE</td>\n",
       "      <td>0.611000</td>\n",
       "      <td>0.724500</td>\n",
       "      <td>169650.0000</td>\n",
       "      <td>0.459500</td>\n",
       "      <td>0.081629</td>\n",
       "      <td>0.098650</td>\n",
       "      <td>-9.681000</td>\n",
       "      <td>0.120600</td>\n",
       "      <td>92.214500</td>\n",
       "      <td>0.713500</td>\n",
       "      <td>67.000000</td>\n",
       "      <td>10</td>\n",
       "      <td>1</td>\n",
       "      <td>4</td>\n",
       "      <td>['alternative r&amp;b', 'indie r&amp;b', 'trap soul']</td>\n",
       "      <td>rap</td>\n",
       "    </tr>\n",
       "    <tr>\n",
       "      <th>4</th>\n",
       "      <td>26877</td>\n",
       "      <td>Young Roddy</td>\n",
       "      <td>0.365000</td>\n",
       "      <td>0.555000</td>\n",
       "      <td>193735.0000</td>\n",
       "      <td>0.598000</td>\n",
       "      <td>0.000000</td>\n",
       "      <td>0.086500</td>\n",
       "      <td>-7.368000</td>\n",
       "      <td>0.314000</td>\n",
       "      <td>82.516000</td>\n",
       "      <td>0.650000</td>\n",
       "      <td>42.000000</td>\n",
       "      <td>10</td>\n",
       "      <td>0</td>\n",
       "      <td>1</td>\n",
       "      <td>['new orleans rap', 'soul flow']</td>\n",
       "      <td>rap</td>\n",
       "    </tr>\n",
       "  </tbody>\n",
       "</table>\n",
       "</div>"
      ],
      "text/plain": [
       "      ID         artists  acousticness  danceability  duration_ms    energy  \\\n",
       "0   3297  Britney Spears      0.156519      0.728706  223534.9358  0.762624   \n",
       "1  10647          JGRXXN      0.055570      0.608500  228249.5000  0.718000   \n",
       "2  14103        Lil Pump      0.114460      0.831696  175930.8261  0.659087   \n",
       "3  17783            ODIE      0.611000      0.724500  169650.0000  0.459500   \n",
       "4  26877     Young Roddy      0.365000      0.555000  193735.0000  0.598000   \n",
       "\n",
       "   instrumentalness  liveness  loudness  speechiness       tempo   valence  \\\n",
       "0          0.003121  0.222037 -4.966725     0.065950  114.956083  0.721743   \n",
       "1          0.132511  0.096100 -5.697000     0.165350  105.048500  0.130300   \n",
       "2          0.000424  0.214222 -5.790174     0.177191  128.591565  0.531478   \n",
       "3          0.081629  0.098650 -9.681000     0.120600   92.214500  0.713500   \n",
       "4          0.000000  0.086500 -7.368000     0.314000   82.516000  0.650000   \n",
       "\n",
       "   popularity  key  mode  count  \\\n",
       "0   56.871560    5     1    109   \n",
       "1   62.000000   10     0      4   \n",
       "2   67.869565   10     1     23   \n",
       "3   67.000000   10     1      4   \n",
       "4   42.000000   10     0      1   \n",
       "\n",
       "                                              genres new_genres  \n",
       "0   ['dance pop', 'pop', 'pop rap', 'post-teen pop']        rap  \n",
       "1  ['atl trap', 'dark trap', 'phonk', 'undergroun...        rap  \n",
       "2        ['emo rap', 'miami hip hop', 'rap', 'trap']        rap  \n",
       "3      ['alternative r&b', 'indie r&b', 'trap soul']        rap  \n",
       "4                   ['new orleans rap', 'soul flow']        rap  "
      ]
     },
     "execution_count": 40,
     "metadata": {},
     "output_type": "execute_result"
    }
   ],
   "source": [
    "twogenres = pd.read_csv(os.path.join(\"classicandrapprimarygenres.csv\"))\n",
    "twogenres.head()"
   ]
  },
  {
   "cell_type": "code",
   "execution_count": 42,
   "metadata": {
    "scrolled": true
   },
   "outputs": [
    {
     "data": {
      "text/html": [
       "<div>\n",
       "<style scoped>\n",
       "    .dataframe tbody tr th:only-of-type {\n",
       "        vertical-align: middle;\n",
       "    }\n",
       "\n",
       "    .dataframe tbody tr th {\n",
       "        vertical-align: top;\n",
       "    }\n",
       "\n",
       "    .dataframe thead th {\n",
       "        text-align: right;\n",
       "    }\n",
       "</style>\n",
       "<table border=\"1\" class=\"dataframe\">\n",
       "  <thead>\n",
       "    <tr style=\"text-align: right;\">\n",
       "      <th></th>\n",
       "      <th>ID</th>\n",
       "      <th>acousticness</th>\n",
       "      <th>danceability</th>\n",
       "      <th>duration_ms</th>\n",
       "      <th>energy</th>\n",
       "      <th>instrumentalness</th>\n",
       "      <th>liveness</th>\n",
       "      <th>loudness</th>\n",
       "      <th>speechiness</th>\n",
       "      <th>tempo</th>\n",
       "      <th>valence</th>\n",
       "      <th>popularity</th>\n",
       "      <th>key</th>\n",
       "      <th>mode</th>\n",
       "      <th>count</th>\n",
       "    </tr>\n",
       "  </thead>\n",
       "  <tbody>\n",
       "    <tr>\n",
       "      <th>count</th>\n",
       "      <td>400.00000</td>\n",
       "      <td>400.000000</td>\n",
       "      <td>400.000000</td>\n",
       "      <td>4.000000e+02</td>\n",
       "      <td>400.000000</td>\n",
       "      <td>400.000000</td>\n",
       "      <td>400.000000</td>\n",
       "      <td>400.000000</td>\n",
       "      <td>400.000000</td>\n",
       "      <td>400.000000</td>\n",
       "      <td>400.000000</td>\n",
       "      <td>400.000000</td>\n",
       "      <td>400.000000</td>\n",
       "      <td>400.000000</td>\n",
       "      <td>400.000000</td>\n",
       "    </tr>\n",
       "    <tr>\n",
       "      <th>mean</th>\n",
       "      <td>13778.61250</td>\n",
       "      <td>0.532988</td>\n",
       "      <td>0.519689</td>\n",
       "      <td>2.754850e+05</td>\n",
       "      <td>0.425496</td>\n",
       "      <td>0.266066</td>\n",
       "      <td>0.191518</td>\n",
       "      <td>-13.699293</td>\n",
       "      <td>0.119443</td>\n",
       "      <td>109.497047</td>\n",
       "      <td>0.390694</td>\n",
       "      <td>38.666542</td>\n",
       "      <td>5.127500</td>\n",
       "      <td>0.712500</td>\n",
       "      <td>24.135000</td>\n",
       "    </tr>\n",
       "    <tr>\n",
       "      <th>std</th>\n",
       "      <td>7892.75824</td>\n",
       "      <td>0.415971</td>\n",
       "      <td>0.224717</td>\n",
       "      <td>1.425801e+05</td>\n",
       "      <td>0.291297</td>\n",
       "      <td>0.358900</td>\n",
       "      <td>0.110841</td>\n",
       "      <td>8.525813</td>\n",
       "      <td>0.102895</td>\n",
       "      <td>21.382222</td>\n",
       "      <td>0.229626</td>\n",
       "      <td>22.412770</td>\n",
       "      <td>3.491665</td>\n",
       "      <td>0.453163</td>\n",
       "      <td>77.092346</td>\n",
       "    </tr>\n",
       "    <tr>\n",
       "      <th>min</th>\n",
       "      <td>71.00000</td>\n",
       "      <td>0.000030</td>\n",
       "      <td>0.070300</td>\n",
       "      <td>4.315567e+04</td>\n",
       "      <td>0.001100</td>\n",
       "      <td>0.000000</td>\n",
       "      <td>0.039900</td>\n",
       "      <td>-44.347000</td>\n",
       "      <td>0.026900</td>\n",
       "      <td>59.173000</td>\n",
       "      <td>0.031000</td>\n",
       "      <td>0.000000</td>\n",
       "      <td>0.000000</td>\n",
       "      <td>0.000000</td>\n",
       "      <td>1.000000</td>\n",
       "    </tr>\n",
       "    <tr>\n",
       "      <th>25%</th>\n",
       "      <td>7027.75000</td>\n",
       "      <td>0.107816</td>\n",
       "      <td>0.327949</td>\n",
       "      <td>1.991762e+05</td>\n",
       "      <td>0.146672</td>\n",
       "      <td>0.000009</td>\n",
       "      <td>0.113000</td>\n",
       "      <td>-19.629625</td>\n",
       "      <td>0.043123</td>\n",
       "      <td>95.679625</td>\n",
       "      <td>0.194750</td>\n",
       "      <td>23.375000</td>\n",
       "      <td>2.000000</td>\n",
       "      <td>0.000000</td>\n",
       "      <td>2.000000</td>\n",
       "    </tr>\n",
       "    <tr>\n",
       "      <th>50%</th>\n",
       "      <td>13947.50000</td>\n",
       "      <td>0.488000</td>\n",
       "      <td>0.516556</td>\n",
       "      <td>2.422951e+05</td>\n",
       "      <td>0.414950</td>\n",
       "      <td>0.012300</td>\n",
       "      <td>0.163784</td>\n",
       "      <td>-10.955214</td>\n",
       "      <td>0.065483</td>\n",
       "      <td>108.904482</td>\n",
       "      <td>0.389083</td>\n",
       "      <td>45.000000</td>\n",
       "      <td>5.000000</td>\n",
       "      <td>1.000000</td>\n",
       "      <td>4.000000</td>\n",
       "    </tr>\n",
       "    <tr>\n",
       "      <th>75%</th>\n",
       "      <td>20555.50000</td>\n",
       "      <td>0.965467</td>\n",
       "      <td>0.722991</td>\n",
       "      <td>2.944667e+05</td>\n",
       "      <td>0.681458</td>\n",
       "      <td>0.544829</td>\n",
       "      <td>0.231481</td>\n",
       "      <td>-6.267437</td>\n",
       "      <td>0.185750</td>\n",
       "      <td>123.672250</td>\n",
       "      <td>0.573844</td>\n",
       "      <td>56.000000</td>\n",
       "      <td>8.000000</td>\n",
       "      <td>1.000000</td>\n",
       "      <td>14.000000</td>\n",
       "    </tr>\n",
       "    <tr>\n",
       "      <th>max</th>\n",
       "      <td>27237.00000</td>\n",
       "      <td>0.995000</td>\n",
       "      <td>0.949000</td>\n",
       "      <td>1.534693e+06</td>\n",
       "      <td>0.974000</td>\n",
       "      <td>0.952000</td>\n",
       "      <td>0.820700</td>\n",
       "      <td>-1.472000</td>\n",
       "      <td>0.869250</td>\n",
       "      <td>177.056000</td>\n",
       "      <td>0.971000</td>\n",
       "      <td>77.687500</td>\n",
       "      <td>11.000000</td>\n",
       "      <td>1.000000</td>\n",
       "      <td>1061.000000</td>\n",
       "    </tr>\n",
       "  </tbody>\n",
       "</table>\n",
       "</div>"
      ],
      "text/plain": [
       "                ID  acousticness  danceability   duration_ms      energy  \\\n",
       "count    400.00000    400.000000    400.000000  4.000000e+02  400.000000   \n",
       "mean   13778.61250      0.532988      0.519689  2.754850e+05    0.425496   \n",
       "std     7892.75824      0.415971      0.224717  1.425801e+05    0.291297   \n",
       "min       71.00000      0.000030      0.070300  4.315567e+04    0.001100   \n",
       "25%     7027.75000      0.107816      0.327949  1.991762e+05    0.146672   \n",
       "50%    13947.50000      0.488000      0.516556  2.422951e+05    0.414950   \n",
       "75%    20555.50000      0.965467      0.722991  2.944667e+05    0.681458   \n",
       "max    27237.00000      0.995000      0.949000  1.534693e+06    0.974000   \n",
       "\n",
       "       instrumentalness    liveness    loudness  speechiness       tempo  \\\n",
       "count        400.000000  400.000000  400.000000   400.000000  400.000000   \n",
       "mean           0.266066    0.191518  -13.699293     0.119443  109.497047   \n",
       "std            0.358900    0.110841    8.525813     0.102895   21.382222   \n",
       "min            0.000000    0.039900  -44.347000     0.026900   59.173000   \n",
       "25%            0.000009    0.113000  -19.629625     0.043123   95.679625   \n",
       "50%            0.012300    0.163784  -10.955214     0.065483  108.904482   \n",
       "75%            0.544829    0.231481   -6.267437     0.185750  123.672250   \n",
       "max            0.952000    0.820700   -1.472000     0.869250  177.056000   \n",
       "\n",
       "          valence  popularity         key        mode        count  \n",
       "count  400.000000  400.000000  400.000000  400.000000   400.000000  \n",
       "mean     0.390694   38.666542    5.127500    0.712500    24.135000  \n",
       "std      0.229626   22.412770    3.491665    0.453163    77.092346  \n",
       "min      0.031000    0.000000    0.000000    0.000000     1.000000  \n",
       "25%      0.194750   23.375000    2.000000    0.000000     2.000000  \n",
       "50%      0.389083   45.000000    5.000000    1.000000     4.000000  \n",
       "75%      0.573844   56.000000    8.000000    1.000000    14.000000  \n",
       "max      0.971000   77.687500   11.000000    1.000000  1061.000000  "
      ]
     },
     "execution_count": 42,
     "metadata": {},
     "output_type": "execute_result"
    }
   ],
   "source": [
    "twogenres.describe()"
   ]
  },
  {
   "cell_type": "code",
   "execution_count": 48,
   "metadata": {},
   "outputs": [
    {
     "data": {
      "text/plain": [
       "400"
      ]
     },
     "execution_count": 48,
     "metadata": {},
     "output_type": "execute_result"
    }
   ],
   "source": [
    "len(twogenres)"
   ]
  },
  {
   "cell_type": "code",
   "execution_count": 33,
   "metadata": {},
   "outputs": [
    {
     "data": {
      "text/html": [
       "<div>\n",
       "<style scoped>\n",
       "    .dataframe tbody tr th:only-of-type {\n",
       "        vertical-align: middle;\n",
       "    }\n",
       "\n",
       "    .dataframe tbody tr th {\n",
       "        vertical-align: top;\n",
       "    }\n",
       "\n",
       "    .dataframe thead th {\n",
       "        text-align: right;\n",
       "    }\n",
       "</style>\n",
       "<table border=\"1\" class=\"dataframe\">\n",
       "  <thead>\n",
       "    <tr style=\"text-align: right;\">\n",
       "      <th></th>\n",
       "      <th>acousticness</th>\n",
       "      <th>danceability</th>\n",
       "      <th>duration_ms</th>\n",
       "      <th>energy</th>\n",
       "      <th>instrumentalness</th>\n",
       "      <th>liveness</th>\n",
       "      <th>loudness</th>\n",
       "      <th>speechiness</th>\n",
       "      <th>tempo</th>\n",
       "      <th>valence</th>\n",
       "      <th>key</th>\n",
       "      <th>mode</th>\n",
       "      <th>new_genres</th>\n",
       "    </tr>\n",
       "  </thead>\n",
       "  <tbody>\n",
       "    <tr>\n",
       "      <th>0</th>\n",
       "      <td>0.156519</td>\n",
       "      <td>0.728706</td>\n",
       "      <td>223534.9358</td>\n",
       "      <td>0.762624</td>\n",
       "      <td>0.003121</td>\n",
       "      <td>0.222037</td>\n",
       "      <td>-4.966725</td>\n",
       "      <td>0.065950</td>\n",
       "      <td>114.956083</td>\n",
       "      <td>0.721743</td>\n",
       "      <td>5</td>\n",
       "      <td>1</td>\n",
       "      <td>rap</td>\n",
       "    </tr>\n",
       "    <tr>\n",
       "      <th>1</th>\n",
       "      <td>0.055570</td>\n",
       "      <td>0.608500</td>\n",
       "      <td>228249.5000</td>\n",
       "      <td>0.718000</td>\n",
       "      <td>0.132511</td>\n",
       "      <td>0.096100</td>\n",
       "      <td>-5.697000</td>\n",
       "      <td>0.165350</td>\n",
       "      <td>105.048500</td>\n",
       "      <td>0.130300</td>\n",
       "      <td>10</td>\n",
       "      <td>0</td>\n",
       "      <td>rap</td>\n",
       "    </tr>\n",
       "    <tr>\n",
       "      <th>2</th>\n",
       "      <td>0.114460</td>\n",
       "      <td>0.831696</td>\n",
       "      <td>175930.8261</td>\n",
       "      <td>0.659087</td>\n",
       "      <td>0.000424</td>\n",
       "      <td>0.214222</td>\n",
       "      <td>-5.790174</td>\n",
       "      <td>0.177191</td>\n",
       "      <td>128.591565</td>\n",
       "      <td>0.531478</td>\n",
       "      <td>10</td>\n",
       "      <td>1</td>\n",
       "      <td>rap</td>\n",
       "    </tr>\n",
       "    <tr>\n",
       "      <th>3</th>\n",
       "      <td>0.611000</td>\n",
       "      <td>0.724500</td>\n",
       "      <td>169650.0000</td>\n",
       "      <td>0.459500</td>\n",
       "      <td>0.081629</td>\n",
       "      <td>0.098650</td>\n",
       "      <td>-9.681000</td>\n",
       "      <td>0.120600</td>\n",
       "      <td>92.214500</td>\n",
       "      <td>0.713500</td>\n",
       "      <td>10</td>\n",
       "      <td>1</td>\n",
       "      <td>rap</td>\n",
       "    </tr>\n",
       "    <tr>\n",
       "      <th>4</th>\n",
       "      <td>0.365000</td>\n",
       "      <td>0.555000</td>\n",
       "      <td>193735.0000</td>\n",
       "      <td>0.598000</td>\n",
       "      <td>0.000000</td>\n",
       "      <td>0.086500</td>\n",
       "      <td>-7.368000</td>\n",
       "      <td>0.314000</td>\n",
       "      <td>82.516000</td>\n",
       "      <td>0.650000</td>\n",
       "      <td>10</td>\n",
       "      <td>0</td>\n",
       "      <td>rap</td>\n",
       "    </tr>\n",
       "  </tbody>\n",
       "</table>\n",
       "</div>"
      ],
      "text/plain": [
       "   acousticness  danceability  duration_ms    energy  instrumentalness  \\\n",
       "0      0.156519      0.728706  223534.9358  0.762624          0.003121   \n",
       "1      0.055570      0.608500  228249.5000  0.718000          0.132511   \n",
       "2      0.114460      0.831696  175930.8261  0.659087          0.000424   \n",
       "3      0.611000      0.724500  169650.0000  0.459500          0.081629   \n",
       "4      0.365000      0.555000  193735.0000  0.598000          0.000000   \n",
       "\n",
       "   liveness  loudness  speechiness       tempo   valence  key  mode new_genres  \n",
       "0  0.222037 -4.966725     0.065950  114.956083  0.721743    5     1        rap  \n",
       "1  0.096100 -5.697000     0.165350  105.048500  0.130300   10     0        rap  \n",
       "2  0.214222 -5.790174     0.177191  128.591565  0.531478   10     1        rap  \n",
       "3  0.098650 -9.681000     0.120600   92.214500  0.713500   10     1        rap  \n",
       "4  0.086500 -7.368000     0.314000   82.516000  0.650000   10     0        rap  "
      ]
     },
     "execution_count": 33,
     "metadata": {},
     "output_type": "execute_result"
    }
   ],
   "source": [
    "cleaned_data=twogenres.drop([\"ID\",\"artists\",\"count\",\"genres\",\"popularity\"],axis=1)\n",
    "cleaned_data.head()"
   ]
  },
  {
   "cell_type": "code",
   "execution_count": 21,
   "metadata": {},
   "outputs": [
    {
     "name": "stdout",
     "output_type": "stream",
     "text": [
      "(400, 12) (400,)\n"
     ]
    }
   ],
   "source": [
    "# assign x and y \n",
    "X = cleaned_data.drop(\"new_genres\", axis =1)\n",
    "y = cleaned_data['new_genres']\n",
    "print(X.shape, y.shape)"
   ]
  },
  {
   "cell_type": "code",
   "execution_count": 22,
   "metadata": {},
   "outputs": [],
   "source": [
    "from sklearn.model_selection import train_test_split\n",
    "X_train, X_test, y_train, y_test = train_test_split(X,y, random_state=1)"
   ]
  },
  {
   "cell_type": "code",
   "execution_count": 43,
   "metadata": {},
   "outputs": [
    {
     "data": {
      "text/plain": [
       "300"
      ]
     },
     "execution_count": 43,
     "metadata": {},
     "output_type": "execute_result"
    }
   ],
   "source": [
    "# trainin 75% of the data\n",
    "len(X_train)"
   ]
  },
  {
   "cell_type": "code",
   "execution_count": 23,
   "metadata": {},
   "outputs": [
    {
     "data": {
      "text/plain": [
       "LogisticRegression(max_iter=1000)"
      ]
     },
     "execution_count": 23,
     "metadata": {},
     "output_type": "execute_result"
    }
   ],
   "source": [
    "from sklearn.linear_model import LogisticRegression\n",
    "\n",
    "classifier = LogisticRegression(max_iter=1000)\n",
    "classifier"
   ]
  },
  {
   "cell_type": "code",
   "execution_count": 24,
   "metadata": {},
   "outputs": [
    {
     "data": {
      "text/plain": [
       "LogisticRegression(max_iter=1000)"
      ]
     },
     "execution_count": 24,
     "metadata": {},
     "output_type": "execute_result"
    }
   ],
   "source": [
    "classifier.fit(X_train,y_train)"
   ]
  },
  {
   "cell_type": "code",
   "execution_count": 25,
   "metadata": {},
   "outputs": [
    {
     "name": "stdout",
     "output_type": "stream",
     "text": [
      "0.9133333333333333\n",
      "0.95\n"
     ]
    }
   ],
   "source": [
    "print(classifier.score(X_train,y_train))\n",
    "print(classifier.score(X_test,y_test))"
   ]
  },
  {
   "cell_type": "code",
   "execution_count": 64,
   "metadata": {},
   "outputs": [],
   "source": [
    "# new_data = np.array([[-2,6]])\n",
    "# plt.scatter(X[:,0], X[:,1],c=y)\n",
    "# plt.scatter(new_data[0,0], new_data[0,1],c='r', marker='o',s=100)\n",
    "# plt.show()"
   ]
  },
  {
   "cell_type": "code",
   "execution_count": 26,
   "metadata": {},
   "outputs": [
    {
     "name": "stdout",
     "output_type": "stream",
     "text": [
      "first 10 predictions: ['classical' 'rap' 'classical' 'classical' 'rap' 'classical' 'classical'\n",
      " 'classical' 'rap' 'classical']\n",
      " first 10 actual labels: ['classical', 'rap', 'classical', 'classical', 'rap', 'classical', 'rap', 'classical', 'rap', 'classical']\n"
     ]
    }
   ],
   "source": [
    "predictions = classifier.predict(X_test)\n",
    "print(f'first 10 predictions: {predictions[:10]}')\n",
    "print(f' first 10 actual labels: {y_test[:10].tolist()}')"
   ]
  },
  {
   "cell_type": "code",
   "execution_count": 28,
   "metadata": {},
   "outputs": [
    {
     "data": {
      "text/html": [
       "<div>\n",
       "<style scoped>\n",
       "    .dataframe tbody tr th:only-of-type {\n",
       "        vertical-align: middle;\n",
       "    }\n",
       "\n",
       "    .dataframe tbody tr th {\n",
       "        vertical-align: top;\n",
       "    }\n",
       "\n",
       "    .dataframe thead th {\n",
       "        text-align: right;\n",
       "    }\n",
       "</style>\n",
       "<table border=\"1\" class=\"dataframe\">\n",
       "  <thead>\n",
       "    <tr style=\"text-align: right;\">\n",
       "      <th></th>\n",
       "      <th>prediction</th>\n",
       "      <th>actual</th>\n",
       "    </tr>\n",
       "  </thead>\n",
       "  <tbody>\n",
       "    <tr>\n",
       "      <th>0</th>\n",
       "      <td>classical</td>\n",
       "      <td>classical</td>\n",
       "    </tr>\n",
       "    <tr>\n",
       "      <th>1</th>\n",
       "      <td>rap</td>\n",
       "      <td>rap</td>\n",
       "    </tr>\n",
       "    <tr>\n",
       "      <th>2</th>\n",
       "      <td>classical</td>\n",
       "      <td>classical</td>\n",
       "    </tr>\n",
       "    <tr>\n",
       "      <th>3</th>\n",
       "      <td>classical</td>\n",
       "      <td>classical</td>\n",
       "    </tr>\n",
       "    <tr>\n",
       "      <th>4</th>\n",
       "      <td>rap</td>\n",
       "      <td>rap</td>\n",
       "    </tr>\n",
       "    <tr>\n",
       "      <th>...</th>\n",
       "      <td>...</td>\n",
       "      <td>...</td>\n",
       "    </tr>\n",
       "    <tr>\n",
       "      <th>95</th>\n",
       "      <td>classical</td>\n",
       "      <td>classical</td>\n",
       "    </tr>\n",
       "    <tr>\n",
       "      <th>96</th>\n",
       "      <td>classical</td>\n",
       "      <td>classical</td>\n",
       "    </tr>\n",
       "    <tr>\n",
       "      <th>97</th>\n",
       "      <td>classical</td>\n",
       "      <td>classical</td>\n",
       "    </tr>\n",
       "    <tr>\n",
       "      <th>98</th>\n",
       "      <td>classical</td>\n",
       "      <td>classical</td>\n",
       "    </tr>\n",
       "    <tr>\n",
       "      <th>99</th>\n",
       "      <td>rap</td>\n",
       "      <td>rap</td>\n",
       "    </tr>\n",
       "  </tbody>\n",
       "</table>\n",
       "<p>100 rows × 2 columns</p>\n",
       "</div>"
      ],
      "text/plain": [
       "   prediction     actual\n",
       "0   classical  classical\n",
       "1         rap        rap\n",
       "2   classical  classical\n",
       "3   classical  classical\n",
       "4         rap        rap\n",
       "..        ...        ...\n",
       "95  classical  classical\n",
       "96  classical  classical\n",
       "97  classical  classical\n",
       "98  classical  classical\n",
       "99        rap        rap\n",
       "\n",
       "[100 rows x 2 columns]"
      ]
     },
     "execution_count": 28,
     "metadata": {},
     "output_type": "execute_result"
    }
   ],
   "source": [
    "pd.DataFrame({'prediction':predictions,'actual':y_test}).reset_index(drop=True)"
   ]
  },
  {
   "cell_type": "code",
   "execution_count": 29,
   "metadata": {
    "scrolled": true
   },
   "outputs": [
    {
     "data": {
      "image/png": "[encoded data removed]",
      "text/plain": [
       "<Figure size 432x288 with 2 Axes>"
      ]
     },
     "metadata": {
      "needs_background": "light"
     },
     "output_type": "display_data"
    }
   ],
   "source": [
    "from sklearn.metrics import plot_confusion_matrix\n",
    "\n",
    "plot_confusion_matrix(classifier, X_test, y_test, cmap=plt.cm.Blues)\n",
    "\n",
    "plt.show()"
   ]
  },
  {
   "cell_type": "code",
   "execution_count": 47,
   "metadata": {},
   "outputs": [
    {
     "data": {
      "text/plain": [
       "0.95"
      ]
     },
     "execution_count": 47,
     "metadata": {},
     "output_type": "execute_result"
    }
   ],
   "source": [
    "# check accuracy\n",
    "(54 + 41) / (54 + 41 + 4 + 1)"
   ]
  },
  {
   "cell_type": "code",
   "execution_count": 34,
   "metadata": {},
   "outputs": [
    {
     "data": {
      "text/plain": [
       "0.95"
      ]
     },
     "execution_count": 34,
     "metadata": {},
     "output_type": "execute_result"
    }
   ],
   "source": [
    "from sklearn.metrics import accuracy_score\n",
    "\n",
    "accuracy_score(y_test, predictions)"
   ]
  },
  {
   "cell_type": "code",
   "execution_count": 35,
   "metadata": {
    "scrolled": true
   },
   "outputs": [
    {
     "name": "stdout",
     "output_type": "stream",
     "text": [
      "              precision    recall  f1-score   support\n",
      "\n",
      "   classical       0.98      0.93      0.96        58\n",
      "         rap       0.91      0.98      0.94        42\n",
      "\n",
      "    accuracy                           0.95       100\n",
      "   macro avg       0.95      0.95      0.95       100\n",
      "weighted avg       0.95      0.95      0.95       100\n",
      "\n"
     ]
    }
   ],
   "source": [
    "# binary classification\n",
    "from sklearn.metrics import classification_report \n",
    "\n",
    "print(classification_report(y_test,predictions))"
   ]
  },
  {
   "cell_type": "code",
   "execution_count": 58,
   "metadata": {},
   "outputs": [
    {
     "data": {
      "text/plain": [
       "0.94"
      ]
     },
     "execution_count": 58,
     "metadata": {},
     "output_type": "execute_result"
    }
   ],
   "source": [
    "# creating a random forest here. \n",
    "\n",
    "from sklearn import tree\n",
    "clf = tree.DecisionTreeClassifier()\n",
    "clf = clf.fit(X_train,y_train)\n",
    "clf.score(X_test, y_test)"
   ]
  },
  {
   "cell_type": "code",
   "execution_count": 59,
   "metadata": {},
   "outputs": [
    {
     "data": {
      "text/plain": [
       "0.98"
      ]
     },
     "execution_count": 59,
     "metadata": {},
     "output_type": "execute_result"
    }
   ],
   "source": [
    "from sklearn.ensemble import RandomForestClassifier\n",
    "\n",
    "rf = RandomForestClassifier(n_estimators=200)\n",
    "rf = rf.fit(X_train, y_train)\n",
    "rf.score(X_test, y_test)"
   ]
  },
  {
   "cell_type": "code",
   "execution_count": 60,
   "metadata": {},
   "outputs": [
    {
     "data": {
      "text/plain": [
       "array([0.24160374, 0.14189416, 0.02039472, 0.21600008, 0.07931585,\n",
       "       0.01409773, 0.16593181, 0.07538719, 0.01379168, 0.02216949,\n",
       "       0.00719525, 0.0022183 ])"
      ]
     },
     "execution_count": 60,
     "metadata": {},
     "output_type": "execute_result"
    }
   ],
   "source": [
    "importances = rf.feature_importances_\n",
    "importances"
   ]
  },
  {
   "cell_type": "code",
   "execution_count": 65,
   "metadata": {
    "scrolled": true
   },
   "outputs": [
    {
     "data": {
      "text/plain": [
       "[(0.24160373692605688, 'acousticness'),\n",
       " (0.2160000848243436, 'energy'),\n",
       " (0.1659318135181825, 'loudness'),\n",
       " (0.1418941566101053, 'danceability'),\n",
       " (0.07931584729492568, 'instrumentalness'),\n",
       " (0.0753871859174818, 'speechiness'),\n",
       " (0.022169488797438852, 'valence'),\n",
       " (0.020394723719716193, 'duration_ms'),\n",
       " (0.014097725028073648, 'liveness'),\n",
       " (0.013791681994841494, 'tempo'),\n",
       " (0.0071952549769377224, 'key'),\n",
       " (0.0022183003918964423, 'mode')]"
      ]
     },
     "execution_count": 65,
     "metadata": {},
     "output_type": "execute_result"
    }
   ],
   "source": [
    "# the last 6 figures appear to be the least important of all features. could be\n",
    "# useful to drop these?\n",
    "sorted(zip(rf.feature_importances_, cleaned_data), reverse=True)"
   ]
  },
  {
   "cell_type": "code",
   "execution_count": null,
   "metadata": {},
   "outputs": [],
   "source": [
    "# attempting the logistical regression model for 10 models here."
   ]
  }
 ],
 "metadata": {
  "kernelspec": {
   "display_name": "Python 3",
   "language": "python",
   "name": "python3"
  },
  "language_info": {
   "codemirror_mode": {
    "name": "ipython",
    "version": 3
   },
   "file_extension": ".py",
   "mimetype": "text/x-python",
   "name": "python",
   "nbconvert_exporter": "python",
   "pygments_lexer": "ipython3",
   "version": "3.6.10"
  }
 },
 "nbformat": 4,
 "nbformat_minor": 4
}
