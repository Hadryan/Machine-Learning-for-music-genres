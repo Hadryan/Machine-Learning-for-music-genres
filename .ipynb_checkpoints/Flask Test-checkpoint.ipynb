{
 "cells": [
  {
   "cell_type": "code",
   "execution_count": 1,
   "metadata": {},
   "outputs": [],
   "source": [
    "%matplotlib inline\n",
    "import matplotlib.pyplot as plt\n",
    "import pandas as pd\n",
    "import numpy as np\n",
    "import os"
   ]
  },
  {
   "cell_type": "code",
   "execution_count": 2,
   "metadata": {},
   "outputs": [
    {
     "data": {
      "text/html": [
       "<div>\n",
       "<style scoped>\n",
       "    .dataframe tbody tr th:only-of-type {\n",
       "        vertical-align: middle;\n",
       "    }\n",
       "\n",
       "    .dataframe tbody tr th {\n",
       "        vertical-align: top;\n",
       "    }\n",
       "\n",
       "    .dataframe thead th {\n",
       "        text-align: right;\n",
       "    }\n",
       "</style>\n",
       "<table border=\"1\" class=\"dataframe\">\n",
       "  <thead>\n",
       "    <tr style=\"text-align: right;\">\n",
       "      <th></th>\n",
       "      <th>id</th>\n",
       "      <th>artists</th>\n",
       "      <th>acousticness</th>\n",
       "      <th>danceability</th>\n",
       "      <th>duration_ms</th>\n",
       "      <th>energy</th>\n",
       "      <th>instrumentalness</th>\n",
       "      <th>liveness</th>\n",
       "      <th>loudness</th>\n",
       "      <th>speechiness</th>\n",
       "      <th>tempo</th>\n",
       "      <th>valence</th>\n",
       "      <th>popularity</th>\n",
       "      <th>key</th>\n",
       "      <th>mode</th>\n",
       "      <th>count</th>\n",
       "      <th>genres</th>\n",
       "      <th>primary_genres</th>\n",
       "      <th>secondary_genres</th>\n",
       "      <th>PrimarynSecondary_genres</th>\n",
       "    </tr>\n",
       "  </thead>\n",
       "  <tbody>\n",
       "    <tr>\n",
       "      <th>0</th>\n",
       "      <td>26854</td>\n",
       "      <td>Young Boss</td>\n",
       "      <td>0.145000</td>\n",
       "      <td>0.986000</td>\n",
       "      <td>229669.0000</td>\n",
       "      <td>0.597000</td>\n",
       "      <td>0.000002</td>\n",
       "      <td>0.197000</td>\n",
       "      <td>-6.809000</td>\n",
       "      <td>0.308000</td>\n",
       "      <td>115.004000</td>\n",
       "      <td>0.761000</td>\n",
       "      <td>44.000000</td>\n",
       "      <td>8</td>\n",
       "      <td>1</td>\n",
       "      <td>1</td>\n",
       "      <td>['vapor trap']</td>\n",
       "      <td>rap</td>\n",
       "      <td>trap</td>\n",
       "      <td>rap/trap</td>\n",
       "    </tr>\n",
       "    <tr>\n",
       "      <th>1</th>\n",
       "      <td>113</td>\n",
       "      <td>4B</td>\n",
       "      <td>0.004410</td>\n",
       "      <td>0.630000</td>\n",
       "      <td>224052.0000</td>\n",
       "      <td>0.851000</td>\n",
       "      <td>0.021800</td>\n",
       "      <td>0.093900</td>\n",
       "      <td>-4.610000</td>\n",
       "      <td>0.319000</td>\n",
       "      <td>150.054000</td>\n",
       "      <td>0.573000</td>\n",
       "      <td>54.000000</td>\n",
       "      <td>1</td>\n",
       "      <td>1</td>\n",
       "      <td>1</td>\n",
       "      <td>['brostep', 'electro house', 'electronic trap']</td>\n",
       "      <td>rap</td>\n",
       "      <td>trap</td>\n",
       "      <td>rap/trap</td>\n",
       "    </tr>\n",
       "    <tr>\n",
       "      <th>2</th>\n",
       "      <td>12857</td>\n",
       "      <td>Keith Ape</td>\n",
       "      <td>0.030928</td>\n",
       "      <td>0.734000</td>\n",
       "      <td>236647.0000</td>\n",
       "      <td>0.701000</td>\n",
       "      <td>0.000004</td>\n",
       "      <td>0.202000</td>\n",
       "      <td>-5.305500</td>\n",
       "      <td>0.166100</td>\n",
       "      <td>129.040000</td>\n",
       "      <td>0.339500</td>\n",
       "      <td>61.000000</td>\n",
       "      <td>9</td>\n",
       "      <td>1</td>\n",
       "      <td>2</td>\n",
       "      <td>['korean trap', 'underground hip hop']</td>\n",
       "      <td>rap</td>\n",
       "      <td>trap</td>\n",
       "      <td>rap/trap</td>\n",
       "    </tr>\n",
       "    <tr>\n",
       "      <th>3</th>\n",
       "      <td>18347</td>\n",
       "      <td>Paloma Mami</td>\n",
       "      <td>0.411000</td>\n",
       "      <td>0.876000</td>\n",
       "      <td>159132.0000</td>\n",
       "      <td>0.568000</td>\n",
       "      <td>0.002740</td>\n",
       "      <td>0.187000</td>\n",
       "      <td>-5.755000</td>\n",
       "      <td>0.053300</td>\n",
       "      <td>98.027000</td>\n",
       "      <td>0.593000</td>\n",
       "      <td>74.000000</td>\n",
       "      <td>0</td>\n",
       "      <td>1</td>\n",
       "      <td>2</td>\n",
       "      <td>['latin pop', 'reggaeton chileno', 'trap chile...</td>\n",
       "      <td>rap</td>\n",
       "      <td>trap</td>\n",
       "      <td>rap/trap</td>\n",
       "    </tr>\n",
       "    <tr>\n",
       "      <th>4</th>\n",
       "      <td>20074</td>\n",
       "      <td>Rich The Kid</td>\n",
       "      <td>0.104304</td>\n",
       "      <td>0.810042</td>\n",
       "      <td>194635.9167</td>\n",
       "      <td>0.640417</td>\n",
       "      <td>0.000338</td>\n",
       "      <td>0.192833</td>\n",
       "      <td>-6.649042</td>\n",
       "      <td>0.225142</td>\n",
       "      <td>132.294208</td>\n",
       "      <td>0.504083</td>\n",
       "      <td>68.208333</td>\n",
       "      <td>11</td>\n",
       "      <td>1</td>\n",
       "      <td>24</td>\n",
       "      <td>['atl hip hop', 'hip hop', 'melodic rap', 'pop...</td>\n",
       "      <td>rap</td>\n",
       "      <td>trap</td>\n",
       "      <td>rap/trap</td>\n",
       "    </tr>\n",
       "  </tbody>\n",
       "</table>\n",
       "</div>"
      ],
      "text/plain": [
       "      id       artists  acousticness  danceability  duration_ms    energy  \\\n",
       "0  26854    Young Boss      0.145000      0.986000  229669.0000  0.597000   \n",
       "1    113            4B      0.004410      0.630000  224052.0000  0.851000   \n",
       "2  12857     Keith Ape      0.030928      0.734000  236647.0000  0.701000   \n",
       "3  18347   Paloma Mami      0.411000      0.876000  159132.0000  0.568000   \n",
       "4  20074  Rich The Kid      0.104304      0.810042  194635.9167  0.640417   \n",
       "\n",
       "   instrumentalness  liveness  loudness  speechiness       tempo   valence  \\\n",
       "0          0.000002  0.197000 -6.809000     0.308000  115.004000  0.761000   \n",
       "1          0.021800  0.093900 -4.610000     0.319000  150.054000  0.573000   \n",
       "2          0.000004  0.202000 -5.305500     0.166100  129.040000  0.339500   \n",
       "3          0.002740  0.187000 -5.755000     0.053300   98.027000  0.593000   \n",
       "4          0.000338  0.192833 -6.649042     0.225142  132.294208  0.504083   \n",
       "\n",
       "   popularity  key  mode  count  \\\n",
       "0   44.000000    8     1      1   \n",
       "1   54.000000    1     1      1   \n",
       "2   61.000000    9     1      2   \n",
       "3   74.000000    0     1      2   \n",
       "4   68.208333   11     1     24   \n",
       "\n",
       "                                              genres primary_genres  \\\n",
       "0                                     ['vapor trap']            rap   \n",
       "1    ['brostep', 'electro house', 'electronic trap']            rap   \n",
       "2             ['korean trap', 'underground hip hop']            rap   \n",
       "3  ['latin pop', 'reggaeton chileno', 'trap chile...            rap   \n",
       "4  ['atl hip hop', 'hip hop', 'melodic rap', 'pop...            rap   \n",
       "\n",
       "  secondary_genres PrimarynSecondary_genres  \n",
       "0             trap                 rap/trap  \n",
       "1             trap                 rap/trap  \n",
       "2             trap                 rap/trap  \n",
       "3             trap                 rap/trap  \n",
       "4             trap                 rap/trap  "
      ]
     },
     "execution_count": 2,
     "metadata": {},
     "output_type": "execute_result"
    }
   ],
   "source": [
    "data = pd.read_csv(os.path.join('Data', 'w_secondaryGenre.csv'))\n",
    "data.head()"
   ]
  },
  {
   "cell_type": "code",
   "execution_count": 4,
   "metadata": {},
   "outputs": [
    {
     "data": {
      "text/html": [
       "<div>\n",
       "<style scoped>\n",
       "    .dataframe tbody tr th:only-of-type {\n",
       "        vertical-align: middle;\n",
       "    }\n",
       "\n",
       "    .dataframe tbody tr th {\n",
       "        vertical-align: top;\n",
       "    }\n",
       "\n",
       "    .dataframe thead th {\n",
       "        text-align: right;\n",
       "    }\n",
       "</style>\n",
       "<table border=\"1\" class=\"dataframe\">\n",
       "  <thead>\n",
       "    <tr style=\"text-align: right;\">\n",
       "      <th></th>\n",
       "      <th>energy</th>\n",
       "      <th>danceability</th>\n",
       "      <th>acousticness</th>\n",
       "      <th>secondary_genres</th>\n",
       "    </tr>\n",
       "  </thead>\n",
       "  <tbody>\n",
       "    <tr>\n",
       "      <th>0</th>\n",
       "      <td>0.597000</td>\n",
       "      <td>0.986000</td>\n",
       "      <td>0.145000</td>\n",
       "      <td>trap</td>\n",
       "    </tr>\n",
       "    <tr>\n",
       "      <th>1</th>\n",
       "      <td>0.851000</td>\n",
       "      <td>0.630000</td>\n",
       "      <td>0.004410</td>\n",
       "      <td>trap</td>\n",
       "    </tr>\n",
       "    <tr>\n",
       "      <th>2</th>\n",
       "      <td>0.701000</td>\n",
       "      <td>0.734000</td>\n",
       "      <td>0.030928</td>\n",
       "      <td>trap</td>\n",
       "    </tr>\n",
       "    <tr>\n",
       "      <th>3</th>\n",
       "      <td>0.568000</td>\n",
       "      <td>0.876000</td>\n",
       "      <td>0.411000</td>\n",
       "      <td>trap</td>\n",
       "    </tr>\n",
       "    <tr>\n",
       "      <th>4</th>\n",
       "      <td>0.640417</td>\n",
       "      <td>0.810042</td>\n",
       "      <td>0.104304</td>\n",
       "      <td>trap</td>\n",
       "    </tr>\n",
       "  </tbody>\n",
       "</table>\n",
       "</div>"
      ],
      "text/plain": [
       "     energy  danceability  acousticness secondary_genres\n",
       "0  0.597000      0.986000      0.145000             trap\n",
       "1  0.851000      0.630000      0.004410             trap\n",
       "2  0.701000      0.734000      0.030928             trap\n",
       "3  0.568000      0.876000      0.411000             trap\n",
       "4  0.640417      0.810042      0.104304             trap"
      ]
     },
     "execution_count": 4,
     "metadata": {},
     "output_type": "execute_result"
    }
   ],
   "source": [
    "cleaned_data=data[[\"energy\",\"danceability\",\"acousticness\",\"secondary_genres\"]]\n",
    "cleaned_data.head()"
   ]
  },
  {
   "cell_type": "code",
   "execution_count": 5,
   "metadata": {},
   "outputs": [
    {
     "name": "stdout",
     "output_type": "stream",
     "text": [
      "(700, 3) (700,)\n"
     ]
    }
   ],
   "source": [
    "X = cleaned_data.drop(\"secondary_genres\", axis=1)\n",
    "y = cleaned_data[\"secondary_genres\"]\n",
    "print(X.shape, y.shape)"
   ]
  },
  {
   "cell_type": "code",
   "execution_count": 6,
   "metadata": {},
   "outputs": [],
   "source": [
    "from sklearn.model_selection import train_test_split\n",
    "\n",
    "X_train, X_test, y_train, y_test = train_test_split(X, y, random_state=1)"
   ]
  },
  {
   "cell_type": "code",
   "execution_count": 13,
   "metadata": {},
   "outputs": [],
   "source": [
    "from sklearn.svm import SVC \n",
    "smodel = SVC(kernel='linear',C= 5, gamma= 0.0001)"
   ]
  },
  {
   "cell_type": "code",
   "execution_count": 14,
   "metadata": {},
   "outputs": [],
   "source": [
    "from sklearn.preprocessing import MinMaxScaler\n",
    "X_Scaler=MinMaxScaler().fit(X_train)\n",
    "X_train_scaled4 = X_Scaler.transform(X_train)\n",
    "X_test_scaled4 = X_Scaler.transform(X_test)"
   ]
  },
  {
   "cell_type": "code",
   "execution_count": 15,
   "metadata": {},
   "outputs": [
    {
     "data": {
      "text/plain": [
       "SVC(C=5, gamma=0.0001, kernel='linear')"
      ]
     },
     "execution_count": 15,
     "metadata": {},
     "output_type": "execute_result"
    }
   ],
   "source": [
    "smodel.fit(X_train_scaled4, y_train)"
   ]
  },
  {
   "cell_type": "code",
   "execution_count": 16,
   "metadata": {},
   "outputs": [
    {
     "name": "stdout",
     "output_type": "stream",
     "text": [
      "Training Data Score: 0.7314285714285714\n",
      "Testing Data Score: 0.7314285714285714\n"
     ]
    }
   ],
   "source": [
    "print(f\"Training Data Score: {smodel.score(X_train_scaled4, y_train)}\")\n",
    "print(f\"Testing Data Score: {smodel.score(X_test_scaled4, y_test)}\")"
   ]
  },
  {
   "cell_type": "code",
   "execution_count": 18,
   "metadata": {},
   "outputs": [
    {
     "data": {
      "text/plain": [
       "['Logistic Regression.sav']"
      ]
     },
     "execution_count": 18,
     "metadata": {},
     "output_type": "execute_result"
    }
   ],
   "source": [
    "import joblib\n",
    "model = 'SVM.sav'\n",
    "joblib.dump(model, 'SVM.sav')"
   ]
  },
  {
   "cell_type": "code",
   "execution_count": null,
   "metadata": {},
   "outputs": [],
   "source": []
  }
 ],
 "metadata": {
  "kernelspec": {
   "display_name": "Python 3",
   "language": "python",
   "name": "python3"
  },
  "language_info": {
   "codemirror_mode": {
    "name": "ipython",
    "version": 3
   },
   "file_extension": ".py",
   "mimetype": "text/x-python",
   "name": "python",
   "nbconvert_exporter": "python",
   "pygments_lexer": "ipython3",
   "version": "3.6.10"
  }
 },
 "nbformat": 4,
 "nbformat_minor": 4
}
