{
 "cells": [
  {
   "cell_type": "markdown",
   "metadata": {},
   "source": [
    "# Logistic Regression"
   ]
  },
  {
   "cell_type": "code",
   "execution_count": 128,
   "metadata": {},
   "outputs": [],
   "source": [
    "%matplotlib inline\n",
    "import matplotlib.pyplot as plt\n",
    "import pandas as pd\n",
    "import numpy as np\n",
    "import os"
   ]
  },
  {
   "cell_type": "code",
   "execution_count": 589,
   "metadata": {},
   "outputs": [
    {
     "data": {
      "text/html": [
       "<div>\n",
       "<style scoped>\n",
       "    .dataframe tbody tr th:only-of-type {\n",
       "        vertical-align: middle;\n",
       "    }\n",
       "\n",
       "    .dataframe tbody tr th {\n",
       "        vertical-align: top;\n",
       "    }\n",
       "\n",
       "    .dataframe thead th {\n",
       "        text-align: right;\n",
       "    }\n",
       "</style>\n",
       "<table border=\"1\" class=\"dataframe\">\n",
       "  <thead>\n",
       "    <tr style=\"text-align: right;\">\n",
       "      <th></th>\n",
       "      <th>id</th>\n",
       "      <th>artists</th>\n",
       "      <th>acousticness</th>\n",
       "      <th>danceability</th>\n",
       "      <th>duration_ms</th>\n",
       "      <th>energy</th>\n",
       "      <th>instrumentalness</th>\n",
       "      <th>liveness</th>\n",
       "      <th>loudness</th>\n",
       "      <th>speechiness</th>\n",
       "      <th>tempo</th>\n",
       "      <th>valence</th>\n",
       "      <th>popularity</th>\n",
       "      <th>key</th>\n",
       "      <th>mode</th>\n",
       "      <th>count</th>\n",
       "      <th>genres</th>\n",
       "      <th>primary_genres</th>\n",
       "      <th>secondary_genres</th>\n",
       "      <th>PrimarynSecondary_genres</th>\n",
       "    </tr>\n",
       "  </thead>\n",
       "  <tbody>\n",
       "    <tr>\n",
       "      <th>0</th>\n",
       "      <td>26854</td>\n",
       "      <td>Young Boss</td>\n",
       "      <td>0.145000</td>\n",
       "      <td>0.986000</td>\n",
       "      <td>229669.0000</td>\n",
       "      <td>0.597000</td>\n",
       "      <td>0.000002</td>\n",
       "      <td>0.197000</td>\n",
       "      <td>-6.809000</td>\n",
       "      <td>0.308000</td>\n",
       "      <td>115.004000</td>\n",
       "      <td>0.761000</td>\n",
       "      <td>44.000000</td>\n",
       "      <td>8</td>\n",
       "      <td>1</td>\n",
       "      <td>1</td>\n",
       "      <td>['vapor trap']</td>\n",
       "      <td>rap</td>\n",
       "      <td>trap</td>\n",
       "      <td>rap/trap</td>\n",
       "    </tr>\n",
       "    <tr>\n",
       "      <th>1</th>\n",
       "      <td>113</td>\n",
       "      <td>4B</td>\n",
       "      <td>0.004410</td>\n",
       "      <td>0.630000</td>\n",
       "      <td>224052.0000</td>\n",
       "      <td>0.851000</td>\n",
       "      <td>0.021800</td>\n",
       "      <td>0.093900</td>\n",
       "      <td>-4.610000</td>\n",
       "      <td>0.319000</td>\n",
       "      <td>150.054000</td>\n",
       "      <td>0.573000</td>\n",
       "      <td>54.000000</td>\n",
       "      <td>1</td>\n",
       "      <td>1</td>\n",
       "      <td>1</td>\n",
       "      <td>['brostep', 'electro house', 'electronic trap']</td>\n",
       "      <td>rap</td>\n",
       "      <td>trap</td>\n",
       "      <td>rap/trap</td>\n",
       "    </tr>\n",
       "    <tr>\n",
       "      <th>2</th>\n",
       "      <td>12857</td>\n",
       "      <td>Keith Ape</td>\n",
       "      <td>0.030928</td>\n",
       "      <td>0.734000</td>\n",
       "      <td>236647.0000</td>\n",
       "      <td>0.701000</td>\n",
       "      <td>0.000004</td>\n",
       "      <td>0.202000</td>\n",
       "      <td>-5.305500</td>\n",
       "      <td>0.166100</td>\n",
       "      <td>129.040000</td>\n",
       "      <td>0.339500</td>\n",
       "      <td>61.000000</td>\n",
       "      <td>9</td>\n",
       "      <td>1</td>\n",
       "      <td>2</td>\n",
       "      <td>['korean trap', 'underground hip hop']</td>\n",
       "      <td>rap</td>\n",
       "      <td>trap</td>\n",
       "      <td>rap/trap</td>\n",
       "    </tr>\n",
       "    <tr>\n",
       "      <th>3</th>\n",
       "      <td>18347</td>\n",
       "      <td>Paloma Mami</td>\n",
       "      <td>0.411000</td>\n",
       "      <td>0.876000</td>\n",
       "      <td>159132.0000</td>\n",
       "      <td>0.568000</td>\n",
       "      <td>0.002740</td>\n",
       "      <td>0.187000</td>\n",
       "      <td>-5.755000</td>\n",
       "      <td>0.053300</td>\n",
       "      <td>98.027000</td>\n",
       "      <td>0.593000</td>\n",
       "      <td>74.000000</td>\n",
       "      <td>0</td>\n",
       "      <td>1</td>\n",
       "      <td>2</td>\n",
       "      <td>['latin pop', 'reggaeton chileno', 'trap chile...</td>\n",
       "      <td>rap</td>\n",
       "      <td>trap</td>\n",
       "      <td>rap/trap</td>\n",
       "    </tr>\n",
       "    <tr>\n",
       "      <th>4</th>\n",
       "      <td>20074</td>\n",
       "      <td>Rich The Kid</td>\n",
       "      <td>0.104304</td>\n",
       "      <td>0.810042</td>\n",
       "      <td>194635.9167</td>\n",
       "      <td>0.640417</td>\n",
       "      <td>0.000338</td>\n",
       "      <td>0.192833</td>\n",
       "      <td>-6.649042</td>\n",
       "      <td>0.225142</td>\n",
       "      <td>132.294208</td>\n",
       "      <td>0.504083</td>\n",
       "      <td>68.208333</td>\n",
       "      <td>11</td>\n",
       "      <td>1</td>\n",
       "      <td>24</td>\n",
       "      <td>['atl hip hop', 'hip hop', 'melodic rap', 'pop...</td>\n",
       "      <td>rap</td>\n",
       "      <td>trap</td>\n",
       "      <td>rap/trap</td>\n",
       "    </tr>\n",
       "  </tbody>\n",
       "</table>\n",
       "</div>"
      ],
      "text/plain": [
       "      id       artists  acousticness  danceability  duration_ms    energy  \\\n",
       "0  26854    Young Boss      0.145000      0.986000  229669.0000  0.597000   \n",
       "1    113            4B      0.004410      0.630000  224052.0000  0.851000   \n",
       "2  12857     Keith Ape      0.030928      0.734000  236647.0000  0.701000   \n",
       "3  18347   Paloma Mami      0.411000      0.876000  159132.0000  0.568000   \n",
       "4  20074  Rich The Kid      0.104304      0.810042  194635.9167  0.640417   \n",
       "\n",
       "   instrumentalness  liveness  loudness  speechiness       tempo   valence  \\\n",
       "0          0.000002  0.197000 -6.809000     0.308000  115.004000  0.761000   \n",
       "1          0.021800  0.093900 -4.610000     0.319000  150.054000  0.573000   \n",
       "2          0.000004  0.202000 -5.305500     0.166100  129.040000  0.339500   \n",
       "3          0.002740  0.187000 -5.755000     0.053300   98.027000  0.593000   \n",
       "4          0.000338  0.192833 -6.649042     0.225142  132.294208  0.504083   \n",
       "\n",
       "   popularity  key  mode  count  \\\n",
       "0   44.000000    8     1      1   \n",
       "1   54.000000    1     1      1   \n",
       "2   61.000000    9     1      2   \n",
       "3   74.000000    0     1      2   \n",
       "4   68.208333   11     1     24   \n",
       "\n",
       "                                              genres primary_genres  \\\n",
       "0                                     ['vapor trap']            rap   \n",
       "1    ['brostep', 'electro house', 'electronic trap']            rap   \n",
       "2             ['korean trap', 'underground hip hop']            rap   \n",
       "3  ['latin pop', 'reggaeton chileno', 'trap chile...            rap   \n",
       "4  ['atl hip hop', 'hip hop', 'melodic rap', 'pop...            rap   \n",
       "\n",
       "  secondary_genres PrimarynSecondary_genres  \n",
       "0             trap                 rap/trap  \n",
       "1             trap                 rap/trap  \n",
       "2             trap                 rap/trap  \n",
       "3             trap                 rap/trap  \n",
       "4             trap                 rap/trap  "
      ]
     },
     "execution_count": 589,
     "metadata": {},
     "output_type": "execute_result"
    }
   ],
   "source": [
    "data = pd.read_csv(os.path.join('Data', 'w_secondaryGenre.csv'))\n",
    "data.head()"
   ]
  },
  {
   "cell_type": "code",
   "execution_count": 590,
   "metadata": {},
   "outputs": [
    {
     "data": {
      "text/html": [
       "<div>\n",
       "<style scoped>\n",
       "    .dataframe tbody tr th:only-of-type {\n",
       "        vertical-align: middle;\n",
       "    }\n",
       "\n",
       "    .dataframe tbody tr th {\n",
       "        vertical-align: top;\n",
       "    }\n",
       "\n",
       "    .dataframe thead th {\n",
       "        text-align: right;\n",
       "    }\n",
       "</style>\n",
       "<table border=\"1\" class=\"dataframe\">\n",
       "  <thead>\n",
       "    <tr style=\"text-align: right;\">\n",
       "      <th></th>\n",
       "      <th>acousticness</th>\n",
       "      <th>danceability</th>\n",
       "      <th>duration_ms</th>\n",
       "      <th>energy</th>\n",
       "      <th>instrumentalness</th>\n",
       "      <th>liveness</th>\n",
       "      <th>loudness</th>\n",
       "      <th>speechiness</th>\n",
       "      <th>tempo</th>\n",
       "      <th>valence</th>\n",
       "      <th>key</th>\n",
       "      <th>mode</th>\n",
       "      <th>secondary_genres</th>\n",
       "    </tr>\n",
       "  </thead>\n",
       "  <tbody>\n",
       "    <tr>\n",
       "      <th>0</th>\n",
       "      <td>0.145000</td>\n",
       "      <td>0.986000</td>\n",
       "      <td>229669.0000</td>\n",
       "      <td>0.597000</td>\n",
       "      <td>0.000002</td>\n",
       "      <td>0.197000</td>\n",
       "      <td>-6.809000</td>\n",
       "      <td>0.308000</td>\n",
       "      <td>115.004000</td>\n",
       "      <td>0.761000</td>\n",
       "      <td>8</td>\n",
       "      <td>1</td>\n",
       "      <td>trap</td>\n",
       "    </tr>\n",
       "    <tr>\n",
       "      <th>1</th>\n",
       "      <td>0.004410</td>\n",
       "      <td>0.630000</td>\n",
       "      <td>224052.0000</td>\n",
       "      <td>0.851000</td>\n",
       "      <td>0.021800</td>\n",
       "      <td>0.093900</td>\n",
       "      <td>-4.610000</td>\n",
       "      <td>0.319000</td>\n",
       "      <td>150.054000</td>\n",
       "      <td>0.573000</td>\n",
       "      <td>1</td>\n",
       "      <td>1</td>\n",
       "      <td>trap</td>\n",
       "    </tr>\n",
       "    <tr>\n",
       "      <th>2</th>\n",
       "      <td>0.030928</td>\n",
       "      <td>0.734000</td>\n",
       "      <td>236647.0000</td>\n",
       "      <td>0.701000</td>\n",
       "      <td>0.000004</td>\n",
       "      <td>0.202000</td>\n",
       "      <td>-5.305500</td>\n",
       "      <td>0.166100</td>\n",
       "      <td>129.040000</td>\n",
       "      <td>0.339500</td>\n",
       "      <td>9</td>\n",
       "      <td>1</td>\n",
       "      <td>trap</td>\n",
       "    </tr>\n",
       "    <tr>\n",
       "      <th>3</th>\n",
       "      <td>0.411000</td>\n",
       "      <td>0.876000</td>\n",
       "      <td>159132.0000</td>\n",
       "      <td>0.568000</td>\n",
       "      <td>0.002740</td>\n",
       "      <td>0.187000</td>\n",
       "      <td>-5.755000</td>\n",
       "      <td>0.053300</td>\n",
       "      <td>98.027000</td>\n",
       "      <td>0.593000</td>\n",
       "      <td>0</td>\n",
       "      <td>1</td>\n",
       "      <td>trap</td>\n",
       "    </tr>\n",
       "    <tr>\n",
       "      <th>4</th>\n",
       "      <td>0.104304</td>\n",
       "      <td>0.810042</td>\n",
       "      <td>194635.9167</td>\n",
       "      <td>0.640417</td>\n",
       "      <td>0.000338</td>\n",
       "      <td>0.192833</td>\n",
       "      <td>-6.649042</td>\n",
       "      <td>0.225142</td>\n",
       "      <td>132.294208</td>\n",
       "      <td>0.504083</td>\n",
       "      <td>11</td>\n",
       "      <td>1</td>\n",
       "      <td>trap</td>\n",
       "    </tr>\n",
       "  </tbody>\n",
       "</table>\n",
       "</div>"
      ],
      "text/plain": [
       "   acousticness  danceability  duration_ms    energy  instrumentalness  \\\n",
       "0      0.145000      0.986000  229669.0000  0.597000          0.000002   \n",
       "1      0.004410      0.630000  224052.0000  0.851000          0.021800   \n",
       "2      0.030928      0.734000  236647.0000  0.701000          0.000004   \n",
       "3      0.411000      0.876000  159132.0000  0.568000          0.002740   \n",
       "4      0.104304      0.810042  194635.9167  0.640417          0.000338   \n",
       "\n",
       "   liveness  loudness  speechiness       tempo   valence  key  mode  \\\n",
       "0  0.197000 -6.809000     0.308000  115.004000  0.761000    8     1   \n",
       "1  0.093900 -4.610000     0.319000  150.054000  0.573000    1     1   \n",
       "2  0.202000 -5.305500     0.166100  129.040000  0.339500    9     1   \n",
       "3  0.187000 -5.755000     0.053300   98.027000  0.593000    0     1   \n",
       "4  0.192833 -6.649042     0.225142  132.294208  0.504083   11     1   \n",
       "\n",
       "  secondary_genres  \n",
       "0             trap  \n",
       "1             trap  \n",
       "2             trap  \n",
       "3             trap  \n",
       "4             trap  "
      ]
     },
     "execution_count": 590,
     "metadata": {},
     "output_type": "execute_result"
    }
   ],
   "source": [
    "cleaned_data=data.drop([\"id\",\"artists\",\"count\",\"genres\",\"popularity\",\"primary_genres\",\"PrimarynSecondary_genres\"],axis=1)\n",
    "cleaned_data.head()"
   ]
  },
  {
   "cell_type": "code",
   "execution_count": 591,
   "metadata": {},
   "outputs": [
    {
     "name": "stdout",
     "output_type": "stream",
     "text": [
      "(700, 12) (700,)\n"
     ]
    }
   ],
   "source": [
    "X = cleaned_data.drop(\"secondary_genres\", axis=1)\n",
    "y = cleaned_data[\"secondary_genres\"]\n",
    "print(X.shape, y.shape)"
   ]
  },
  {
   "cell_type": "code",
   "execution_count": 592,
   "metadata": {},
   "outputs": [],
   "source": [
    "from sklearn.model_selection import train_test_split\n",
    "\n",
    "X_train, X_test, y_train, y_test = train_test_split(X, y, random_state=1)"
   ]
  },
  {
   "cell_type": "code",
   "execution_count": 593,
   "metadata": {},
   "outputs": [],
   "source": [
    "# Scale your data\n",
    "from sklearn.preprocessing import MinMaxScaler\n",
    "X_Scaler=MinMaxScaler().fit(X_train)\n",
    "X_train_scaled = X_Scaler.transform(X_train)\n",
    "X_test_scaled = X_Scaler.transform(X_test)"
   ]
  },
  {
   "cell_type": "code",
   "execution_count": 594,
   "metadata": {},
   "outputs": [
    {
     "data": {
      "text/plain": [
       "LogisticRegression()"
      ]
     },
     "execution_count": 594,
     "metadata": {},
     "output_type": "execute_result"
    }
   ],
   "source": [
    "from sklearn.linear_model import LogisticRegression\n",
    "classifier = LogisticRegression()\n",
    "classifier"
   ]
  },
  {
   "cell_type": "code",
   "execution_count": 595,
   "metadata": {},
   "outputs": [
    {
     "data": {
      "text/plain": [
       "LogisticRegression()"
      ]
     },
     "execution_count": 595,
     "metadata": {},
     "output_type": "execute_result"
    }
   ],
   "source": [
    "classifier.fit(X_train_scaled, y_train)"
   ]
  },
  {
   "cell_type": "code",
   "execution_count": 596,
   "metadata": {},
   "outputs": [
    {
     "name": "stdout",
     "output_type": "stream",
     "text": [
      "Training Data Score: 0.7904761904761904\n",
      "Testing Data Score: 0.7657142857142857\n"
     ]
    }
   ],
   "source": [
    "print(f\"Training Data Score: {classifier.score(X_train_scaled, y_train)}\")\n",
    "print(f\"Testing Data Score: {classifier.score(X_test_scaled, y_test)}\")"
   ]
  },
  {
   "cell_type": "code",
   "execution_count": 597,
   "metadata": {},
   "outputs": [
    {
     "name": "stdout",
     "output_type": "stream",
     "text": [
      "First 10 Predictions:   ['cool jazz' 'cool jazz' 'texas country' 'cool jazz' 'trap'\n",
      " 'electro house' 'electro house' 'salsa' 'texas country' 'trap']\n",
      "First 10 Actual labels: ['cool jazz', 'cool jazz', 'texas country', 'cool jazz', 'texas country', 'alternative metal', 'electro house', 'salsa', 'texas country', 'electro house']\n"
     ]
    }
   ],
   "source": [
    "predictions = classifier.predict(X_test_scaled)\n",
    "print(f\"First 10 Predictions:   {predictions[:10]}\")\n",
    "print(f\"First 10 Actual labels: {y_test[:10].tolist()}\")"
   ]
  },
  {
   "cell_type": "code",
   "execution_count": 598,
   "metadata": {},
   "outputs": [
    {
     "data": {
      "text/html": [
       "<div>\n",
       "<style scoped>\n",
       "    .dataframe tbody tr th:only-of-type {\n",
       "        vertical-align: middle;\n",
       "    }\n",
       "\n",
       "    .dataframe tbody tr th {\n",
       "        vertical-align: top;\n",
       "    }\n",
       "\n",
       "    .dataframe thead th {\n",
       "        text-align: right;\n",
       "    }\n",
       "</style>\n",
       "<table border=\"1\" class=\"dataframe\">\n",
       "  <thead>\n",
       "    <tr style=\"text-align: right;\">\n",
       "      <th></th>\n",
       "      <th>Prediction</th>\n",
       "      <th>Actual</th>\n",
       "    </tr>\n",
       "  </thead>\n",
       "  <tbody>\n",
       "    <tr>\n",
       "      <th>0</th>\n",
       "      <td>cool jazz</td>\n",
       "      <td>cool jazz</td>\n",
       "    </tr>\n",
       "    <tr>\n",
       "      <th>1</th>\n",
       "      <td>cool jazz</td>\n",
       "      <td>cool jazz</td>\n",
       "    </tr>\n",
       "    <tr>\n",
       "      <th>2</th>\n",
       "      <td>texas country</td>\n",
       "      <td>texas country</td>\n",
       "    </tr>\n",
       "    <tr>\n",
       "      <th>3</th>\n",
       "      <td>cool jazz</td>\n",
       "      <td>cool jazz</td>\n",
       "    </tr>\n",
       "    <tr>\n",
       "      <th>4</th>\n",
       "      <td>trap</td>\n",
       "      <td>texas country</td>\n",
       "    </tr>\n",
       "    <tr>\n",
       "      <th>...</th>\n",
       "      <td>...</td>\n",
       "      <td>...</td>\n",
       "    </tr>\n",
       "    <tr>\n",
       "      <th>170</th>\n",
       "      <td>texas country</td>\n",
       "      <td>texas country</td>\n",
       "    </tr>\n",
       "    <tr>\n",
       "      <th>171</th>\n",
       "      <td>performance</td>\n",
       "      <td>performance</td>\n",
       "    </tr>\n",
       "    <tr>\n",
       "      <th>172</th>\n",
       "      <td>texas country</td>\n",
       "      <td>electro house</td>\n",
       "    </tr>\n",
       "    <tr>\n",
       "      <th>173</th>\n",
       "      <td>cool jazz</td>\n",
       "      <td>cool jazz</td>\n",
       "    </tr>\n",
       "    <tr>\n",
       "      <th>174</th>\n",
       "      <td>trap</td>\n",
       "      <td>trap</td>\n",
       "    </tr>\n",
       "  </tbody>\n",
       "</table>\n",
       "<p>175 rows × 2 columns</p>\n",
       "</div>"
      ],
      "text/plain": [
       "        Prediction         Actual\n",
       "0        cool jazz      cool jazz\n",
       "1        cool jazz      cool jazz\n",
       "2    texas country  texas country\n",
       "3        cool jazz      cool jazz\n",
       "4             trap  texas country\n",
       "..             ...            ...\n",
       "170  texas country  texas country\n",
       "171    performance    performance\n",
       "172  texas country  electro house\n",
       "173      cool jazz      cool jazz\n",
       "174           trap           trap\n",
       "\n",
       "[175 rows x 2 columns]"
      ]
     },
     "execution_count": 598,
     "metadata": {},
     "output_type": "execute_result"
    }
   ],
   "source": [
    "pd.DataFrame({\"Prediction\": predictions, \"Actual\": y_test}).reset_index(drop=True)"
   ]
  },
  {
   "cell_type": "code",
   "execution_count": 599,
   "metadata": {
    "scrolled": false
   },
   "outputs": [
    {
     "data": {
      "image/png": "[encoded data removed]",
      "text/plain": [
       "<Figure size 432x288 with 2 Axes>"
      ]
     },
     "metadata": {
      "needs_background": "light"
     },
     "output_type": "display_data"
    }
   ],
   "source": [
    "import matplotlib.pyplot as plt\n",
    "from sklearn.metrics import plot_confusion_matrix\n",
    "\n",
    "plot_confusion_matrix(classifier, X_test_scaled, y_test, cmap=plt.cm.Blues)\n",
    "\n",
    "plt.show()"
   ]
  },
  {
   "cell_type": "markdown",
   "metadata": {},
   "source": [
    "# Hyperparameter Tuning"
   ]
  },
  {
   "cell_type": "code",
   "execution_count": 439,
   "metadata": {},
   "outputs": [],
   "source": [
    "from sklearn.model_selection import GridSearchCV\n",
    "param_grid = {'penalty': ['l1','l2'],\n",
    "              'C': [0.0001, 0.0005, 0.001, 0.005]}\n",
    "grid = GridSearchCV(classifier, param_grid, verbose=3)"
   ]
  },
  {
   "cell_type": "code",
   "execution_count": 440,
   "metadata": {},
   "outputs": [
    {
     "name": "stdout",
     "output_type": "stream",
     "text": [
      "Fitting 5 folds for each of 8 candidates, totalling 40 fits\n",
      "[CV] C=0.0001, penalty=l1 ............................................\n",
      "[CV] .................. C=0.0001, penalty=l1, score=nan, total=   0.0s\n",
      "[CV] C=0.0001, penalty=l1 ............................................\n",
      "[CV] .................. C=0.0001, penalty=l1, score=nan, total=   0.0s\n",
      "[CV] C=0.0001, penalty=l1 ............................................\n",
      "[CV] .................. C=0.0001, penalty=l1, score=nan, total=   0.0s\n",
      "[CV] C=0.0001, penalty=l1 ............................................\n",
      "[CV] .................. C=0.0001, penalty=l1, score=nan, total=   0.0s\n",
      "[CV] C=0.0001, penalty=l1 ............................................\n",
      "[CV] .................. C=0.0001, penalty=l1, score=nan, total=   0.0s\n",
      "[CV] C=0.0001, penalty=l2 ............................................\n",
      "[CV] ................ C=0.0001, penalty=l2, score=0.162, total=   0.0s\n",
      "[CV] C=0.0001, penalty=l2 ............................................\n",
      "[CV] ................ C=0.0001, penalty=l2, score=0.162, total=   0.0s\n",
      "[CV] C=0.0001, penalty=l2 ............................................\n",
      "[CV] ................ C=0.0001, penalty=l2, score=0.162, total=   0.0s\n",
      "[CV] C=0.0001, penalty=l2 ............................................\n",
      "[CV] ................ C=0.0001, penalty=l2, score=0.162, total=   0.0s\n",
      "[CV] C=0.0001, penalty=l2 ............................................\n",
      "[CV] ................ C=0.0001, penalty=l2, score=0.152, total=   0.0s\n",
      "[CV] C=0.0005, penalty=l1 ............................................\n",
      "[CV] .................. C=0.0005, penalty=l1, score=nan, total=   0.0s\n",
      "[CV] C=0.0005, penalty=l1 ............................................\n",
      "[CV] .................. C=0.0005, penalty=l1, score=nan, total=   0.0s\n",
      "[CV] C=0.0005, penalty=l1 ............................................\n",
      "[CV] .................. C=0.0005, penalty=l1, score=nan, total=   0.0s\n",
      "[CV] C=0.0005, penalty=l1 ............................................\n",
      "[CV] .................. C=0.0005, penalty=l1, score=nan, total=   0.0s\n",
      "[CV] C=0.0005, penalty=l1 ............................................\n",
      "[CV] .................. C=0.0005, penalty=l1, score=nan, total=   0.0s\n",
      "[CV] C=0.0005, penalty=l2 ............................................\n",
      "[CV] ................ C=0.0005, penalty=l2, score=0.162, total=   0.0s\n",
      "[CV] C=0.0005, penalty=l2 ............................................\n",
      "[CV] ................ C=0.0005, penalty=l2, score=0.162, total=   0.0s\n",
      "[CV] C=0.0005, penalty=l2 ............................................\n",
      "[CV] ................ C=0.0005, penalty=l2, score=0.162, total=   0.0s\n",
      "[CV] C=0.0005, penalty=l2 ............................................\n",
      "[CV] ................ C=0.0005, penalty=l2, score=0.162, total=   0.0s\n",
      "[CV] C=0.0005, penalty=l2 ............................................\n",
      "[CV] ................ C=0.0005, penalty=l2, score=0.152, total=   0.0s\n",
      "[CV] C=0.001, penalty=l1 .............................................\n",
      "[CV] ................... C=0.001, penalty=l1, score=nan, total=   0.0s\n",
      "[CV] C=0.001, penalty=l1 .............................................\n",
      "[CV] ................... C=0.001, penalty=l1, score=nan, total=   0.0s\n",
      "[CV] C=0.001, penalty=l1 .............................................\n",
      "[CV] ................... C=0.001, penalty=l1, score=nan, total=   0.0s\n",
      "[CV] C=0.001, penalty=l1 .............................................\n",
      "[CV] ................... C=0.001, penalty=l1, score=nan, total=   0.0s\n",
      "[CV] C=0.001, penalty=l1 .............................................\n",
      "[CV] ................... C=0.001, penalty=l1, score=nan, total=   0.0s\n",
      "[CV] C=0.001, penalty=l2 .............................................\n",
      "[CV] ................. C=0.001, penalty=l2, score=0.171, total=   0.0s\n",
      "[CV] C=0.001, penalty=l2 .............................................\n",
      "[CV] ................. C=0.001, penalty=l2, score=0.162, total=   0.0s\n",
      "[CV] C=0.001, penalty=l2 .............................................\n",
      "[CV] ................. C=0.001, penalty=l2, score=0.162, total=   0.0s\n",
      "[CV] C=0.001, penalty=l2 .............................................\n",
      "[CV] ................. C=0.001, penalty=l2, score=0.162, total=   0.0s\n",
      "[CV] C=0.001, penalty=l2 .............................................\n",
      "[CV] ................. C=0.001, penalty=l2, score=0.152, total=   0.0s\n",
      "[CV] C=0.005, penalty=l1 .............................................\n",
      "[CV] ................... C=0.005, penalty=l1, score=nan, total=   0.0s\n",
      "[CV] C=0.005, penalty=l1 .............................................\n",
      "[CV] ................... C=0.005, penalty=l1, score=nan, total=   0.0s\n",
      "[CV] C=0.005, penalty=l1 .............................................\n",
      "[CV] ................... C=0.005, penalty=l1, score=nan, total=   0.0s\n",
      "[CV] C=0.005, penalty=l1 .............................................\n",
      "[CV] ................... C=0.005, penalty=l1, score=nan, total=   0.0s\n",
      "[CV] C=0.005, penalty=l1 .............................................\n",
      "[CV] ................... C=0.005, penalty=l1, score=nan, total=   0.0s\n",
      "[CV] C=0.005, penalty=l2 .............................................\n",
      "[CV] ................. C=0.005, penalty=l2, score=0.295, total=   0.0s\n",
      "[CV] C=0.005, penalty=l2 .............................................\n",
      "[CV] ................. C=0.005, penalty=l2, score=0.333, total=   0.0s\n",
      "[CV] C=0.005, penalty=l2 .............................................\n",
      "[CV] ................. C=0.005, penalty=l2, score=0.371, total=   0.0s\n",
      "[CV] C=0.005, penalty=l2 .............................................\n"
     ]
    },
    {
     "name": "stderr",
     "output_type": "stream",
     "text": [
      "[Parallel(n_jobs=1)]: Using backend SequentialBackend with 1 concurrent workers.\n",
      "D:\\Anaconda\\envs\\PythonAdv\\lib\\site-packages\\sklearn\\model_selection\\_validation.py:552: FitFailedWarning: Estimator fit failed. The score on this train-test partition for these parameters will be set to nan. Details: \n",
      "Traceback (most recent call last):\n",
      "  File \"D:\\Anaconda\\envs\\PythonAdv\\lib\\site-packages\\sklearn\\model_selection\\_validation.py\", line 531, in _fit_and_score\n",
      "    estimator.fit(X_train, y_train, **fit_params)\n",
      "  File \"D:\\Anaconda\\envs\\PythonAdv\\lib\\site-packages\\sklearn\\linear_model\\_logistic.py\", line 1304, in fit\n",
      "    solver = _check_solver(self.solver, self.penalty, self.dual)\n",
      "  File \"D:\\Anaconda\\envs\\PythonAdv\\lib\\site-packages\\sklearn\\linear_model\\_logistic.py\", line 443, in _check_solver\n",
      "    \"got %s penalty.\" % (solver, penalty))\n",
      "ValueError: Solver lbfgs supports only 'l2' or 'none' penalties, got l1 penalty.\n",
      "\n",
      "  FitFailedWarning)\n",
      "[Parallel(n_jobs=1)]: Done   1 out of   1 | elapsed:    0.0s remaining:    0.0s\n",
      "[Parallel(n_jobs=1)]: Done   2 out of   2 | elapsed:    0.0s remaining:    0.0s\n",
      "D:\\Anaconda\\envs\\PythonAdv\\lib\\site-packages\\sklearn\\model_selection\\_validation.py:552: FitFailedWarning: Estimator fit failed. The score on this train-test partition for these parameters will be set to nan. Details: \n",
      "Traceback (most recent call last):\n",
      "  File \"D:\\Anaconda\\envs\\PythonAdv\\lib\\site-packages\\sklearn\\model_selection\\_validation.py\", line 531, in _fit_and_score\n",
      "    estimator.fit(X_train, y_train, **fit_params)\n",
      "  File \"D:\\Anaconda\\envs\\PythonAdv\\lib\\site-packages\\sklearn\\linear_model\\_logistic.py\", line 1304, in fit\n",
      "    solver = _check_solver(self.solver, self.penalty, self.dual)\n",
      "  File \"D:\\Anaconda\\envs\\PythonAdv\\lib\\site-packages\\sklearn\\linear_model\\_logistic.py\", line 443, in _check_solver\n",
      "    \"got %s penalty.\" % (solver, penalty))\n",
      "ValueError: Solver lbfgs supports only 'l2' or 'none' penalties, got l1 penalty.\n",
      "\n",
      "  FitFailedWarning)\n",
      "D:\\Anaconda\\envs\\PythonAdv\\lib\\site-packages\\sklearn\\model_selection\\_validation.py:552: FitFailedWarning: Estimator fit failed. The score on this train-test partition for these parameters will be set to nan. Details: \n",
      "Traceback (most recent call last):\n",
      "  File \"D:\\Anaconda\\envs\\PythonAdv\\lib\\site-packages\\sklearn\\model_selection\\_validation.py\", line 531, in _fit_and_score\n",
      "    estimator.fit(X_train, y_train, **fit_params)\n",
      "  File \"D:\\Anaconda\\envs\\PythonAdv\\lib\\site-packages\\sklearn\\linear_model\\_logistic.py\", line 1304, in fit\n",
      "    solver = _check_solver(self.solver, self.penalty, self.dual)\n",
      "  File \"D:\\Anaconda\\envs\\PythonAdv\\lib\\site-packages\\sklearn\\linear_model\\_logistic.py\", line 443, in _check_solver\n",
      "    \"got %s penalty.\" % (solver, penalty))\n",
      "ValueError: Solver lbfgs supports only 'l2' or 'none' penalties, got l1 penalty.\n",
      "\n",
      "  FitFailedWarning)\n",
      "D:\\Anaconda\\envs\\PythonAdv\\lib\\site-packages\\sklearn\\model_selection\\_validation.py:552: FitFailedWarning: Estimator fit failed. The score on this train-test partition for these parameters will be set to nan. Details: \n",
      "Traceback (most recent call last):\n",
      "  File \"D:\\Anaconda\\envs\\PythonAdv\\lib\\site-packages\\sklearn\\model_selection\\_validation.py\", line 531, in _fit_and_score\n",
      "    estimator.fit(X_train, y_train, **fit_params)\n",
      "  File \"D:\\Anaconda\\envs\\PythonAdv\\lib\\site-packages\\sklearn\\linear_model\\_logistic.py\", line 1304, in fit\n",
      "    solver = _check_solver(self.solver, self.penalty, self.dual)\n",
      "  File \"D:\\Anaconda\\envs\\PythonAdv\\lib\\site-packages\\sklearn\\linear_model\\_logistic.py\", line 443, in _check_solver\n",
      "    \"got %s penalty.\" % (solver, penalty))\n",
      "ValueError: Solver lbfgs supports only 'l2' or 'none' penalties, got l1 penalty.\n",
      "\n",
      "  FitFailedWarning)\n"
     ]
    },
    {
     "name": "stdout",
     "output_type": "stream",
     "text": [
      "[CV] ................. C=0.005, penalty=l2, score=0.352, total=   0.0s\n",
      "[CV] C=0.005, penalty=l2 .............................................\n",
      "[CV] ................. C=0.005, penalty=l2, score=0.305, total=   0.0s\n"
     ]
    },
    {
     "name": "stderr",
     "output_type": "stream",
     "text": [
      "[Parallel(n_jobs=1)]: Done  40 out of  40 | elapsed:    0.1s finished\n"
     ]
    },
    {
     "data": {
      "text/plain": [
       "GridSearchCV(estimator=LogisticRegression(),\n",
       "             param_grid={'C': [0.0001, 0.0005, 0.001, 0.005],\n",
       "                         'penalty': ['l1', 'l2']},\n",
       "             verbose=3)"
      ]
     },
     "execution_count": 440,
     "metadata": {},
     "output_type": "execute_result"
    }
   ],
   "source": [
    "grid.fit(X_train_scaled, y_train)"
   ]
  },
  {
   "cell_type": "code",
   "execution_count": 441,
   "metadata": {},
   "outputs": [
    {
     "name": "stdout",
     "output_type": "stream",
     "text": [
      "{'C': 0.005, 'penalty': 'l2'}\n",
      "0.33142857142857146\n"
     ]
    }
   ],
   "source": [
    "print(grid.best_params_)\n",
    "print(grid.best_score_)"
   ]
  },
  {
   "cell_type": "markdown",
   "metadata": {},
   "source": [
    "# Random Forest"
   ]
  },
  {
   "cell_type": "code",
   "execution_count": 600,
   "metadata": {},
   "outputs": [
    {
     "data": {
      "text/plain": [
       "0.7314285714285714"
      ]
     },
     "execution_count": 600,
     "metadata": {},
     "output_type": "execute_result"
    }
   ],
   "source": [
    "from sklearn import tree\n",
    "clf = tree.DecisionTreeClassifier()\n",
    "clf = clf.fit(X_train_scaled, y_train)\n",
    "clf.score(X_test_scaled, y_test)"
   ]
  },
  {
   "cell_type": "code",
   "execution_count": 601,
   "metadata": {},
   "outputs": [
    {
     "data": {
      "text/plain": [
       "0.8228571428571428"
      ]
     },
     "execution_count": 601,
     "metadata": {},
     "output_type": "execute_result"
    }
   ],
   "source": [
    "from sklearn.ensemble import RandomForestClassifier\n",
    "rf = RandomForestClassifier(n_estimators=200)\n",
    "rf = rf.fit(X_train_scaled, y_train)\n",
    "rf.score(X_test_scaled, y_test)"
   ]
  },
  {
   "cell_type": "code",
   "execution_count": 602,
   "metadata": {},
   "outputs": [],
   "source": [
    "feature_names = cleaned_data.columns"
   ]
  },
  {
   "cell_type": "code",
   "execution_count": 603,
   "metadata": {},
   "outputs": [
    {
     "data": {
      "text/plain": [
       "[(0.15466722681804446, 'acousticness'),\n",
       " (0.1514583942046011, 'danceability'),\n",
       " (0.14385062961490405, 'energy'),\n",
       " (0.1209784664447276, 'valence'),\n",
       " (0.10494505915158352, 'loudness'),\n",
       " (0.10248468336882507, 'speechiness'),\n",
       " (0.06584079790415677, 'instrumentalness'),\n",
       " (0.04798841202976639, 'tempo'),\n",
       " (0.04738223000478686, 'duration_ms'),\n",
       " (0.028972311249221692, 'liveness'),\n",
       " (0.020428497873880857, 'key'),\n",
       " (0.011003291335501375, 'mode')]"
      ]
     },
     "execution_count": 603,
     "metadata": {},
     "output_type": "execute_result"
    }
   ],
   "source": [
    "sorted(zip(rf.feature_importances_, feature_names), reverse=True)"
   ]
  },
  {
   "cell_type": "markdown",
   "metadata": {},
   "source": [
    "# Hyperparameter Tuning"
   ]
  },
  {
   "cell_type": "code",
   "execution_count": 604,
   "metadata": {},
   "outputs": [],
   "source": [
    "from sklearn.model_selection import GridSearchCV\n",
    "# Number of trees in random forest\n",
    "n_estimators = [int(x) for x in np.linspace(start = 200, stop = 400, num = 2)]\n",
    "# Number of features to consider at every split\n",
    "max_features = ['auto', 'sqrt']\n",
    "# Maximum number of levels in tree\n",
    "max_depth = [int(x) for x in np.linspace(10, 20, num = 2)]\n",
    "max_depth.append(None)\n",
    "# Minimum number of samples required to split a node\n",
    "min_samples_split = [2, 5]\n",
    "# Minimum number of samples required at each leaf node\n",
    "min_samples_leaf = [1, 2]\n",
    "# Method of selecting samples for training each tree\n",
    "bootstrap = [True, False]"
   ]
  },
  {
   "cell_type": "code",
   "execution_count": 605,
   "metadata": {},
   "outputs": [],
   "source": [
    "param_grid = {'n_estimators': n_estimators,\n",
    "               \n",
    "               'max_depth': max_depth,\n",
    "               'min_samples_split': min_samples_split,\n",
    "               'min_samples_leaf': min_samples_leaf,\n",
    "               }\n",
    "grid = GridSearchCV(rf, param_grid, verbose=3)"
   ]
  },
  {
   "cell_type": "code",
   "execution_count": 406,
   "metadata": {},
   "outputs": [
    {
     "name": "stdout",
     "output_type": "stream",
     "text": [
      "Fitting 5 folds for each of 24 candidates, totalling 120 fits\n",
      "[CV] max_depth=10, min_samples_leaf=1, min_samples_split=2, n_estimators=200 \n"
     ]
    },
    {
     "name": "stderr",
     "output_type": "stream",
     "text": [
      "[Parallel(n_jobs=1)]: Using backend SequentialBackend with 1 concurrent workers.\n"
     ]
    },
    {
     "name": "stdout",
     "output_type": "stream",
     "text": [
      "[CV]  max_depth=10, min_samples_leaf=1, min_samples_split=2, n_estimators=200, score=0.733, total=   0.4s\n",
      "[CV] max_depth=10, min_samples_leaf=1, min_samples_split=2, n_estimators=200 \n"
     ]
    },
    {
     "name": "stderr",
     "output_type": "stream",
     "text": [
      "[Parallel(n_jobs=1)]: Done   1 out of   1 | elapsed:    0.3s remaining:    0.0s\n"
     ]
    },
    {
     "name": "stdout",
     "output_type": "stream",
     "text": [
      "[CV]  max_depth=10, min_samples_leaf=1, min_samples_split=2, n_estimators=200, score=0.838, total=   0.3s\n",
      "[CV] max_depth=10, min_samples_leaf=1, min_samples_split=2, n_estimators=200 \n"
     ]
    },
    {
     "name": "stderr",
     "output_type": "stream",
     "text": [
      "[Parallel(n_jobs=1)]: Done   2 out of   2 | elapsed:    0.6s remaining:    0.0s\n"
     ]
    },
    {
     "name": "stdout",
     "output_type": "stream",
     "text": [
      "[CV]  max_depth=10, min_samples_leaf=1, min_samples_split=2, n_estimators=200, score=0.810, total=   0.3s\n",
      "[CV] max_depth=10, min_samples_leaf=1, min_samples_split=2, n_estimators=200 \n",
      "[CV]  max_depth=10, min_samples_leaf=1, min_samples_split=2, n_estimators=200, score=0.857, total=   0.3s\n",
      "[CV] max_depth=10, min_samples_leaf=1, min_samples_split=2, n_estimators=200 \n",
      "[CV]  max_depth=10, min_samples_leaf=1, min_samples_split=2, n_estimators=200, score=0.838, total=   0.3s\n",
      "[CV] max_depth=10, min_samples_leaf=1, min_samples_split=2, n_estimators=400 \n",
      "[CV]  max_depth=10, min_samples_leaf=1, min_samples_split=2, n_estimators=400, score=0.733, total=   0.6s\n",
      "[CV] max_depth=10, min_samples_leaf=1, min_samples_split=2, n_estimators=400 \n",
      "[CV]  max_depth=10, min_samples_leaf=1, min_samples_split=2, n_estimators=400, score=0.857, total=   0.6s\n",
      "[CV] max_depth=10, min_samples_leaf=1, min_samples_split=2, n_estimators=400 \n",
      "[CV]  max_depth=10, min_samples_leaf=1, min_samples_split=2, n_estimators=400, score=0.771, total=   0.6s\n",
      "[CV] max_depth=10, min_samples_leaf=1, min_samples_split=2, n_estimators=400 \n",
      "[CV]  max_depth=10, min_samples_leaf=1, min_samples_split=2, n_estimators=400, score=0.876, total=   0.6s\n",
      "[CV] max_depth=10, min_samples_leaf=1, min_samples_split=2, n_estimators=400 \n",
      "[CV]  max_depth=10, min_samples_leaf=1, min_samples_split=2, n_estimators=400, score=0.857, total=   0.6s\n",
      "[CV] max_depth=10, min_samples_leaf=1, min_samples_split=5, n_estimators=200 \n",
      "[CV]  max_depth=10, min_samples_leaf=1, min_samples_split=5, n_estimators=200, score=0.743, total=   0.3s\n",
      "[CV] max_depth=10, min_samples_leaf=1, min_samples_split=5, n_estimators=200 \n",
      "[CV]  max_depth=10, min_samples_leaf=1, min_samples_split=5, n_estimators=200, score=0.829, total=   0.3s\n",
      "[CV] max_depth=10, min_samples_leaf=1, min_samples_split=5, n_estimators=200 \n",
      "[CV]  max_depth=10, min_samples_leaf=1, min_samples_split=5, n_estimators=200, score=0.781, total=   0.3s\n",
      "[CV] max_depth=10, min_samples_leaf=1, min_samples_split=5, n_estimators=200 \n",
      "[CV]  max_depth=10, min_samples_leaf=1, min_samples_split=5, n_estimators=200, score=0.867, total=   0.3s\n",
      "[CV] max_depth=10, min_samples_leaf=1, min_samples_split=5, n_estimators=200 \n",
      "[CV]  max_depth=10, min_samples_leaf=1, min_samples_split=5, n_estimators=200, score=0.848, total=   0.3s\n",
      "[CV] max_depth=10, min_samples_leaf=1, min_samples_split=5, n_estimators=400 \n",
      "[CV]  max_depth=10, min_samples_leaf=1, min_samples_split=5, n_estimators=400, score=0.733, total=   0.6s\n",
      "[CV] max_depth=10, min_samples_leaf=1, min_samples_split=5, n_estimators=400 \n",
      "[CV]  max_depth=10, min_samples_leaf=1, min_samples_split=5, n_estimators=400, score=0.857, total=   0.6s\n",
      "[CV] max_depth=10, min_samples_leaf=1, min_samples_split=5, n_estimators=400 \n",
      "[CV]  max_depth=10, min_samples_leaf=1, min_samples_split=5, n_estimators=400, score=0.781, total=   0.6s\n",
      "[CV] max_depth=10, min_samples_leaf=1, min_samples_split=5, n_estimators=400 \n",
      "[CV]  max_depth=10, min_samples_leaf=1, min_samples_split=5, n_estimators=400, score=0.867, total=   0.6s\n",
      "[CV] max_depth=10, min_samples_leaf=1, min_samples_split=5, n_estimators=400 \n",
      "[CV]  max_depth=10, min_samples_leaf=1, min_samples_split=5, n_estimators=400, score=0.848, total=   0.6s\n",
      "[CV] max_depth=10, min_samples_leaf=2, min_samples_split=2, n_estimators=200 \n",
      "[CV]  max_depth=10, min_samples_leaf=2, min_samples_split=2, n_estimators=200, score=0.733, total=   0.3s\n",
      "[CV] max_depth=10, min_samples_leaf=2, min_samples_split=2, n_estimators=200 \n",
      "[CV]  max_depth=10, min_samples_leaf=2, min_samples_split=2, n_estimators=200, score=0.848, total=   0.3s\n",
      "[CV] max_depth=10, min_samples_leaf=2, min_samples_split=2, n_estimators=200 \n",
      "[CV]  max_depth=10, min_samples_leaf=2, min_samples_split=2, n_estimators=200, score=0.781, total=   0.3s\n",
      "[CV] max_depth=10, min_samples_leaf=2, min_samples_split=2, n_estimators=200 \n",
      "[CV]  max_depth=10, min_samples_leaf=2, min_samples_split=2, n_estimators=200, score=0.867, total=   0.3s\n",
      "[CV] max_depth=10, min_samples_leaf=2, min_samples_split=2, n_estimators=200 \n",
      "[CV]  max_depth=10, min_samples_leaf=2, min_samples_split=2, n_estimators=200, score=0.857, total=   0.3s\n",
      "[CV] max_depth=10, min_samples_leaf=2, min_samples_split=2, n_estimators=400 \n",
      "[CV]  max_depth=10, min_samples_leaf=2, min_samples_split=2, n_estimators=400, score=0.743, total=   0.6s\n",
      "[CV] max_depth=10, min_samples_leaf=2, min_samples_split=2, n_estimators=400 \n",
      "[CV]  max_depth=10, min_samples_leaf=2, min_samples_split=2, n_estimators=400, score=0.857, total=   0.6s\n",
      "[CV] max_depth=10, min_samples_leaf=2, min_samples_split=2, n_estimators=400 \n",
      "[CV]  max_depth=10, min_samples_leaf=2, min_samples_split=2, n_estimators=400, score=0.771, total=   0.6s\n",
      "[CV] max_depth=10, min_samples_leaf=2, min_samples_split=2, n_estimators=400 \n",
      "[CV]  max_depth=10, min_samples_leaf=2, min_samples_split=2, n_estimators=400, score=0.886, total=   0.6s\n",
      "[CV] max_depth=10, min_samples_leaf=2, min_samples_split=2, n_estimators=400 \n",
      "[CV]  max_depth=10, min_samples_leaf=2, min_samples_split=2, n_estimators=400, score=0.848, total=   0.6s\n",
      "[CV] max_depth=10, min_samples_leaf=2, min_samples_split=5, n_estimators=200 \n",
      "[CV]  max_depth=10, min_samples_leaf=2, min_samples_split=5, n_estimators=200, score=0.752, total=   0.3s\n",
      "[CV] max_depth=10, min_samples_leaf=2, min_samples_split=5, n_estimators=200 \n",
      "[CV]  max_depth=10, min_samples_leaf=2, min_samples_split=5, n_estimators=200, score=0.857, total=   0.3s\n",
      "[CV] max_depth=10, min_samples_leaf=2, min_samples_split=5, n_estimators=200 \n",
      "[CV]  max_depth=10, min_samples_leaf=2, min_samples_split=5, n_estimators=200, score=0.771, total=   0.3s\n",
      "[CV] max_depth=10, min_samples_leaf=2, min_samples_split=5, n_estimators=200 \n",
      "[CV]  max_depth=10, min_samples_leaf=2, min_samples_split=5, n_estimators=200, score=0.857, total=   0.3s\n",
      "[CV] max_depth=10, min_samples_leaf=2, min_samples_split=5, n_estimators=200 \n",
      "[CV]  max_depth=10, min_samples_leaf=2, min_samples_split=5, n_estimators=200, score=0.848, total=   0.3s\n",
      "[CV] max_depth=10, min_samples_leaf=2, min_samples_split=5, n_estimators=400 \n",
      "[CV]  max_depth=10, min_samples_leaf=2, min_samples_split=5, n_estimators=400, score=0.733, total=   0.6s\n",
      "[CV] max_depth=10, min_samples_leaf=2, min_samples_split=5, n_estimators=400 \n",
      "[CV]  max_depth=10, min_samples_leaf=2, min_samples_split=5, n_estimators=400, score=0.857, total=   0.6s\n",
      "[CV] max_depth=10, min_samples_leaf=2, min_samples_split=5, n_estimators=400 \n",
      "[CV]  max_depth=10, min_samples_leaf=2, min_samples_split=5, n_estimators=400, score=0.790, total=   0.6s\n",
      "[CV] max_depth=10, min_samples_leaf=2, min_samples_split=5, n_estimators=400 \n",
      "[CV]  max_depth=10, min_samples_leaf=2, min_samples_split=5, n_estimators=400, score=0.876, total=   0.6s\n",
      "[CV] max_depth=10, min_samples_leaf=2, min_samples_split=5, n_estimators=400 \n",
      "[CV]  max_depth=10, min_samples_leaf=2, min_samples_split=5, n_estimators=400, score=0.848, total=   0.6s\n",
      "[CV] max_depth=20, min_samples_leaf=1, min_samples_split=2, n_estimators=200 \n",
      "[CV]  max_depth=20, min_samples_leaf=1, min_samples_split=2, n_estimators=200, score=0.743, total=   0.3s\n",
      "[CV] max_depth=20, min_samples_leaf=1, min_samples_split=2, n_estimators=200 \n",
      "[CV]  max_depth=20, min_samples_leaf=1, min_samples_split=2, n_estimators=200, score=0.876, total=   0.3s\n",
      "[CV] max_depth=20, min_samples_leaf=1, min_samples_split=2, n_estimators=200 \n",
      "[CV]  max_depth=20, min_samples_leaf=1, min_samples_split=2, n_estimators=200, score=0.790, total=   0.3s\n",
      "[CV] max_depth=20, min_samples_leaf=1, min_samples_split=2, n_estimators=200 \n",
      "[CV]  max_depth=20, min_samples_leaf=1, min_samples_split=2, n_estimators=200, score=0.895, total=   0.3s\n",
      "[CV] max_depth=20, min_samples_leaf=1, min_samples_split=2, n_estimators=200 \n",
      "[CV]  max_depth=20, min_samples_leaf=1, min_samples_split=2, n_estimators=200, score=0.848, total=   0.3s\n",
      "[CV] max_depth=20, min_samples_leaf=1, min_samples_split=2, n_estimators=400 \n",
      "[CV]  max_depth=20, min_samples_leaf=1, min_samples_split=2, n_estimators=400, score=0.733, total=   0.6s\n",
      "[CV] max_depth=20, min_samples_leaf=1, min_samples_split=2, n_estimators=400 \n",
      "[CV]  max_depth=20, min_samples_leaf=1, min_samples_split=2, n_estimators=400, score=0.867, total=   0.6s\n",
      "[CV] max_depth=20, min_samples_leaf=1, min_samples_split=2, n_estimators=400 \n"
     ]
    },
    {
     "name": "stdout",
     "output_type": "stream",
     "text": [
      "[CV]  max_depth=20, min_samples_leaf=1, min_samples_split=2, n_estimators=400, score=0.790, total=   0.6s\n",
      "[CV] max_depth=20, min_samples_leaf=1, min_samples_split=2, n_estimators=400 \n",
      "[CV]  max_depth=20, min_samples_leaf=1, min_samples_split=2, n_estimators=400, score=0.848, total=   0.6s\n",
      "[CV] max_depth=20, min_samples_leaf=1, min_samples_split=2, n_estimators=400 \n",
      "[CV]  max_depth=20, min_samples_leaf=1, min_samples_split=2, n_estimators=400, score=0.857, total=   0.6s\n",
      "[CV] max_depth=20, min_samples_leaf=1, min_samples_split=5, n_estimators=200 \n",
      "[CV]  max_depth=20, min_samples_leaf=1, min_samples_split=5, n_estimators=200, score=0.733, total=   0.3s\n",
      "[CV] max_depth=20, min_samples_leaf=1, min_samples_split=5, n_estimators=200 \n",
      "[CV]  max_depth=20, min_samples_leaf=1, min_samples_split=5, n_estimators=200, score=0.857, total=   0.3s\n",
      "[CV] max_depth=20, min_samples_leaf=1, min_samples_split=5, n_estimators=200 \n",
      "[CV]  max_depth=20, min_samples_leaf=1, min_samples_split=5, n_estimators=200, score=0.790, total=   0.3s\n",
      "[CV] max_depth=20, min_samples_leaf=1, min_samples_split=5, n_estimators=200 \n",
      "[CV]  max_depth=20, min_samples_leaf=1, min_samples_split=5, n_estimators=200, score=0.857, total=   0.3s\n",
      "[CV] max_depth=20, min_samples_leaf=1, min_samples_split=5, n_estimators=200 \n",
      "[CV]  max_depth=20, min_samples_leaf=1, min_samples_split=5, n_estimators=200, score=0.848, total=   0.3s\n",
      "[CV] max_depth=20, min_samples_leaf=1, min_samples_split=5, n_estimators=400 \n",
      "[CV]  max_depth=20, min_samples_leaf=1, min_samples_split=5, n_estimators=400, score=0.733, total=   0.6s\n",
      "[CV] max_depth=20, min_samples_leaf=1, min_samples_split=5, n_estimators=400 \n",
      "[CV]  max_depth=20, min_samples_leaf=1, min_samples_split=5, n_estimators=400, score=0.857, total=   0.6s\n",
      "[CV] max_depth=20, min_samples_leaf=1, min_samples_split=5, n_estimators=400 \n",
      "[CV]  max_depth=20, min_samples_leaf=1, min_samples_split=5, n_estimators=400, score=0.790, total=   0.6s\n",
      "[CV] max_depth=20, min_samples_leaf=1, min_samples_split=5, n_estimators=400 \n",
      "[CV]  max_depth=20, min_samples_leaf=1, min_samples_split=5, n_estimators=400, score=0.857, total=   0.6s\n",
      "[CV] max_depth=20, min_samples_leaf=1, min_samples_split=5, n_estimators=400 \n",
      "[CV]  max_depth=20, min_samples_leaf=1, min_samples_split=5, n_estimators=400, score=0.838, total=   0.6s\n",
      "[CV] max_depth=20, min_samples_leaf=2, min_samples_split=2, n_estimators=200 \n",
      "[CV]  max_depth=20, min_samples_leaf=2, min_samples_split=2, n_estimators=200, score=0.752, total=   0.3s\n",
      "[CV] max_depth=20, min_samples_leaf=2, min_samples_split=2, n_estimators=200 \n",
      "[CV]  max_depth=20, min_samples_leaf=2, min_samples_split=2, n_estimators=200, score=0.838, total=   0.3s\n",
      "[CV] max_depth=20, min_samples_leaf=2, min_samples_split=2, n_estimators=200 \n",
      "[CV]  max_depth=20, min_samples_leaf=2, min_samples_split=2, n_estimators=200, score=0.810, total=   0.3s\n",
      "[CV] max_depth=20, min_samples_leaf=2, min_samples_split=2, n_estimators=200 \n",
      "[CV]  max_depth=20, min_samples_leaf=2, min_samples_split=2, n_estimators=200, score=0.857, total=   0.3s\n",
      "[CV] max_depth=20, min_samples_leaf=2, min_samples_split=2, n_estimators=200 \n",
      "[CV]  max_depth=20, min_samples_leaf=2, min_samples_split=2, n_estimators=200, score=0.838, total=   0.3s\n",
      "[CV] max_depth=20, min_samples_leaf=2, min_samples_split=2, n_estimators=400 \n",
      "[CV]  max_depth=20, min_samples_leaf=2, min_samples_split=2, n_estimators=400, score=0.743, total=   0.6s\n",
      "[CV] max_depth=20, min_samples_leaf=2, min_samples_split=2, n_estimators=400 \n",
      "[CV]  max_depth=20, min_samples_leaf=2, min_samples_split=2, n_estimators=400, score=0.857, total=   0.6s\n",
      "[CV] max_depth=20, min_samples_leaf=2, min_samples_split=2, n_estimators=400 \n",
      "[CV]  max_depth=20, min_samples_leaf=2, min_samples_split=2, n_estimators=400, score=0.771, total=   0.6s\n",
      "[CV] max_depth=20, min_samples_leaf=2, min_samples_split=2, n_estimators=400 \n",
      "[CV]  max_depth=20, min_samples_leaf=2, min_samples_split=2, n_estimators=400, score=0.867, total=   0.7s\n",
      "[CV] max_depth=20, min_samples_leaf=2, min_samples_split=2, n_estimators=400 \n",
      "[CV]  max_depth=20, min_samples_leaf=2, min_samples_split=2, n_estimators=400, score=0.848, total=   0.6s\n",
      "[CV] max_depth=20, min_samples_leaf=2, min_samples_split=5, n_estimators=200 \n",
      "[CV]  max_depth=20, min_samples_leaf=2, min_samples_split=5, n_estimators=200, score=0.762, total=   0.3s\n",
      "[CV] max_depth=20, min_samples_leaf=2, min_samples_split=5, n_estimators=200 \n",
      "[CV]  max_depth=20, min_samples_leaf=2, min_samples_split=5, n_estimators=200, score=0.857, total=   0.3s\n",
      "[CV] max_depth=20, min_samples_leaf=2, min_samples_split=5, n_estimators=200 \n",
      "[CV]  max_depth=20, min_samples_leaf=2, min_samples_split=5, n_estimators=200, score=0.781, total=   0.3s\n",
      "[CV] max_depth=20, min_samples_leaf=2, min_samples_split=5, n_estimators=200 \n",
      "[CV]  max_depth=20, min_samples_leaf=2, min_samples_split=5, n_estimators=200, score=0.876, total=   0.3s\n",
      "[CV] max_depth=20, min_samples_leaf=2, min_samples_split=5, n_estimators=200 \n",
      "[CV]  max_depth=20, min_samples_leaf=2, min_samples_split=5, n_estimators=200, score=0.829, total=   0.3s\n",
      "[CV] max_depth=20, min_samples_leaf=2, min_samples_split=5, n_estimators=400 \n",
      "[CV]  max_depth=20, min_samples_leaf=2, min_samples_split=5, n_estimators=400, score=0.733, total=   0.6s\n",
      "[CV] max_depth=20, min_samples_leaf=2, min_samples_split=5, n_estimators=400 \n",
      "[CV]  max_depth=20, min_samples_leaf=2, min_samples_split=5, n_estimators=400, score=0.838, total=   0.6s\n",
      "[CV] max_depth=20, min_samples_leaf=2, min_samples_split=5, n_estimators=400 \n",
      "[CV]  max_depth=20, min_samples_leaf=2, min_samples_split=5, n_estimators=400, score=0.781, total=   0.6s\n",
      "[CV] max_depth=20, min_samples_leaf=2, min_samples_split=5, n_estimators=400 \n",
      "[CV]  max_depth=20, min_samples_leaf=2, min_samples_split=5, n_estimators=400, score=0.867, total=   0.6s\n",
      "[CV] max_depth=20, min_samples_leaf=2, min_samples_split=5, n_estimators=400 \n",
      "[CV]  max_depth=20, min_samples_leaf=2, min_samples_split=5, n_estimators=400, score=0.838, total=   0.6s\n",
      "[CV] max_depth=None, min_samples_leaf=1, min_samples_split=2, n_estimators=200 \n",
      "[CV]  max_depth=None, min_samples_leaf=1, min_samples_split=2, n_estimators=200, score=0.733, total=   0.3s\n",
      "[CV] max_depth=None, min_samples_leaf=1, min_samples_split=2, n_estimators=200 \n",
      "[CV]  max_depth=None, min_samples_leaf=1, min_samples_split=2, n_estimators=200, score=0.867, total=   0.3s\n",
      "[CV] max_depth=None, min_samples_leaf=1, min_samples_split=2, n_estimators=200 \n",
      "[CV]  max_depth=None, min_samples_leaf=1, min_samples_split=2, n_estimators=200, score=0.790, total=   0.3s\n",
      "[CV] max_depth=None, min_samples_leaf=1, min_samples_split=2, n_estimators=200 \n",
      "[CV]  max_depth=None, min_samples_leaf=1, min_samples_split=2, n_estimators=200, score=0.876, total=   0.3s\n",
      "[CV] max_depth=None, min_samples_leaf=1, min_samples_split=2, n_estimators=200 \n",
      "[CV]  max_depth=None, min_samples_leaf=1, min_samples_split=2, n_estimators=200, score=0.848, total=   0.3s\n",
      "[CV] max_depth=None, min_samples_leaf=1, min_samples_split=2, n_estimators=400 \n",
      "[CV]  max_depth=None, min_samples_leaf=1, min_samples_split=2, n_estimators=400, score=0.733, total=   0.6s\n",
      "[CV] max_depth=None, min_samples_leaf=1, min_samples_split=2, n_estimators=400 \n",
      "[CV]  max_depth=None, min_samples_leaf=1, min_samples_split=2, n_estimators=400, score=0.867, total=   0.6s\n",
      "[CV] max_depth=None, min_samples_leaf=1, min_samples_split=2, n_estimators=400 \n",
      "[CV]  max_depth=None, min_samples_leaf=1, min_samples_split=2, n_estimators=400, score=0.790, total=   0.6s\n",
      "[CV] max_depth=None, min_samples_leaf=1, min_samples_split=2, n_estimators=400 \n",
      "[CV]  max_depth=None, min_samples_leaf=1, min_samples_split=2, n_estimators=400, score=0.857, total=   0.6s\n",
      "[CV] max_depth=None, min_samples_leaf=1, min_samples_split=2, n_estimators=400 \n",
      "[CV]  max_depth=None, min_samples_leaf=1, min_samples_split=2, n_estimators=400, score=0.867, total=   0.6s\n",
      "[CV] max_depth=None, min_samples_leaf=1, min_samples_split=5, n_estimators=200 \n",
      "[CV]  max_depth=None, min_samples_leaf=1, min_samples_split=5, n_estimators=200, score=0.743, total=   0.3s\n",
      "[CV] max_depth=None, min_samples_leaf=1, min_samples_split=5, n_estimators=200 \n",
      "[CV]  max_depth=None, min_samples_leaf=1, min_samples_split=5, n_estimators=200, score=0.838, total=   0.3s\n",
      "[CV] max_depth=None, min_samples_leaf=1, min_samples_split=5, n_estimators=200 \n"
     ]
    },
    {
     "name": "stdout",
     "output_type": "stream",
     "text": [
      "[CV]  max_depth=None, min_samples_leaf=1, min_samples_split=5, n_estimators=200, score=0.800, total=   0.3s\n",
      "[CV] max_depth=None, min_samples_leaf=1, min_samples_split=5, n_estimators=200 \n",
      "[CV]  max_depth=None, min_samples_leaf=1, min_samples_split=5, n_estimators=200, score=0.867, total=   0.3s\n",
      "[CV] max_depth=None, min_samples_leaf=1, min_samples_split=5, n_estimators=200 \n",
      "[CV]  max_depth=None, min_samples_leaf=1, min_samples_split=5, n_estimators=200, score=0.857, total=   0.3s\n",
      "[CV] max_depth=None, min_samples_leaf=1, min_samples_split=5, n_estimators=400 \n",
      "[CV]  max_depth=None, min_samples_leaf=1, min_samples_split=5, n_estimators=400, score=0.743, total=   0.6s\n",
      "[CV] max_depth=None, min_samples_leaf=1, min_samples_split=5, n_estimators=400 \n",
      "[CV]  max_depth=None, min_samples_leaf=1, min_samples_split=5, n_estimators=400, score=0.857, total=   0.6s\n",
      "[CV] max_depth=None, min_samples_leaf=1, min_samples_split=5, n_estimators=400 \n",
      "[CV]  max_depth=None, min_samples_leaf=1, min_samples_split=5, n_estimators=400, score=0.781, total=   0.6s\n",
      "[CV] max_depth=None, min_samples_leaf=1, min_samples_split=5, n_estimators=400 \n",
      "[CV]  max_depth=None, min_samples_leaf=1, min_samples_split=5, n_estimators=400, score=0.857, total=   0.6s\n",
      "[CV] max_depth=None, min_samples_leaf=1, min_samples_split=5, n_estimators=400 \n",
      "[CV]  max_depth=None, min_samples_leaf=1, min_samples_split=5, n_estimators=400, score=0.857, total=   0.6s\n",
      "[CV] max_depth=None, min_samples_leaf=2, min_samples_split=2, n_estimators=200 \n",
      "[CV]  max_depth=None, min_samples_leaf=2, min_samples_split=2, n_estimators=200, score=0.752, total=   0.3s\n",
      "[CV] max_depth=None, min_samples_leaf=2, min_samples_split=2, n_estimators=200 \n",
      "[CV]  max_depth=None, min_samples_leaf=2, min_samples_split=2, n_estimators=200, score=0.857, total=   0.3s\n",
      "[CV] max_depth=None, min_samples_leaf=2, min_samples_split=2, n_estimators=200 \n",
      "[CV]  max_depth=None, min_samples_leaf=2, min_samples_split=2, n_estimators=200, score=0.800, total=   0.3s\n",
      "[CV] max_depth=None, min_samples_leaf=2, min_samples_split=2, n_estimators=200 \n",
      "[CV]  max_depth=None, min_samples_leaf=2, min_samples_split=2, n_estimators=200, score=0.876, total=   0.3s\n",
      "[CV] max_depth=None, min_samples_leaf=2, min_samples_split=2, n_estimators=200 \n",
      "[CV]  max_depth=None, min_samples_leaf=2, min_samples_split=2, n_estimators=200, score=0.848, total=   0.3s\n",
      "[CV] max_depth=None, min_samples_leaf=2, min_samples_split=2, n_estimators=400 \n",
      "[CV]  max_depth=None, min_samples_leaf=2, min_samples_split=2, n_estimators=400, score=0.733, total=   0.6s\n",
      "[CV] max_depth=None, min_samples_leaf=2, min_samples_split=2, n_estimators=400 \n",
      "[CV]  max_depth=None, min_samples_leaf=2, min_samples_split=2, n_estimators=400, score=0.876, total=   0.6s\n",
      "[CV] max_depth=None, min_samples_leaf=2, min_samples_split=2, n_estimators=400 \n",
      "[CV]  max_depth=None, min_samples_leaf=2, min_samples_split=2, n_estimators=400, score=0.790, total=   0.6s\n",
      "[CV] max_depth=None, min_samples_leaf=2, min_samples_split=2, n_estimators=400 \n",
      "[CV]  max_depth=None, min_samples_leaf=2, min_samples_split=2, n_estimators=400, score=0.876, total=   0.6s\n",
      "[CV] max_depth=None, min_samples_leaf=2, min_samples_split=2, n_estimators=400 \n",
      "[CV]  max_depth=None, min_samples_leaf=2, min_samples_split=2, n_estimators=400, score=0.848, total=   0.6s\n",
      "[CV] max_depth=None, min_samples_leaf=2, min_samples_split=5, n_estimators=200 \n",
      "[CV]  max_depth=None, min_samples_leaf=2, min_samples_split=5, n_estimators=200, score=0.762, total=   0.3s\n",
      "[CV] max_depth=None, min_samples_leaf=2, min_samples_split=5, n_estimators=200 \n",
      "[CV]  max_depth=None, min_samples_leaf=2, min_samples_split=5, n_estimators=200, score=0.838, total=   0.3s\n",
      "[CV] max_depth=None, min_samples_leaf=2, min_samples_split=5, n_estimators=200 \n",
      "[CV]  max_depth=None, min_samples_leaf=2, min_samples_split=5, n_estimators=200, score=0.790, total=   0.3s\n",
      "[CV] max_depth=None, min_samples_leaf=2, min_samples_split=5, n_estimators=200 \n",
      "[CV]  max_depth=None, min_samples_leaf=2, min_samples_split=5, n_estimators=200, score=0.848, total=   0.3s\n",
      "[CV] max_depth=None, min_samples_leaf=2, min_samples_split=5, n_estimators=200 \n",
      "[CV]  max_depth=None, min_samples_leaf=2, min_samples_split=5, n_estimators=200, score=0.857, total=   0.3s\n",
      "[CV] max_depth=None, min_samples_leaf=2, min_samples_split=5, n_estimators=400 \n",
      "[CV]  max_depth=None, min_samples_leaf=2, min_samples_split=5, n_estimators=400, score=0.733, total=   0.6s\n",
      "[CV] max_depth=None, min_samples_leaf=2, min_samples_split=5, n_estimators=400 \n",
      "[CV]  max_depth=None, min_samples_leaf=2, min_samples_split=5, n_estimators=400, score=0.838, total=   0.6s\n",
      "[CV] max_depth=None, min_samples_leaf=2, min_samples_split=5, n_estimators=400 \n",
      "[CV]  max_depth=None, min_samples_leaf=2, min_samples_split=5, n_estimators=400, score=0.800, total=   0.6s\n",
      "[CV] max_depth=None, min_samples_leaf=2, min_samples_split=5, n_estimators=400 \n",
      "[CV]  max_depth=None, min_samples_leaf=2, min_samples_split=5, n_estimators=400, score=0.876, total=   0.6s\n",
      "[CV] max_depth=None, min_samples_leaf=2, min_samples_split=5, n_estimators=400 \n",
      "[CV]  max_depth=None, min_samples_leaf=2, min_samples_split=5, n_estimators=400, score=0.857, total=   0.6s\n"
     ]
    },
    {
     "name": "stderr",
     "output_type": "stream",
     "text": [
      "[Parallel(n_jobs=1)]: Done 120 out of 120 | elapsed:   54.7s finished\n"
     ]
    },
    {
     "data": {
      "text/plain": [
       "GridSearchCV(estimator=RandomForestClassifier(n_estimators=200),\n",
       "             param_grid={'max_depth': [10, 20, None],\n",
       "                         'min_samples_leaf': [1, 2],\n",
       "                         'min_samples_split': [2, 5],\n",
       "                         'n_estimators': [200, 400]},\n",
       "             verbose=3)"
      ]
     },
     "execution_count": 406,
     "metadata": {},
     "output_type": "execute_result"
    }
   ],
   "source": [
    "grid.fit(X_train_scaled, y_train)"
   ]
  },
  {
   "cell_type": "code",
   "execution_count": 407,
   "metadata": {},
   "outputs": [
    {
     "name": "stdout",
     "output_type": "stream",
     "text": [
      "{'max_depth': 20, 'min_samples_leaf': 1, 'min_samples_split': 2, 'n_estimators': 200}\n",
      "0.8304761904761904\n"
     ]
    }
   ],
   "source": [
    "print(grid.best_params_)\n",
    "print(grid.best_score_)"
   ]
  },
  {
   "cell_type": "markdown",
   "metadata": {},
   "source": [
    "# KNN"
   ]
  },
  {
   "cell_type": "code",
   "execution_count": 606,
   "metadata": {},
   "outputs": [],
   "source": [
    "from sklearn.neighbors import KNeighborsClassifier"
   ]
  },
  {
   "cell_type": "code",
   "execution_count": 607,
   "metadata": {},
   "outputs": [],
   "source": [
    "from sklearn.preprocessing import StandardScaler\n",
    "\n",
    "X_scaler = StandardScaler().fit(X_train)"
   ]
  },
  {
   "cell_type": "code",
   "execution_count": 608,
   "metadata": {},
   "outputs": [],
   "source": [
    "X_train_scaled = X_scaler.transform(X_train)\n",
    "X_test_scaled = X_scaler.transform(X_test)"
   ]
  },
  {
   "cell_type": "code",
   "execution_count": 609,
   "metadata": {
    "scrolled": false
   },
   "outputs": [
    {
     "name": "stdout",
     "output_type": "stream",
     "text": [
      "k: 1, Train/Test Score: 1.000/0.709\n",
      "k: 3, Train/Test Score: 0.851/0.697\n",
      "k: 5, Train/Test Score: 0.821/0.726\n",
      "k: 7, Train/Test Score: 0.813/0.726\n",
      "k: 9, Train/Test Score: 0.813/0.709\n",
      "k: 11, Train/Test Score: 0.804/0.743\n",
      "k: 13, Train/Test Score: 0.810/0.743\n",
      "k: 15, Train/Test Score: 0.802/0.749\n",
      "k: 17, Train/Test Score: 0.796/0.754\n",
      "k: 19, Train/Test Score: 0.790/0.743\n"
     ]
    },
    {
     "data": {
      "image/png": "[encoded data removed]",
      "text/plain": [
       "<Figure size 432x288 with 1 Axes>"
      ]
     },
     "metadata": {
      "needs_background": "light"
     },
     "output_type": "display_data"
    }
   ],
   "source": [
    "train_scores = []\n",
    "test_scores = []\n",
    "for k in range(1, 20, 2):\n",
    "    knn = KNeighborsClassifier(n_neighbors=k)\n",
    "    knn.fit(X_train_scaled, y_train)\n",
    "    train_score = knn.score(X_train_scaled, y_train)\n",
    "    test_score = knn.score(X_test_scaled, y_test)\n",
    "    train_scores.append(train_score)\n",
    "    test_scores.append(test_score)\n",
    "    print(f\"k: {k}, Train/Test Score: {train_score:.3f}/{test_score:.3f}\")\n",
    "    \n",
    "    \n",
    "plt.plot(range(1, 20, 2), train_scores, marker='o')\n",
    "plt.plot(range(1, 20, 2), test_scores, marker=\"x\")\n",
    "plt.xlabel(\"k neighbors\")\n",
    "plt.ylabel(\"Testing accuracy Score\")\n",
    "plt.show()"
   ]
  },
  {
   "cell_type": "code",
   "execution_count": 610,
   "metadata": {},
   "outputs": [
    {
     "name": "stdout",
     "output_type": "stream",
     "text": [
      "k=13 Test Acc: 0.743\n"
     ]
    }
   ],
   "source": [
    "knn = KNeighborsClassifier(n_neighbors=13)\n",
    "knn.fit(X_train_scaled, y_train)\n",
    "print('k=13 Test Acc: %.3f' % knn.score(X_test_scaled, y_test))"
   ]
  },
  {
   "cell_type": "markdown",
   "metadata": {},
   "source": [
    "# SVM"
   ]
  },
  {
   "cell_type": "code",
   "execution_count": 611,
   "metadata": {},
   "outputs": [
    {
     "name": "stdout",
     "output_type": "stream",
     "text": [
      "(700, 12) (700,)\n"
     ]
    }
   ],
   "source": [
    "X = cleaned_data.drop(\"secondary_genres\", axis=1)\n",
    "y = cleaned_data[\"secondary_genres\"]\n",
    "print(X.shape, y.shape)"
   ]
  },
  {
   "cell_type": "code",
   "execution_count": 612,
   "metadata": {},
   "outputs": [],
   "source": [
    "from sklearn.model_selection import train_test_split\n",
    "\n",
    "X_train, X_test, y_train, y_test = train_test_split(X, y, random_state=1)"
   ]
  },
  {
   "cell_type": "code",
   "execution_count": 613,
   "metadata": {},
   "outputs": [],
   "source": [
    "from sklearn.svm import SVC \n",
    "model = SVC(kernel='linear')"
   ]
  },
  {
   "cell_type": "code",
   "execution_count": 614,
   "metadata": {},
   "outputs": [],
   "source": [
    "from sklearn.preprocessing import MinMaxScaler\n",
    "X_Scaler=MinMaxScaler().fit(X_train)\n",
    "X_train_scaled = X_Scaler.transform(X_train)\n",
    "X_test_scaled = X_Scaler.transform(X_test)"
   ]
  },
  {
   "cell_type": "code",
   "execution_count": 615,
   "metadata": {},
   "outputs": [
    {
     "data": {
      "text/plain": [
       "SVC(kernel='linear')"
      ]
     },
     "execution_count": 615,
     "metadata": {},
     "output_type": "execute_result"
    }
   ],
   "source": [
    "model.fit(X_train_scaled, y_train)"
   ]
  },
  {
   "cell_type": "code",
   "execution_count": 616,
   "metadata": {},
   "outputs": [
    {
     "name": "stdout",
     "output_type": "stream",
     "text": [
      "Training Data Score: 0.820952380952381\n",
      "Testing Data Score: 0.8114285714285714\n"
     ]
    }
   ],
   "source": [
    "print(f\"Training Data Score: {model.score(X_train_scaled, y_train)}\")\n",
    "print(f\"Testing Data Score: {model.score(X_test_scaled, y_test)}\")"
   ]
  },
  {
   "cell_type": "markdown",
   "metadata": {},
   "source": [
    "# Hyperparameter Tuning"
   ]
  },
  {
   "cell_type": "code",
   "execution_count": 401,
   "metadata": {},
   "outputs": [],
   "source": [
    "# Create the GridSearchCV model\n",
    "from sklearn.model_selection import GridSearchCV\n",
    "param_grid = {'C': [1, 5, 10],\n",
    "              'gamma': [0.0001, 0.001, 0.01]}\n",
    "grid = GridSearchCV(model, param_grid, verbose=3)"
   ]
  },
  {
   "cell_type": "code",
   "execution_count": 402,
   "metadata": {},
   "outputs": [
    {
     "name": "stdout",
     "output_type": "stream",
     "text": [
      "Fitting 5 folds for each of 9 candidates, totalling 45 fits\n",
      "[CV] C=1, gamma=0.0001 ...............................................\n",
      "[CV] ................... C=1, gamma=0.0001, score=0.752, total=   0.0s\n",
      "[CV] C=1, gamma=0.0001 ...............................................\n",
      "[CV] ................... C=1, gamma=0.0001, score=0.819, total=   0.0s\n",
      "[CV] C=1, gamma=0.0001 ...............................................\n",
      "[CV] ................... C=1, gamma=0.0001, score=0.695, total=   0.0s\n",
      "[CV] C=1, gamma=0.0001 ...............................................\n",
      "[CV] ................... C=1, gamma=0.0001, score=0.800, total=   0.0s\n",
      "[CV] C=1, gamma=0.0001 ...............................................\n",
      "[CV] ................... C=1, gamma=0.0001, score=0.810, total=   0.0s\n",
      "[CV] C=1, gamma=0.001 ................................................\n",
      "[CV] .................... C=1, gamma=0.001, score=0.752, total=   0.0s\n",
      "[CV] C=1, gamma=0.001 ................................................\n",
      "[CV] .................... C=1, gamma=0.001, score=0.819, total=   0.0s\n",
      "[CV] C=1, gamma=0.001 ................................................\n",
      "[CV] .................... C=1, gamma=0.001, score=0.695, total=   0.0s\n",
      "[CV] C=1, gamma=0.001 ................................................\n",
      "[CV] .................... C=1, gamma=0.001, score=0.800, total=   0.0s\n",
      "[CV] C=1, gamma=0.001 ................................................\n",
      "[CV] .................... C=1, gamma=0.001, score=0.810, total=   0.0s\n",
      "[CV] C=1, gamma=0.01 .................................................\n",
      "[CV] ..................... C=1, gamma=0.01, score=0.752, total=   0.0s\n",
      "[CV] C=1, gamma=0.01 .................................................\n",
      "[CV] ..................... C=1, gamma=0.01, score=0.819, total=   0.0s\n",
      "[CV] C=1, gamma=0.01 .................................................\n",
      "[CV] ..................... C=1, gamma=0.01, score=0.695, total=   0.0s\n",
      "[CV] C=1, gamma=0.01 .................................................\n",
      "[CV] ..................... C=1, gamma=0.01, score=0.800, total=   0.0s\n",
      "[CV] C=1, gamma=0.01 .................................................\n",
      "[CV] ..................... C=1, gamma=0.01, score=0.810, total=   0.0s\n",
      "[CV] C=5, gamma=0.0001 ...............................................\n",
      "[CV] ................... C=5, gamma=0.0001, score=0.771, total=   0.0s\n",
      "[CV] C=5, gamma=0.0001 ...............................................\n",
      "[CV] ................... C=5, gamma=0.0001, score=0.810, total=   0.0s\n",
      "[CV] C=5, gamma=0.0001 ...............................................\n",
      "[CV] ................... C=5, gamma=0.0001, score=0.743, total=   0.0s\n",
      "[CV] C=5, gamma=0.0001 ...............................................\n",
      "[CV] ................... C=5, gamma=0.0001, score=0.800, total=   0.0s\n",
      "[CV] C=5, gamma=0.0001 ...............................................\n",
      "[CV] ................... C=5, gamma=0.0001, score=0.810, total=   0.0s\n",
      "[CV] C=5, gamma=0.001 ................................................\n",
      "[CV] .................... C=5, gamma=0.001, score=0.771, total=   0.0s\n",
      "[CV] C=5, gamma=0.001 ................................................\n",
      "[CV] .................... C=5, gamma=0.001, score=0.810, total=   0.0s\n",
      "[CV] C=5, gamma=0.001 ................................................\n",
      "[CV] .................... C=5, gamma=0.001, score=0.743, total=   0.0s\n",
      "[CV] C=5, gamma=0.001 ................................................\n",
      "[CV] .................... C=5, gamma=0.001, score=0.800, total=   0.0s\n",
      "[CV] C=5, gamma=0.001 ................................................\n",
      "[CV] .................... C=5, gamma=0.001, score=0.810, total=   0.0s\n",
      "[CV] C=5, gamma=0.01 .................................................\n",
      "[CV] ..................... C=5, gamma=0.01, score=0.771, total=   0.0s\n",
      "[CV] C=5, gamma=0.01 .................................................\n",
      "[CV] ..................... C=5, gamma=0.01, score=0.810, total=   0.0s\n",
      "[CV] C=5, gamma=0.01 .................................................\n",
      "[CV] ..................... C=5, gamma=0.01, score=0.743, total=   0.0s\n",
      "[CV] C=5, gamma=0.01 .................................................\n",
      "[CV] ..................... C=5, gamma=0.01, score=0.800, total=   0.0s\n",
      "[CV] C=5, gamma=0.01 .................................................\n",
      "[CV] ..................... C=5, gamma=0.01, score=0.810, total=   0.0s\n",
      "[CV] C=10, gamma=0.0001 ..............................................\n",
      "[CV] .................. C=10, gamma=0.0001, score=0.771, total=   0.0s\n",
      "[CV] C=10, gamma=0.0001 ..............................................\n",
      "[CV] .................. C=10, gamma=0.0001, score=0.810, total=   0.0s\n",
      "[CV] C=10, gamma=0.0001 ..............................................\n",
      "[CV] .................. C=10, gamma=0.0001, score=0.743, total=   0.0s\n",
      "[CV] C=10, gamma=0.0001 ..............................................\n",
      "[CV] .................. C=10, gamma=0.0001, score=0.810, total=   0.0s\n",
      "[CV] C=10, gamma=0.0001 ..............................................\n",
      "[CV] .................. C=10, gamma=0.0001, score=0.800, total=   0.0s\n",
      "[CV] C=10, gamma=0.001 ...............................................\n"
     ]
    },
    {
     "name": "stderr",
     "output_type": "stream",
     "text": [
      "[Parallel(n_jobs=1)]: Using backend SequentialBackend with 1 concurrent workers.\n",
      "[Parallel(n_jobs=1)]: Done   1 out of   1 | elapsed:    0.0s remaining:    0.0s\n",
      "[Parallel(n_jobs=1)]: Done   2 out of   2 | elapsed:    0.0s remaining:    0.0s\n"
     ]
    },
    {
     "name": "stdout",
     "output_type": "stream",
     "text": [
      "[CV] ................... C=10, gamma=0.001, score=0.771, total=   0.0s\n",
      "[CV] C=10, gamma=0.001 ...............................................\n",
      "[CV] ................... C=10, gamma=0.001, score=0.810, total=   0.0s\n",
      "[CV] C=10, gamma=0.001 ...............................................\n",
      "[CV] ................... C=10, gamma=0.001, score=0.743, total=   0.0s\n",
      "[CV] C=10, gamma=0.001 ...............................................\n",
      "[CV] ................... C=10, gamma=0.001, score=0.810, total=   0.0s\n",
      "[CV] C=10, gamma=0.001 ...............................................\n",
      "[CV] ................... C=10, gamma=0.001, score=0.800, total=   0.0s\n",
      "[CV] C=10, gamma=0.01 ................................................\n",
      "[CV] .................... C=10, gamma=0.01, score=0.771, total=   0.0s\n",
      "[CV] C=10, gamma=0.01 ................................................\n",
      "[CV] .................... C=10, gamma=0.01, score=0.810, total=   0.0s\n",
      "[CV] C=10, gamma=0.01 ................................................\n",
      "[CV] .................... C=10, gamma=0.01, score=0.743, total=   0.0s\n",
      "[CV] C=10, gamma=0.01 ................................................\n",
      "[CV] .................... C=10, gamma=0.01, score=0.810, total=   0.0s\n",
      "[CV] C=10, gamma=0.01 ................................................\n",
      "[CV] .................... C=10, gamma=0.01, score=0.800, total=   0.0s\n"
     ]
    },
    {
     "name": "stderr",
     "output_type": "stream",
     "text": [
      "[Parallel(n_jobs=1)]: Done  45 out of  45 | elapsed:    0.1s finished\n"
     ]
    },
    {
     "data": {
      "text/plain": [
       "GridSearchCV(estimator=SVC(kernel='linear'),\n",
       "             param_grid={'C': [1, 5, 10], 'gamma': [0.0001, 0.001, 0.01]},\n",
       "             verbose=3)"
      ]
     },
     "execution_count": 402,
     "metadata": {},
     "output_type": "execute_result"
    }
   ],
   "source": [
    "grid.fit(X_train_scaled, y_train)"
   ]
  },
  {
   "cell_type": "code",
   "execution_count": 403,
   "metadata": {},
   "outputs": [
    {
     "name": "stdout",
     "output_type": "stream",
     "text": [
      "{'C': 5, 'gamma': 0.0001}\n",
      "0.7866666666666667\n"
     ]
    }
   ],
   "source": [
    "print(grid.best_params_)\n",
    "print(grid.best_score_)"
   ]
  },
  {
   "cell_type": "markdown",
   "metadata": {},
   "source": [
    "# Neural Network"
   ]
  },
  {
   "cell_type": "code",
   "execution_count": 617,
   "metadata": {},
   "outputs": [
    {
     "name": "stdout",
     "output_type": "stream",
     "text": [
      "(700, 12) (700,)\n"
     ]
    }
   ],
   "source": [
    "X = cleaned_data.drop(\"secondary_genres\", axis=1)\n",
    "y = cleaned_data[\"secondary_genres\"]\n",
    "print(X.shape, y.shape)"
   ]
  },
  {
   "cell_type": "code",
   "execution_count": 618,
   "metadata": {},
   "outputs": [],
   "source": [
    "from sklearn.model_selection import train_test_split\n",
    "from sklearn.preprocessing import LabelEncoder, MinMaxScaler\n",
    "from tensorflow.keras.utils import to_categorical"
   ]
  },
  {
   "cell_type": "code",
   "execution_count": 619,
   "metadata": {},
   "outputs": [],
   "source": [
    "X_train, X_test, y_train, y_test = train_test_split(\n",
    "    X, y, random_state=1)"
   ]
  },
  {
   "cell_type": "code",
   "execution_count": 620,
   "metadata": {},
   "outputs": [],
   "source": [
    "X_scaler = MinMaxScaler().fit(X_train)\n",
    "X_train_scaled = X_scaler.transform(X_train)\n",
    "X_test_scaled = X_scaler.transform(X_test)"
   ]
  },
  {
   "cell_type": "code",
   "execution_count": 621,
   "metadata": {},
   "outputs": [],
   "source": [
    "label_encoder = LabelEncoder()\n",
    "label_encoder.fit(y_train)\n",
    "encoded_y_train = label_encoder.transform(y_train)\n",
    "encoded_y_test = label_encoder.transform(y_test)"
   ]
  },
  {
   "cell_type": "code",
   "execution_count": 622,
   "metadata": {},
   "outputs": [],
   "source": [
    "y_train_categorical = to_categorical(encoded_y_train)\n",
    "y_test_categorical = to_categorical(encoded_y_test)"
   ]
  },
  {
   "cell_type": "code",
   "execution_count": 623,
   "metadata": {},
   "outputs": [],
   "source": [
    "from tensorflow.keras.models import Sequential\n",
    "from tensorflow.keras.layers import Dense"
   ]
  },
  {
   "cell_type": "code",
   "execution_count": 624,
   "metadata": {},
   "outputs": [],
   "source": [
    "model = Sequential()\n",
    "model.add(Dense(units=100, activation='relu', input_dim=12))\n",
    "model.add(Dense(units=100, activation='relu'))\n",
    "model.add(Dense(units=7, activation='softmax'))"
   ]
  },
  {
   "cell_type": "code",
   "execution_count": 625,
   "metadata": {},
   "outputs": [],
   "source": [
    "model.compile(optimizer='adam',\n",
    "              loss='categorical_crossentropy',\n",
    "              metrics=['accuracy'])"
   ]
  },
  {
   "cell_type": "code",
   "execution_count": 626,
   "metadata": {},
   "outputs": [
    {
     "name": "stdout",
     "output_type": "stream",
     "text": [
      "Model: \"sequential_12\"\n",
      "_________________________________________________________________\n",
      "Layer (type)                 Output Shape              Param #   \n",
      "=================================================================\n",
      "dense_36 (Dense)             (None, 100)               1300      \n",
      "_________________________________________________________________\n",
      "dense_37 (Dense)             (None, 100)               10100     \n",
      "_________________________________________________________________\n",
      "dense_38 (Dense)             (None, 7)                 707       \n",
      "=================================================================\n",
      "Total params: 12,107\n",
      "Trainable params: 12,107\n",
      "Non-trainable params: 0\n",
      "_________________________________________________________________\n"
     ]
    }
   ],
   "source": [
    "model.summary()"
   ]
  },
  {
   "cell_type": "code",
   "execution_count": 627,
   "metadata": {},
   "outputs": [
    {
     "name": "stdout",
     "output_type": "stream",
     "text": [
      "Train on 525 samples\n",
      "Epoch 1/60\n",
      "525/525 - 0s - loss: 1.8699 - accuracy: 0.3314\n",
      "Epoch 2/60\n",
      "525/525 - 0s - loss: 1.6815 - accuracy: 0.5048\n",
      "Epoch 3/60\n",
      "525/525 - 0s - loss: 1.4630 - accuracy: 0.5410\n",
      "Epoch 4/60\n",
      "525/525 - 0s - loss: 1.2658 - accuracy: 0.5905\n",
      "Epoch 5/60\n",
      "525/525 - 0s - loss: 1.1106 - accuracy: 0.6667\n",
      "Epoch 6/60\n",
      "525/525 - 0s - loss: 1.0070 - accuracy: 0.6971\n",
      "Epoch 7/60\n",
      "525/525 - 0s - loss: 0.9164 - accuracy: 0.7086\n",
      "Epoch 8/60\n",
      "525/525 - 0s - loss: 0.8529 - accuracy: 0.7143\n",
      "Epoch 9/60\n",
      "525/525 - 0s - loss: 0.8162 - accuracy: 0.7276\n",
      "Epoch 10/60\n",
      "525/525 - 0s - loss: 0.7758 - accuracy: 0.7390\n",
      "Epoch 11/60\n",
      "525/525 - 0s - loss: 0.7468 - accuracy: 0.7448\n",
      "Epoch 12/60\n",
      "525/525 - 0s - loss: 0.7198 - accuracy: 0.7543\n",
      "Epoch 13/60\n",
      "525/525 - 0s - loss: 0.7007 - accuracy: 0.7752\n",
      "Epoch 14/60\n",
      "525/525 - 0s - loss: 0.6915 - accuracy: 0.7600\n",
      "Epoch 15/60\n",
      "525/525 - 0s - loss: 0.6713 - accuracy: 0.7695\n",
      "Epoch 16/60\n",
      "525/525 - 0s - loss: 0.6620 - accuracy: 0.7771\n",
      "Epoch 17/60\n",
      "525/525 - 0s - loss: 0.6592 - accuracy: 0.7810\n",
      "Epoch 18/60\n",
      "525/525 - 0s - loss: 0.6410 - accuracy: 0.8038\n",
      "Epoch 19/60\n",
      "525/525 - 0s - loss: 0.6287 - accuracy: 0.7848\n",
      "Epoch 20/60\n",
      "525/525 - 0s - loss: 0.6285 - accuracy: 0.7981\n",
      "Epoch 21/60\n",
      "525/525 - 0s - loss: 0.6166 - accuracy: 0.8000\n",
      "Epoch 22/60\n",
      "525/525 - 0s - loss: 0.6113 - accuracy: 0.8095\n",
      "Epoch 23/60\n",
      "525/525 - 0s - loss: 0.6067 - accuracy: 0.8076\n",
      "Epoch 24/60\n",
      "525/525 - 0s - loss: 0.6000 - accuracy: 0.7771\n",
      "Epoch 25/60\n",
      "525/525 - 0s - loss: 0.5833 - accuracy: 0.8133\n",
      "Epoch 26/60\n",
      "525/525 - 0s - loss: 0.5841 - accuracy: 0.8210\n",
      "Epoch 27/60\n",
      "525/525 - 0s - loss: 0.5853 - accuracy: 0.8133\n",
      "Epoch 28/60\n",
      "525/525 - 0s - loss: 0.5724 - accuracy: 0.8171\n",
      "Epoch 29/60\n",
      "525/525 - 0s - loss: 0.5699 - accuracy: 0.8095\n",
      "Epoch 30/60\n",
      "525/525 - 0s - loss: 0.5645 - accuracy: 0.8133\n",
      "Epoch 31/60\n",
      "525/525 - 0s - loss: 0.5627 - accuracy: 0.8114\n",
      "Epoch 32/60\n",
      "525/525 - 0s - loss: 0.5520 - accuracy: 0.8171\n",
      "Epoch 33/60\n",
      "525/525 - 0s - loss: 0.5455 - accuracy: 0.8305\n",
      "Epoch 34/60\n",
      "525/525 - 0s - loss: 0.5420 - accuracy: 0.8190\n",
      "Epoch 35/60\n",
      "525/525 - 0s - loss: 0.5409 - accuracy: 0.8267\n",
      "Epoch 36/60\n",
      "525/525 - 0s - loss: 0.5464 - accuracy: 0.8343\n",
      "Epoch 37/60\n",
      "525/525 - 0s - loss: 0.5447 - accuracy: 0.8095\n",
      "Epoch 38/60\n",
      "525/525 - 0s - loss: 0.5367 - accuracy: 0.8248\n",
      "Epoch 39/60\n",
      "525/525 - 0s - loss: 0.5285 - accuracy: 0.8267\n",
      "Epoch 40/60\n",
      "525/525 - 0s - loss: 0.5300 - accuracy: 0.8210\n",
      "Epoch 41/60\n",
      "525/525 - 0s - loss: 0.5315 - accuracy: 0.8324\n",
      "Epoch 42/60\n",
      "525/525 - 0s - loss: 0.5148 - accuracy: 0.8286\n",
      "Epoch 43/60\n",
      "525/525 - 0s - loss: 0.5024 - accuracy: 0.8381\n",
      "Epoch 44/60\n",
      "525/525 - 0s - loss: 0.5044 - accuracy: 0.8381\n",
      "Epoch 45/60\n",
      "525/525 - 0s - loss: 0.5037 - accuracy: 0.8381\n",
      "Epoch 46/60\n",
      "525/525 - 0s - loss: 0.5063 - accuracy: 0.8419\n",
      "Epoch 47/60\n",
      "525/525 - 0s - loss: 0.5010 - accuracy: 0.8362\n",
      "Epoch 48/60\n",
      "525/525 - 0s - loss: 0.4900 - accuracy: 0.8476\n",
      "Epoch 49/60\n",
      "525/525 - 0s - loss: 0.4981 - accuracy: 0.8400\n",
      "Epoch 50/60\n",
      "525/525 - 0s - loss: 0.4921 - accuracy: 0.8419\n",
      "Epoch 51/60\n",
      "525/525 - 0s - loss: 0.4854 - accuracy: 0.8381\n",
      "Epoch 52/60\n",
      "525/525 - 0s - loss: 0.4761 - accuracy: 0.8457\n",
      "Epoch 53/60\n",
      "525/525 - 0s - loss: 0.4736 - accuracy: 0.8400\n",
      "Epoch 54/60\n",
      "525/525 - 0s - loss: 0.4824 - accuracy: 0.8400\n",
      "Epoch 55/60\n",
      "525/525 - 0s - loss: 0.4839 - accuracy: 0.8476\n",
      "Epoch 56/60\n",
      "525/525 - 0s - loss: 0.4779 - accuracy: 0.8457\n",
      "Epoch 57/60\n",
      "525/525 - 0s - loss: 0.4597 - accuracy: 0.8648\n",
      "Epoch 58/60\n",
      "525/525 - 0s - loss: 0.4666 - accuracy: 0.8495\n",
      "Epoch 59/60\n",
      "525/525 - 0s - loss: 0.4655 - accuracy: 0.8533\n",
      "Epoch 60/60\n",
      "525/525 - 0s - loss: 0.4576 - accuracy: 0.8571\n"
     ]
    },
    {
     "data": {
      "text/plain": [
       "<tensorflow.python.keras.callbacks.History at 0x1758c115eb8>"
      ]
     },
     "execution_count": 627,
     "metadata": {},
     "output_type": "execute_result"
    }
   ],
   "source": [
    "model.fit(\n",
    "    X_train_scaled,\n",
    "    y_train_categorical,\n",
    "    epochs=60,\n",
    "    shuffle=True,\n",
    "    verbose=2\n",
    ")"
   ]
  },
  {
   "cell_type": "code",
   "execution_count": 628,
   "metadata": {},
   "outputs": [
    {
     "name": "stdout",
     "output_type": "stream",
     "text": [
      "175/175 - 0s - loss: 0.8376 - accuracy: 0.7829\n",
      "Normal Neural Network - Loss: 0.837621100970677, Accuracy: 0.7828571200370789\n"
     ]
    }
   ],
   "source": [
    " model_loss, model_accuracy = model.evaluate(\n",
    "    X_test_scaled, y_test_categorical, verbose=2)\n",
    "print(\n",
    "    f\"Normal Neural Network - Loss: {model_loss}, Accuracy: {model_accuracy}\")"
   ]
  },
  {
   "cell_type": "code",
   "execution_count": 629,
   "metadata": {},
   "outputs": [],
   "source": [
    "encoded_predictions = model.predict_classes(X_test_scaled[:5])\n",
    "prediction_labels = label_encoder.inverse_transform(encoded_predictions)"
   ]
  },
  {
   "cell_type": "code",
   "execution_count": 630,
   "metadata": {},
   "outputs": [
    {
     "name": "stdout",
     "output_type": "stream",
     "text": [
      "Predicted classes: ['cool jazz' 'cool jazz' 'texas country' 'cool jazz' 'trap']\n",
      "Actual Labels: ['cool jazz', 'cool jazz', 'texas country', 'cool jazz', 'texas country']\n"
     ]
    }
   ],
   "source": [
    "print(f\"Predicted classes: {prediction_labels}\")\n",
    "print(f\"Actual Labels: {list(y_test[:5])}\")"
   ]
  },
  {
   "cell_type": "code",
   "execution_count": 511,
   "metadata": {},
   "outputs": [
    {
     "data": {
      "text/html": [
       "<div>\n",
       "<style scoped>\n",
       "    .dataframe tbody tr th:only-of-type {\n",
       "        vertical-align: middle;\n",
       "    }\n",
       "\n",
       "    .dataframe tbody tr th {\n",
       "        vertical-align: top;\n",
       "    }\n",
       "\n",
       "    .dataframe thead th {\n",
       "        text-align: right;\n",
       "    }\n",
       "</style>\n",
       "<table border=\"1\" class=\"dataframe\">\n",
       "  <thead>\n",
       "    <tr style=\"text-align: right;\">\n",
       "      <th></th>\n",
       "      <th>Prediction</th>\n",
       "      <th>Actual</th>\n",
       "    </tr>\n",
       "  </thead>\n",
       "  <tbody>\n",
       "    <tr>\n",
       "      <th>0</th>\n",
       "      <td>cool jazz</td>\n",
       "      <td>cool jazz</td>\n",
       "    </tr>\n",
       "    <tr>\n",
       "      <th>1</th>\n",
       "      <td>cool jazz</td>\n",
       "      <td>cool jazz</td>\n",
       "    </tr>\n",
       "    <tr>\n",
       "      <th>2</th>\n",
       "      <td>texas country</td>\n",
       "      <td>texas country</td>\n",
       "    </tr>\n",
       "    <tr>\n",
       "      <th>3</th>\n",
       "      <td>cool jazz</td>\n",
       "      <td>cool jazz</td>\n",
       "    </tr>\n",
       "    <tr>\n",
       "      <th>4</th>\n",
       "      <td>trap</td>\n",
       "      <td>texas country</td>\n",
       "    </tr>\n",
       "    <tr>\n",
       "      <th>...</th>\n",
       "      <td>...</td>\n",
       "      <td>...</td>\n",
       "    </tr>\n",
       "    <tr>\n",
       "      <th>170</th>\n",
       "      <td>texas country</td>\n",
       "      <td>texas country</td>\n",
       "    </tr>\n",
       "    <tr>\n",
       "      <th>171</th>\n",
       "      <td>performance</td>\n",
       "      <td>performance</td>\n",
       "    </tr>\n",
       "    <tr>\n",
       "      <th>172</th>\n",
       "      <td>texas country</td>\n",
       "      <td>electro house</td>\n",
       "    </tr>\n",
       "    <tr>\n",
       "      <th>173</th>\n",
       "      <td>cool jazz</td>\n",
       "      <td>cool jazz</td>\n",
       "    </tr>\n",
       "    <tr>\n",
       "      <th>174</th>\n",
       "      <td>trap</td>\n",
       "      <td>trap</td>\n",
       "    </tr>\n",
       "  </tbody>\n",
       "</table>\n",
       "<p>175 rows × 2 columns</p>\n",
       "</div>"
      ],
      "text/plain": [
       "        Prediction         Actual\n",
       "0        cool jazz      cool jazz\n",
       "1        cool jazz      cool jazz\n",
       "2    texas country  texas country\n",
       "3        cool jazz      cool jazz\n",
       "4             trap  texas country\n",
       "..             ...            ...\n",
       "170  texas country  texas country\n",
       "171    performance    performance\n",
       "172  texas country  electro house\n",
       "173      cool jazz      cool jazz\n",
       "174           trap           trap\n",
       "\n",
       "[175 rows x 2 columns]"
      ]
     },
     "execution_count": 511,
     "metadata": {},
     "output_type": "execute_result"
    }
   ],
   "source": [
    "pd.DataFrame({\"Prediction\": predictions, \"Actual\": y_test}).reset_index(drop=True)"
   ]
  },
  {
   "cell_type": "code",
   "execution_count": null,
   "metadata": {},
   "outputs": [],
   "source": []
  }
 ],
 "metadata": {
  "kernelspec": {
   "display_name": "Python 3",
   "language": "python",
   "name": "python3"
  },
  "language_info": {
   "codemirror_mode": {
    "name": "ipython",
    "version": 3
   },
   "file_extension": ".py",
   "mimetype": "text/x-python",
   "name": "python",
   "nbconvert_exporter": "python",
   "pygments_lexer": "ipython3",
   "version": "3.6.10"
  }
 },
 "nbformat": 4,
 "nbformat_minor": 4
}
