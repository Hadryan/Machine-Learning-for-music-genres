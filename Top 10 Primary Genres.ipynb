{
 "cells": [
  {
   "cell_type": "code",
   "execution_count": 298,
   "metadata": {},
   "outputs": [],
   "source": [
    "%matplotlib inline\n",
    "import matplotlib.pyplot as plt\n",
    "import pandas as pd\n",
    "import os\n",
    "import numpy as np\n",
    "from sklearn.metrics import f1_score, make_scorer\n",
    "from sklearn.ensemble import RandomForestClassifier\n",
    "from sklearn.neighbors import KNeighborsClassifier\n",
    "from sklearn.naive_bayes import GaussianNB\n",
    "from sklearn import tree\n",
    "import seaborn as sns\n",
    "from scipy.stats import randint\n",
    "from sklearn.model_selection import RandomizedSearchCV\n",
    "import graphviz\n",
    "import pydotplus\n",
    "import io\n",
    "from scipy import misc\n",
    "from sklearn.pipeline import Pipeline\n",
    "from sklearn.decomposition import PCA\n",
    "from sklearn.linear_model import LogisticRegression\n",
    "from sklearn.tree import DecisionTreeClassifier"
   ]
  },
  {
   "cell_type": "markdown",
   "metadata": {},
   "source": [
    "# Logistic Regression"
   ]
  },
  {
   "cell_type": "code",
   "execution_count": 299,
   "metadata": {},
   "outputs": [
    {
     "data": {
      "text/html": [
       "<div>\n",
       "<style scoped>\n",
       "    .dataframe tbody tr th:only-of-type {\n",
       "        vertical-align: middle;\n",
       "    }\n",
       "\n",
       "    .dataframe tbody tr th {\n",
       "        vertical-align: top;\n",
       "    }\n",
       "\n",
       "    .dataframe thead th {\n",
       "        text-align: right;\n",
       "    }\n",
       "</style>\n",
       "<table border=\"1\" class=\"dataframe\">\n",
       "  <thead>\n",
       "    <tr style=\"text-align: right;\">\n",
       "      <th></th>\n",
       "      <th>ID</th>\n",
       "      <th>artists</th>\n",
       "      <th>acousticness</th>\n",
       "      <th>danceability</th>\n",
       "      <th>duration_ms</th>\n",
       "      <th>energy</th>\n",
       "      <th>instrumentalness</th>\n",
       "      <th>liveness</th>\n",
       "      <th>loudness</th>\n",
       "      <th>speechiness</th>\n",
       "      <th>tempo</th>\n",
       "      <th>valence</th>\n",
       "      <th>popularity</th>\n",
       "      <th>key</th>\n",
       "      <th>mode</th>\n",
       "      <th>count</th>\n",
       "      <th>genres</th>\n",
       "      <th>new_genres</th>\n",
       "    </tr>\n",
       "  </thead>\n",
       "  <tbody>\n",
       "    <tr>\n",
       "      <th>0</th>\n",
       "      <td>26807</td>\n",
       "      <td>Yhung T.O.</td>\n",
       "      <td>0.302000</td>\n",
       "      <td>0.811</td>\n",
       "      <td>206593.0</td>\n",
       "      <td>0.574</td>\n",
       "      <td>0.000000</td>\n",
       "      <td>0.0865</td>\n",
       "      <td>-7.003</td>\n",
       "      <td>0.180</td>\n",
       "      <td>96.993</td>\n",
       "      <td>0.546</td>\n",
       "      <td>60.0</td>\n",
       "      <td>5</td>\n",
       "      <td>0</td>\n",
       "      <td>1</td>\n",
       "      <td>['cali rap', 'west coast trap']</td>\n",
       "      <td>rap</td>\n",
       "    </tr>\n",
       "    <tr>\n",
       "      <th>1</th>\n",
       "      <td>9250</td>\n",
       "      <td>Grieves</td>\n",
       "      <td>0.042100</td>\n",
       "      <td>0.592</td>\n",
       "      <td>185373.0</td>\n",
       "      <td>0.509</td>\n",
       "      <td>0.000000</td>\n",
       "      <td>0.0814</td>\n",
       "      <td>-6.685</td>\n",
       "      <td>0.375</td>\n",
       "      <td>180.121</td>\n",
       "      <td>0.631</td>\n",
       "      <td>44.0</td>\n",
       "      <td>11</td>\n",
       "      <td>1</td>\n",
       "      <td>2</td>\n",
       "      <td>['abstract hip hop', 'indie pop rap', 'undergr...</td>\n",
       "      <td>rap</td>\n",
       "    </tr>\n",
       "    <tr>\n",
       "      <th>2</th>\n",
       "      <td>15653</td>\n",
       "      <td>Mark Battles</td>\n",
       "      <td>0.209000</td>\n",
       "      <td>0.745</td>\n",
       "      <td>185487.0</td>\n",
       "      <td>0.741</td>\n",
       "      <td>0.000000</td>\n",
       "      <td>0.5100</td>\n",
       "      <td>-7.212</td>\n",
       "      <td>0.184</td>\n",
       "      <td>94.002</td>\n",
       "      <td>0.480</td>\n",
       "      <td>57.0</td>\n",
       "      <td>2</td>\n",
       "      <td>1</td>\n",
       "      <td>2</td>\n",
       "      <td>['canadian hip hop', 'deep underground hip hop...</td>\n",
       "      <td>rap</td>\n",
       "    </tr>\n",
       "    <tr>\n",
       "      <th>3</th>\n",
       "      <td>5271</td>\n",
       "      <td>DJ Jazzy Jeff</td>\n",
       "      <td>0.029000</td>\n",
       "      <td>0.782</td>\n",
       "      <td>250200.0</td>\n",
       "      <td>0.639</td>\n",
       "      <td>0.000000</td>\n",
       "      <td>0.1970</td>\n",
       "      <td>-8.154</td>\n",
       "      <td>0.365</td>\n",
       "      <td>95.116</td>\n",
       "      <td>0.487</td>\n",
       "      <td>47.0</td>\n",
       "      <td>1</td>\n",
       "      <td>1</td>\n",
       "      <td>1</td>\n",
       "      <td>['gangster rap', 'hip hop', 'old school hip ho...</td>\n",
       "      <td>rap</td>\n",
       "    </tr>\n",
       "    <tr>\n",
       "      <th>4</th>\n",
       "      <td>25090</td>\n",
       "      <td>Tion Wayne</td>\n",
       "      <td>0.000415</td>\n",
       "      <td>0.572</td>\n",
       "      <td>169355.0</td>\n",
       "      <td>0.519</td>\n",
       "      <td>0.000023</td>\n",
       "      <td>0.1290</td>\n",
       "      <td>-8.054</td>\n",
       "      <td>0.243</td>\n",
       "      <td>100.453</td>\n",
       "      <td>0.704</td>\n",
       "      <td>77.0</td>\n",
       "      <td>10</td>\n",
       "      <td>0</td>\n",
       "      <td>2</td>\n",
       "      <td>['london rap', 'uk hip hop']</td>\n",
       "      <td>rap</td>\n",
       "    </tr>\n",
       "  </tbody>\n",
       "</table>\n",
       "</div>"
      ],
      "text/plain": [
       "      ID        artists  acousticness  danceability  duration_ms  energy  \\\n",
       "0  26807     Yhung T.O.      0.302000         0.811     206593.0   0.574   \n",
       "1   9250        Grieves      0.042100         0.592     185373.0   0.509   \n",
       "2  15653   Mark Battles      0.209000         0.745     185487.0   0.741   \n",
       "3   5271  DJ Jazzy Jeff      0.029000         0.782     250200.0   0.639   \n",
       "4  25090     Tion Wayne      0.000415         0.572     169355.0   0.519   \n",
       "\n",
       "   instrumentalness  liveness  loudness  speechiness    tempo  valence  \\\n",
       "0          0.000000    0.0865    -7.003        0.180   96.993    0.546   \n",
       "1          0.000000    0.0814    -6.685        0.375  180.121    0.631   \n",
       "2          0.000000    0.5100    -7.212        0.184   94.002    0.480   \n",
       "3          0.000000    0.1970    -8.154        0.365   95.116    0.487   \n",
       "4          0.000023    0.1290    -8.054        0.243  100.453    0.704   \n",
       "\n",
       "   popularity  key  mode  count  \\\n",
       "0        60.0    5     0      1   \n",
       "1        44.0   11     1      2   \n",
       "2        57.0    2     1      2   \n",
       "3        47.0    1     1      1   \n",
       "4        77.0   10     0      2   \n",
       "\n",
       "                                              genres new_genres  \n",
       "0                    ['cali rap', 'west coast trap']        rap  \n",
       "1  ['abstract hip hop', 'indie pop rap', 'undergr...        rap  \n",
       "2  ['canadian hip hop', 'deep underground hip hop...        rap  \n",
       "3  ['gangster rap', 'hip hop', 'old school hip ho...        rap  \n",
       "4                       ['london rap', 'uk hip hop']        rap  "
      ]
     },
     "execution_count": 299,
     "metadata": {},
     "output_type": "execute_result"
    }
   ],
   "source": [
    "df = pd.read_csv(os.path.join(\"allgenres.csv\"))\n",
    "df.head()"
   ]
  },
  {
   "cell_type": "code",
   "execution_count": 300,
   "metadata": {},
   "outputs": [
    {
     "data": {
      "text/plain": [
       "1000"
      ]
     },
     "execution_count": 300,
     "metadata": {},
     "output_type": "execute_result"
    }
   ],
   "source": [
    "len(df)"
   ]
  },
  {
   "cell_type": "code",
   "execution_count": 303,
   "metadata": {
    "scrolled": true
   },
   "outputs": [
    {
     "data": {
      "text/html": [
       "<div>\n",
       "<style scoped>\n",
       "    .dataframe tbody tr th:only-of-type {\n",
       "        vertical-align: middle;\n",
       "    }\n",
       "\n",
       "    .dataframe tbody tr th {\n",
       "        vertical-align: top;\n",
       "    }\n",
       "\n",
       "    .dataframe thead th {\n",
       "        text-align: right;\n",
       "    }\n",
       "</style>\n",
       "<table border=\"1\" class=\"dataframe\">\n",
       "  <thead>\n",
       "    <tr style=\"text-align: right;\">\n",
       "      <th></th>\n",
       "      <th>acousticness</th>\n",
       "      <th>danceability</th>\n",
       "      <th>duration_ms</th>\n",
       "      <th>energy</th>\n",
       "      <th>instrumentalness</th>\n",
       "      <th>liveness</th>\n",
       "      <th>loudness</th>\n",
       "      <th>speechiness</th>\n",
       "      <th>tempo</th>\n",
       "      <th>valence</th>\n",
       "      <th>key</th>\n",
       "      <th>mode</th>\n",
       "      <th>new_genres</th>\n",
       "    </tr>\n",
       "  </thead>\n",
       "  <tbody>\n",
       "    <tr>\n",
       "      <th>0</th>\n",
       "      <td>0.302000</td>\n",
       "      <td>0.811</td>\n",
       "      <td>206593.0</td>\n",
       "      <td>0.574</td>\n",
       "      <td>0.000000</td>\n",
       "      <td>0.0865</td>\n",
       "      <td>-7.003</td>\n",
       "      <td>0.180</td>\n",
       "      <td>96.993</td>\n",
       "      <td>0.546</td>\n",
       "      <td>5</td>\n",
       "      <td>0</td>\n",
       "      <td>rap</td>\n",
       "    </tr>\n",
       "    <tr>\n",
       "      <th>1</th>\n",
       "      <td>0.042100</td>\n",
       "      <td>0.592</td>\n",
       "      <td>185373.0</td>\n",
       "      <td>0.509</td>\n",
       "      <td>0.000000</td>\n",
       "      <td>0.0814</td>\n",
       "      <td>-6.685</td>\n",
       "      <td>0.375</td>\n",
       "      <td>180.121</td>\n",
       "      <td>0.631</td>\n",
       "      <td>11</td>\n",
       "      <td>1</td>\n",
       "      <td>rap</td>\n",
       "    </tr>\n",
       "    <tr>\n",
       "      <th>2</th>\n",
       "      <td>0.209000</td>\n",
       "      <td>0.745</td>\n",
       "      <td>185487.0</td>\n",
       "      <td>0.741</td>\n",
       "      <td>0.000000</td>\n",
       "      <td>0.5100</td>\n",
       "      <td>-7.212</td>\n",
       "      <td>0.184</td>\n",
       "      <td>94.002</td>\n",
       "      <td>0.480</td>\n",
       "      <td>2</td>\n",
       "      <td>1</td>\n",
       "      <td>rap</td>\n",
       "    </tr>\n",
       "    <tr>\n",
       "      <th>3</th>\n",
       "      <td>0.029000</td>\n",
       "      <td>0.782</td>\n",
       "      <td>250200.0</td>\n",
       "      <td>0.639</td>\n",
       "      <td>0.000000</td>\n",
       "      <td>0.1970</td>\n",
       "      <td>-8.154</td>\n",
       "      <td>0.365</td>\n",
       "      <td>95.116</td>\n",
       "      <td>0.487</td>\n",
       "      <td>1</td>\n",
       "      <td>1</td>\n",
       "      <td>rap</td>\n",
       "    </tr>\n",
       "    <tr>\n",
       "      <th>4</th>\n",
       "      <td>0.000415</td>\n",
       "      <td>0.572</td>\n",
       "      <td>169355.0</td>\n",
       "      <td>0.519</td>\n",
       "      <td>0.000023</td>\n",
       "      <td>0.1290</td>\n",
       "      <td>-8.054</td>\n",
       "      <td>0.243</td>\n",
       "      <td>100.453</td>\n",
       "      <td>0.704</td>\n",
       "      <td>10</td>\n",
       "      <td>0</td>\n",
       "      <td>rap</td>\n",
       "    </tr>\n",
       "  </tbody>\n",
       "</table>\n",
       "</div>"
      ],
      "text/plain": [
       "   acousticness  danceability  duration_ms  energy  instrumentalness  \\\n",
       "0      0.302000         0.811     206593.0   0.574          0.000000   \n",
       "1      0.042100         0.592     185373.0   0.509          0.000000   \n",
       "2      0.209000         0.745     185487.0   0.741          0.000000   \n",
       "3      0.029000         0.782     250200.0   0.639          0.000000   \n",
       "4      0.000415         0.572     169355.0   0.519          0.000023   \n",
       "\n",
       "   liveness  loudness  speechiness    tempo  valence  key  mode new_genres  \n",
       "0    0.0865    -7.003        0.180   96.993    0.546    5     0        rap  \n",
       "1    0.0814    -6.685        0.375  180.121    0.631   11     1        rap  \n",
       "2    0.5100    -7.212        0.184   94.002    0.480    2     1        rap  \n",
       "3    0.1970    -8.154        0.365   95.116    0.487    1     1        rap  \n",
       "4    0.1290    -8.054        0.243  100.453    0.704   10     0        rap  "
      ]
     },
     "execution_count": 303,
     "metadata": {},
     "output_type": "execute_result"
    }
   ],
   "source": [
    "secondarygenres = df.drop([\"ID\",\"artists\",\"count\",\"genres\",\"popularity\"],axis=1)\n",
    "secondarygenres.head()"
   ]
  },
  {
   "cell_type": "code",
   "execution_count": 304,
   "metadata": {},
   "outputs": [
    {
     "name": "stdout",
     "output_type": "stream",
     "text": [
      "(1000, 12) (1000,)\n"
     ]
    }
   ],
   "source": [
    "# assign x and y \n",
    "X = secondarygenres.drop(\"new_genres\", axis =1)\n",
    "y = secondarygenres['new_genres']\n",
    "print(X.shape, y.shape)"
   ]
  },
  {
   "cell_type": "code",
   "execution_count": 305,
   "metadata": {},
   "outputs": [],
   "source": [
    "from sklearn.model_selection import train_test_split\n",
    "\n",
    "X_train, X_test, y_train, y_test = train_test_split(X,y, random_state=1)"
   ]
  },
  {
   "cell_type": "code",
   "execution_count": 306,
   "metadata": {},
   "outputs": [],
   "source": [
    "# Scale your data\n",
    "from sklearn.preprocessing import MinMaxScaler\n",
    "\n",
    "X_Scaler=MinMaxScaler().fit(X_train)\n",
    "X_train_scaled1 = X_Scaler.transform(X_train)\n",
    "X_test_scaled1 = X_Scaler.transform(X_test)"
   ]
  },
  {
   "cell_type": "code",
   "execution_count": 307,
   "metadata": {},
   "outputs": [
    {
     "data": {
      "text/plain": [
       "LogisticRegression(C=10, solver='newton-cg')"
      ]
     },
     "execution_count": 307,
     "metadata": {},
     "output_type": "execute_result"
    }
   ],
   "source": [
    "from sklearn.linear_model import LogisticRegression\n",
    "classifier = LogisticRegression(penalty='l2',C=10, solver= 'newton-cg')\n",
    "classifier"
   ]
  },
  {
   "cell_type": "code",
   "execution_count": 308,
   "metadata": {},
   "outputs": [
    {
     "name": "stderr",
     "output_type": "stream",
     "text": [
      "C:\\Users\\bvera\\anaconda3\\envs\\PythonAdv\\lib\\site-packages\\scipy\\optimize\\linesearch.py:477: LineSearchWarning: The line search algorithm did not converge\n",
      "  warn('The line search algorithm did not converge', LineSearchWarning)\n",
      "C:\\Users\\bvera\\anaconda3\\envs\\PythonAdv\\lib\\site-packages\\scipy\\optimize\\linesearch.py:327: LineSearchWarning: The line search algorithm did not converge\n",
      "  warn('The line search algorithm did not converge', LineSearchWarning)\n",
      "C:\\Users\\bvera\\anaconda3\\envs\\PythonAdv\\lib\\site-packages\\sklearn\\utils\\optimize.py:212: ConvergenceWarning: newton-cg failed to converge. Increase the number of iterations.\n",
      "  \"number of iterations.\", ConvergenceWarning)\n"
     ]
    },
    {
     "data": {
      "text/plain": [
       "LogisticRegression(C=10, solver='newton-cg')"
      ]
     },
     "execution_count": 308,
     "metadata": {},
     "output_type": "execute_result"
    }
   ],
   "source": [
    "classifier.fit(X_train,y_train)"
   ]
  },
  {
   "cell_type": "code",
   "execution_count": 309,
   "metadata": {},
   "outputs": [
    {
     "name": "stdout",
     "output_type": "stream",
     "text": [
      "0.524\n",
      "0.436\n"
     ]
    }
   ],
   "source": [
    "print(classifier.score(X_train,y_train))\n",
    "print(classifier.score(X_test,y_test))"
   ]
  },
  {
   "cell_type": "code",
   "execution_count": 310,
   "metadata": {},
   "outputs": [
    {
     "name": "stdout",
     "output_type": "stream",
     "text": [
      "['rap' 'rap' 'rap' 'latin' 'rap' 'rap' 'r&b' 'rap' 'latin' 'rap' 'edm'\n",
      " 'rap' 'rap' 'latin' 'r&b' 'alternative' 'metal' 'christian' 'rap' 'rap'\n",
      " 'rap' 'r&b' 'latin' 'rap' 'christian' 'rap' 'rap' 'edm' 'r&b' 'r&b' 'rap'\n",
      " 'rap' 'r&b' 'rap' 'rap' 'edm' 'metal' 'rap' 'rap' 'rap' 'edm' 'rap' 'edm'\n",
      " 'edm' 'rap' 'edm' 'rap' 'rap' 'rap' 'latin' 'rap' 'rap' 'country' 'rap'\n",
      " 'edm' 'rap' 'rap' 'rap' 'rap' 'r&b' 'rap' 'rap' 'edm' 'rap' 'rap' 'latin'\n",
      " 'rap' 'r&b' 'rap' 'rap' 'rap' 'latin' 'rap' 'rap' 'rap' 'rap' 'rap' 'rap'\n",
      " 'rap' 'r&b' 'country' 'metal' 'rap' 'rap' 'jazz' 'country' 'rap' 'latin'\n",
      " 'rap' 'edm' 'country' 'metal' 'latin' 'rap' 'rap' 'rap' 'rap' 'rap' 'rap'\n",
      " 'r&b' 'classical' 'classical' 'classical' 'classical' 'classical'\n",
      " 'christian' 'classical' 'classical' 'classical' 'classical' 'classical'\n",
      " 'classical' 'classical' 'classical' 'classical' 'classical' 'classical'\n",
      " 'edm' 'classical' 'classical' 'classical' 'classical' 'classical'\n",
      " 'classical' 'jazz' 'classical' 'classical' 'classical' 'classical'\n",
      " 'classical' 'classical' 'classical' 'classical' 'classical' 'classical'\n",
      " 'classical' 'classical' 'classical' 'classical' 'country' 'classical'\n",
      " 'classical' 'classical' 'classical' 'classical' 'classical' 'classical'\n",
      " 'classical' 'classical' 'classical' 'classical' 'classical' 'christian'\n",
      " 'classical' 'classical' 'classical' 'classical' 'classical' 'classical'\n",
      " 'christian' 'classical' 'classical' 'classical' 'classical' 'classical'\n",
      " 'jazz' 'classical' 'classical' 'classical' 'classical' 'classical'\n",
      " 'classical' 'christian' 'classical' 'jazz' 'jazz' 'classical' 'classical'\n",
      " 'classical' 'jazz' 'classical' 'classical' 'classical' 'classical'\n",
      " 'classical' 'classical' 'classical' 'classical' 'jazz' 'classical'\n",
      " 'classical' 'classical' 'classical' 'classical' 'classical' 'christian'\n",
      " 'classical' 'classical' 'classical' 'classical' 'edm' 'alternative' 'edm'\n",
      " 'metal' 'christian' 'edm' 'christian' 'christian' 'metal' 'edm' 'edm'\n",
      " 'edm' 'edm' 'edm' 'metal' 'edm' 'rap' 'metal' 'metal' 'edm' 'edm' 'rap'\n",
      " 'edm' 'christian' 'edm' 'edm' 'metal' 'latin' 'christian' 'edm' 'edm'\n",
      " 'edm' 'edm' 'christian' 'edm' 'edm' 'rap' 'rap' 'edm' 'edm' 'metal' 'edm'\n",
      " 'rap' 'rap' 'edm' 'latin' 'edm' 'rap' 'rap' 'metal' 'edm' 'latin' 'latin'\n",
      " 'latin' 'rap' 'edm' 'alternative' 'edm' 'metal' 'r&b' 'edm' 'r&b' 'latin'\n",
      " 'edm' 'metal' 'edm' 'edm' 'rap' 'rap' 'metal' 'rap' 'edm' 'rap' 'rap'\n",
      " 'edm' 'edm' 'metal' 'r&b' 'edm' 'edm' 'edm' 'edm' 'latin' 'metal' 'edm'\n",
      " 'metal' 'edm' 'edm' 'edm' 'latin' 'edm' 'christian' 'country' 'edm' 'rap'\n",
      " 'edm' 'edm' 'edm' 'edm' 'edm' 'country' 'christian' 'christian'\n",
      " 'christian' 'r&b' 'metal' 'alternative' 'r&b' 'country' 'latin' 'metal'\n",
      " 'latin' 'country' 'christian' 'christian' 'latin' 'country' 'latin'\n",
      " 'christian' 'country' 'country' 'alternative' 'rap' 'country' 'jazz'\n",
      " 'country' 'country' 'christian' 'alternative' 'country' 'christian'\n",
      " 'christian' 'country' 'classical' 'country' 'latin' 'r&b' 'latin'\n",
      " 'country' 'metal' 'edm' 'r&b' 'christian' 'christian' 'alternative' 'r&b'\n",
      " 'metal' 'christian' 'latin' 'country' 'christian' 'latin' 'country'\n",
      " 'country' 'latin' 'country' 'latin' 'alternative' 'country' 'country'\n",
      " 'r&b' 'r&b' 'christian' 'country' 'country' 'christian' 'christian'\n",
      " 'alternative' 'country' 'christian' 'christian' 'country' 'christian'\n",
      " 'metal' 'country' 'country' 'country' 'christian' 'rap' 'latin' 'country'\n",
      " 'country' 'country' 'latin' 'christian' 'country' 'christian' 'latin'\n",
      " 'christian' 'r&b' 'metal' 'latin' 'christian' 'metal' 'christian'\n",
      " 'christian' 'country' 'christian' 'r&b' 'rap' 'christian' 'metal' 'metal'\n",
      " 'metal' 'alternative' 'jazz' 'metal' 'metal' 'metal' 'edm' 'christian'\n",
      " 'latin' 'metal' 'latin' 'metal' 'metal' 'edm' 'country' 'metal' 'metal'\n",
      " 'edm' 'country' 'metal' 'metal' 'metal' 'r&b' 'edm' 'country' 'metal'\n",
      " 'metal' 'metal' 'metal' 'metal' 'christian' 'metal' 'metal' 'metal'\n",
      " 'metal' 'metal' 'edm' 'metal' 'metal' 'metal' 'latin' 'metal' 'metal'\n",
      " 'metal' 'metal' 'metal' 'metal' 'christian' 'edm' 'edm' 'metal' 'metal'\n",
      " 'metal' 'edm' 'metal' 'edm' 'metal' 'edm' 'metal' 'metal' 'metal' 'metal'\n",
      " 'metal' 'christian' 'edm' 'metal' 'metal' 'metal' 'metal' 'metal' 'metal'\n",
      " 'metal' 'edm' 'edm' 'edm' 'metal' 'christian' 'metal' 'metal' 'metal'\n",
      " 'metal' 'christian' 'metal' 'country' 'metal' 'metal' 'christian' 'metal'\n",
      " 'metal' 'metal' 'christian' 'metal' 'metal' 'christian' 'edm' 'metal'\n",
      " 'metal' 'jazz' 'latin' 'latin' 'rap' 'latin' 'latin' 'latin' 'latin'\n",
      " 'jazz' 'latin' 'latin' 'metal' 'latin' 'latin' 'latin' 'latin' 'edm'\n",
      " 'latin' 'latin' 'rap' 'latin' 'latin' 'christian' 'latin' 'latin' 'latin'\n",
      " 'country' 'jazz' 'r&b' 'latin' 'latin' 'latin' 'latin' 'latin' 'latin'\n",
      " 'latin' 'latin' 'latin' 'latin' 'latin' 'latin' 'latin' 'latin' 'latin'\n",
      " 'latin' 'country' 'latin' 'r&b' 'latin' 'latin' 'latin' 'latin' 'latin'\n",
      " 'latin' 'latin' 'latin' 'latin' 'latin' 'rap' 'latin' 'latin' 'latin'\n",
      " 'latin' 'latin' 'country' 'latin' 'latin' 'latin' 'latin' 'country'\n",
      " 'latin' 'latin' 'latin' 'latin' 'latin' 'latin' 'latin' 'latin' 'latin'\n",
      " 'latin' 'country' 'latin' 'latin' 'jazz' 'country' 'latin' 'latin'\n",
      " 'latin' 'latin' 'latin' 'jazz' 'latin' 'jazz' 'latin' 'latin' 'latin'\n",
      " 'latin' 'latin' 'latin' 'latin' 'jazz' 'classical' 'classical'\n",
      " 'classical' 'jazz' 'jazz' 'jazz' 'classical' 'classical' 'jazz' 'jazz'\n",
      " 'classical' 'jazz' 'country' 'jazz' 'jazz' 'country' 'jazz' 'jazz' 'jazz'\n",
      " 'jazz' 'classical' 'jazz' 'country' 'jazz' 'country' 'jazz' 'r&b'\n",
      " 'christian' 'jazz' 'jazz' 'classical' 'jazz' 'christian' 'jazz' 'jazz'\n",
      " 'jazz' 'jazz' 'jazz' 'classical' 'classical' 'jazz' 'jazz' 'jazz'\n",
      " 'classical' 'jazz' 'jazz' 'classical' 'jazz' 'jazz' 'classical' 'r&b'\n",
      " 'jazz' 'classical' 'jazz' 'classical' 'jazz' 'classical' 'jazz' 'jazz'\n",
      " 'classical' 'jazz' 'classical' 'jazz' 'christian' 'jazz' 'jazz' 'jazz'\n",
      " 'classical' 'jazz' 'jazz' 'classical' 'jazz' 'jazz' 'latin' 'jazz' 'jazz'\n",
      " 'classical' 'jazz' 'classical' 'jazz' 'jazz' 'christian' 'jazz'\n",
      " 'classical' 'jazz' 'classical' 'r&b' 'jazz' 'jazz' 'christian'\n",
      " 'classical' 'classical' 'jazz' 'jazz' 'jazz' 'jazz' 'jazz' 'jazz'\n",
      " 'country']\n"
     ]
    }
   ],
   "source": [
    "predictions = classifier.predict(cleaned_data)\n",
    "print(predictions)"
   ]
  },
  {
   "cell_type": "code",
   "execution_count": 311,
   "metadata": {},
   "outputs": [
    {
     "data": {
      "text/html": [
       "<div>\n",
       "<style scoped>\n",
       "    .dataframe tbody tr th:only-of-type {\n",
       "        vertical-align: middle;\n",
       "    }\n",
       "\n",
       "    .dataframe tbody tr th {\n",
       "        vertical-align: top;\n",
       "    }\n",
       "\n",
       "    .dataframe thead th {\n",
       "        text-align: right;\n",
       "    }\n",
       "</style>\n",
       "<table border=\"1\" class=\"dataframe\">\n",
       "  <thead>\n",
       "    <tr style=\"text-align: right;\">\n",
       "      <th></th>\n",
       "      <th>0</th>\n",
       "    </tr>\n",
       "    <tr>\n",
       "      <th>new_genres</th>\n",
       "      <th></th>\n",
       "    </tr>\n",
       "  </thead>\n",
       "  <tbody>\n",
       "    <tr>\n",
       "      <th>alternative</th>\n",
       "      <td>metal</td>\n",
       "    </tr>\n",
       "    <tr>\n",
       "      <th>latin</th>\n",
       "      <td>country</td>\n",
       "    </tr>\n",
       "    <tr>\n",
       "      <th>r&amp;b</th>\n",
       "      <td>edm</td>\n",
       "    </tr>\n",
       "    <tr>\n",
       "      <th>edm</th>\n",
       "      <td>rap</td>\n",
       "    </tr>\n",
       "    <tr>\n",
       "      <th>christian</th>\n",
       "      <td>r&amp;b</td>\n",
       "    </tr>\n",
       "    <tr>\n",
       "      <th>...</th>\n",
       "      <td>...</td>\n",
       "    </tr>\n",
       "    <tr>\n",
       "      <th>edm</th>\n",
       "      <td>edm</td>\n",
       "    </tr>\n",
       "    <tr>\n",
       "      <th>latin</th>\n",
       "      <td>country</td>\n",
       "    </tr>\n",
       "    <tr>\n",
       "      <th>r&amp;b</th>\n",
       "      <td>r&amp;b</td>\n",
       "    </tr>\n",
       "    <tr>\n",
       "      <th>classical</th>\n",
       "      <td>classical</td>\n",
       "    </tr>\n",
       "    <tr>\n",
       "      <th>alternative</th>\n",
       "      <td>edm</td>\n",
       "    </tr>\n",
       "  </tbody>\n",
       "</table>\n",
       "<p>250 rows × 1 columns</p>\n",
       "</div>"
      ],
      "text/plain": [
       "                     0\n",
       "new_genres            \n",
       "alternative      metal\n",
       "latin          country\n",
       "r&b                edm\n",
       "edm                rap\n",
       "christian          r&b\n",
       "...                ...\n",
       "edm                edm\n",
       "latin          country\n",
       "r&b                r&b\n",
       "classical    classical\n",
       "alternative        edm\n",
       "\n",
       "[250 rows x 1 columns]"
      ]
     },
     "execution_count": 311,
     "metadata": {},
     "output_type": "execute_result"
    }
   ],
   "source": [
    "predictions = classifier.predict(X_test)\n",
    "pd.DataFrame(predictions, y_test)"
   ]
  },
  {
   "cell_type": "code",
   "execution_count": 321,
   "metadata": {},
   "outputs": [
    {
     "data": {
      "image/png": "[encoded data removed]",
      "text/plain": [
       "<Figure size 432x288 with 2 Axes>"
      ]
     },
     "metadata": {
      "needs_background": "light"
     },
     "output_type": "display_data"
    }
   ],
   "source": [
    "import matplotlib.pyplot as plt\n",
    "from sklearn.metrics import plot_confusion_matrix\n",
    "\n",
    "plot_confusion_matrix(classifier, X_test_scaled1, y_test, cmap=plt.cm.Blues)\n",
    "\n",
    "plt.show()"
   ]
  },
  {
   "cell_type": "code",
   "execution_count": 313,
   "metadata": {},
   "outputs": [],
   "source": [
    "# from sklearn import tree\n",
    "# from sklearn.tree import DecisionTreeClassifier, export_graphviz\n",
    "\n",
    "# def show_tree(tree, features, path):\n",
    "#     f = io.StringIO()\n",
    "#     export_graphviz(tree, out_file=f, feature_names=features)\n",
    "#     pydotplus.graph_from_dot_data(f.getvalue()).write_png(path)\n",
    "#     img = misc.imread(path)\n",
    "#     plt.rcParams[\"figure.figsize\"] = (20,20)\n",
    "#     plt.imShoww(img)"
   ]
  },
  {
   "cell_type": "code",
   "execution_count": 314,
   "metadata": {},
   "outputs": [],
   "source": [
    "# show_tree(clf, features, \"dec_tree.png\")"
   ]
  },
  {
   "cell_type": "markdown",
   "metadata": {},
   "source": [
    "# Decision Tree and Random Forest"
   ]
  },
  {
   "cell_type": "code",
   "execution_count": 315,
   "metadata": {},
   "outputs": [
    {
     "data": {
      "text/plain": [
       "0.324"
      ]
     },
     "execution_count": 315,
     "metadata": {},
     "output_type": "execute_result"
    }
   ],
   "source": [
    "# decision tree accuracy \n",
    "clf = tree.DecisionTreeClassifier()\n",
    "clf = clf.fit(X_train, y_train)\n",
    "clf.score(X_test, y_test)\n"
   ]
  },
  {
   "cell_type": "code",
   "execution_count": 328,
   "metadata": {},
   "outputs": [
    {
     "name": "stdout",
     "output_type": "stream",
     "text": [
      "Training Data Score: 0.444\n"
     ]
    },
    {
     "ename": "ValueError",
     "evalue": "Found input variables with inconsistent numbers of samples: [250, 750]",
     "output_type": "error",
     "traceback": [
      "\u001b[1;31m---------------------------------------------------------------------------\u001b[0m",
      "\u001b[1;31mValueError\u001b[0m                                Traceback (most recent call last)",
      "\u001b[1;32m<ipython-input-328-40096fb9e9f1>\u001b[0m in \u001b[0;36m<module>\u001b[1;34m\u001b[0m\n\u001b[0;32m      1\u001b[0m \u001b[0mprint\u001b[0m\u001b[1;33m(\u001b[0m\u001b[1;34mf\"Training Data Score: {clf.score(X_train_scaled1, y_train)}\"\u001b[0m\u001b[1;33m)\u001b[0m\u001b[1;33m\u001b[0m\u001b[1;33m\u001b[0m\u001b[0m\n\u001b[1;32m----> 2\u001b[1;33m \u001b[0mprint\u001b[0m\u001b[1;33m(\u001b[0m\u001b[1;34mf\"Testing Data Score: {clf.score(X_train_scaled1, y_test)}\"\u001b[0m\u001b[1;33m)\u001b[0m\u001b[1;33m\u001b[0m\u001b[1;33m\u001b[0m\u001b[0m\n\u001b[0m",
      "\u001b[1;32m~\\anaconda3\\envs\\PythonAdv\\lib\\site-packages\\sklearn\\base.py\u001b[0m in \u001b[0;36mscore\u001b[1;34m(self, X, y, sample_weight)\u001b[0m\n\u001b[0;32m    497\u001b[0m         \"\"\"\n\u001b[0;32m    498\u001b[0m         \u001b[1;32mfrom\u001b[0m \u001b[1;33m.\u001b[0m\u001b[0mmetrics\u001b[0m \u001b[1;32mimport\u001b[0m \u001b[0maccuracy_score\u001b[0m\u001b[1;33m\u001b[0m\u001b[1;33m\u001b[0m\u001b[0m\n\u001b[1;32m--> 499\u001b[1;33m         \u001b[1;32mreturn\u001b[0m \u001b[0maccuracy_score\u001b[0m\u001b[1;33m(\u001b[0m\u001b[0my\u001b[0m\u001b[1;33m,\u001b[0m \u001b[0mself\u001b[0m\u001b[1;33m.\u001b[0m\u001b[0mpredict\u001b[0m\u001b[1;33m(\u001b[0m\u001b[0mX\u001b[0m\u001b[1;33m)\u001b[0m\u001b[1;33m,\u001b[0m \u001b[0msample_weight\u001b[0m\u001b[1;33m=\u001b[0m\u001b[0msample_weight\u001b[0m\u001b[1;33m)\u001b[0m\u001b[1;33m\u001b[0m\u001b[1;33m\u001b[0m\u001b[0m\n\u001b[0m\u001b[0;32m    500\u001b[0m \u001b[1;33m\u001b[0m\u001b[0m\n\u001b[0;32m    501\u001b[0m     \u001b[1;32mdef\u001b[0m \u001b[0m_more_tags\u001b[0m\u001b[1;33m(\u001b[0m\u001b[0mself\u001b[0m\u001b[1;33m)\u001b[0m\u001b[1;33m:\u001b[0m\u001b[1;33m\u001b[0m\u001b[1;33m\u001b[0m\u001b[0m\n",
      "\u001b[1;32m~\\anaconda3\\envs\\PythonAdv\\lib\\site-packages\\sklearn\\utils\\validation.py\u001b[0m in \u001b[0;36minner_f\u001b[1;34m(*args, **kwargs)\u001b[0m\n\u001b[0;32m     71\u001b[0m                           FutureWarning)\n\u001b[0;32m     72\u001b[0m         \u001b[0mkwargs\u001b[0m\u001b[1;33m.\u001b[0m\u001b[0mupdate\u001b[0m\u001b[1;33m(\u001b[0m\u001b[1;33m{\u001b[0m\u001b[0mk\u001b[0m\u001b[1;33m:\u001b[0m \u001b[0marg\u001b[0m \u001b[1;32mfor\u001b[0m \u001b[0mk\u001b[0m\u001b[1;33m,\u001b[0m \u001b[0marg\u001b[0m \u001b[1;32min\u001b[0m \u001b[0mzip\u001b[0m\u001b[1;33m(\u001b[0m\u001b[0msig\u001b[0m\u001b[1;33m.\u001b[0m\u001b[0mparameters\u001b[0m\u001b[1;33m,\u001b[0m \u001b[0margs\u001b[0m\u001b[1;33m)\u001b[0m\u001b[1;33m}\u001b[0m\u001b[1;33m)\u001b[0m\u001b[1;33m\u001b[0m\u001b[1;33m\u001b[0m\u001b[0m\n\u001b[1;32m---> 73\u001b[1;33m         \u001b[1;32mreturn\u001b[0m \u001b[0mf\u001b[0m\u001b[1;33m(\u001b[0m\u001b[1;33m**\u001b[0m\u001b[0mkwargs\u001b[0m\u001b[1;33m)\u001b[0m\u001b[1;33m\u001b[0m\u001b[1;33m\u001b[0m\u001b[0m\n\u001b[0m\u001b[0;32m     74\u001b[0m     \u001b[1;32mreturn\u001b[0m \u001b[0minner_f\u001b[0m\u001b[1;33m\u001b[0m\u001b[1;33m\u001b[0m\u001b[0m\n\u001b[0;32m     75\u001b[0m \u001b[1;33m\u001b[0m\u001b[0m\n",
      "\u001b[1;32m~\\anaconda3\\envs\\PythonAdv\\lib\\site-packages\\sklearn\\metrics\\_classification.py\u001b[0m in \u001b[0;36maccuracy_score\u001b[1;34m(y_true, y_pred, normalize, sample_weight)\u001b[0m\n\u001b[0;32m    185\u001b[0m \u001b[1;33m\u001b[0m\u001b[0m\n\u001b[0;32m    186\u001b[0m     \u001b[1;31m# Compute accuracy for each possible representation\u001b[0m\u001b[1;33m\u001b[0m\u001b[1;33m\u001b[0m\u001b[1;33m\u001b[0m\u001b[0m\n\u001b[1;32m--> 187\u001b[1;33m     \u001b[0my_type\u001b[0m\u001b[1;33m,\u001b[0m \u001b[0my_true\u001b[0m\u001b[1;33m,\u001b[0m \u001b[0my_pred\u001b[0m \u001b[1;33m=\u001b[0m \u001b[0m_check_targets\u001b[0m\u001b[1;33m(\u001b[0m\u001b[0my_true\u001b[0m\u001b[1;33m,\u001b[0m \u001b[0my_pred\u001b[0m\u001b[1;33m)\u001b[0m\u001b[1;33m\u001b[0m\u001b[1;33m\u001b[0m\u001b[0m\n\u001b[0m\u001b[0;32m    188\u001b[0m     \u001b[0mcheck_consistent_length\u001b[0m\u001b[1;33m(\u001b[0m\u001b[0my_true\u001b[0m\u001b[1;33m,\u001b[0m \u001b[0my_pred\u001b[0m\u001b[1;33m,\u001b[0m \u001b[0msample_weight\u001b[0m\u001b[1;33m)\u001b[0m\u001b[1;33m\u001b[0m\u001b[1;33m\u001b[0m\u001b[0m\n\u001b[0;32m    189\u001b[0m     \u001b[1;32mif\u001b[0m \u001b[0my_type\u001b[0m\u001b[1;33m.\u001b[0m\u001b[0mstartswith\u001b[0m\u001b[1;33m(\u001b[0m\u001b[1;34m'multilabel'\u001b[0m\u001b[1;33m)\u001b[0m\u001b[1;33m:\u001b[0m\u001b[1;33m\u001b[0m\u001b[1;33m\u001b[0m\u001b[0m\n",
      "\u001b[1;32m~\\anaconda3\\envs\\PythonAdv\\lib\\site-packages\\sklearn\\metrics\\_classification.py\u001b[0m in \u001b[0;36m_check_targets\u001b[1;34m(y_true, y_pred)\u001b[0m\n\u001b[0;32m     79\u001b[0m     \u001b[0my_pred\u001b[0m \u001b[1;33m:\u001b[0m \u001b[0marray\u001b[0m \u001b[1;32mor\u001b[0m \u001b[0mindicator\u001b[0m \u001b[0mmatrix\u001b[0m\u001b[1;33m\u001b[0m\u001b[1;33m\u001b[0m\u001b[0m\n\u001b[0;32m     80\u001b[0m     \"\"\"\n\u001b[1;32m---> 81\u001b[1;33m     \u001b[0mcheck_consistent_length\u001b[0m\u001b[1;33m(\u001b[0m\u001b[0my_true\u001b[0m\u001b[1;33m,\u001b[0m \u001b[0my_pred\u001b[0m\u001b[1;33m)\u001b[0m\u001b[1;33m\u001b[0m\u001b[1;33m\u001b[0m\u001b[0m\n\u001b[0m\u001b[0;32m     82\u001b[0m     \u001b[0mtype_true\u001b[0m \u001b[1;33m=\u001b[0m \u001b[0mtype_of_target\u001b[0m\u001b[1;33m(\u001b[0m\u001b[0my_true\u001b[0m\u001b[1;33m)\u001b[0m\u001b[1;33m\u001b[0m\u001b[1;33m\u001b[0m\u001b[0m\n\u001b[0;32m     83\u001b[0m     \u001b[0mtype_pred\u001b[0m \u001b[1;33m=\u001b[0m \u001b[0mtype_of_target\u001b[0m\u001b[1;33m(\u001b[0m\u001b[0my_pred\u001b[0m\u001b[1;33m)\u001b[0m\u001b[1;33m\u001b[0m\u001b[1;33m\u001b[0m\u001b[0m\n",
      "\u001b[1;32m~\\anaconda3\\envs\\PythonAdv\\lib\\site-packages\\sklearn\\utils\\validation.py\u001b[0m in \u001b[0;36mcheck_consistent_length\u001b[1;34m(*arrays)\u001b[0m\n\u001b[0;32m    255\u001b[0m     \u001b[1;32mif\u001b[0m \u001b[0mlen\u001b[0m\u001b[1;33m(\u001b[0m\u001b[0muniques\u001b[0m\u001b[1;33m)\u001b[0m \u001b[1;33m>\u001b[0m \u001b[1;36m1\u001b[0m\u001b[1;33m:\u001b[0m\u001b[1;33m\u001b[0m\u001b[1;33m\u001b[0m\u001b[0m\n\u001b[0;32m    256\u001b[0m         raise ValueError(\"Found input variables with inconsistent numbers of\"\n\u001b[1;32m--> 257\u001b[1;33m                          \" samples: %r\" % [int(l) for l in lengths])\n\u001b[0m\u001b[0;32m    258\u001b[0m \u001b[1;33m\u001b[0m\u001b[0m\n\u001b[0;32m    259\u001b[0m \u001b[1;33m\u001b[0m\u001b[0m\n",
      "\u001b[1;31mValueError\u001b[0m: Found input variables with inconsistent numbers of samples: [250, 750]"
     ]
    }
   ],
   "source": [
    "print(f\"Training Data Score: {clf.score(X_train_scaled1, y_train)}\")\n",
    "print(f\"Testing Data Score: {clf.score(X_train_scaled1, y_test)}\")"
   ]
  },
  {
   "cell_type": "code",
   "execution_count": null,
   "metadata": {},
   "outputs": [],
   "source": []
  },
  {
   "cell_type": "code",
   "execution_count": 316,
   "metadata": {},
   "outputs": [
    {
     "data": {
      "text/plain": [
       "0.492"
      ]
     },
     "execution_count": 316,
     "metadata": {},
     "output_type": "execute_result"
    }
   ],
   "source": [
    "# random forest accuracy\n",
    "rf = RandomForestClassifier(n_estimators=450, max_depth= 10, min_samples_leaf= 1, min_samples_split= 5)\n",
    "rf = rf.fit(X_train, y_train)\n",
    "rf.score(X_test, y_test)"
   ]
  },
  {
   "cell_type": "code",
   "execution_count": 317,
   "metadata": {
    "scrolled": true
   },
   "outputs": [
    {
     "data": {
      "text/plain": [
       "[(0.12942842842027197, 'acousticness'),\n",
       " (0.1239542421944789, 'danceability'),\n",
       " (0.1113414359787796, 'valence'),\n",
       " (0.11015082382936894, 'energy'),\n",
       " (0.10704037050503247, 'instrumentalness'),\n",
       " (0.10427582688883866, 'speechiness'),\n",
       " (0.0970390504168449, 'loudness'),\n",
       " (0.06412829255635404, 'duration_ms'),\n",
       " (0.05560987136205321, 'tempo'),\n",
       " (0.05393183689787396, 'liveness'),\n",
       " (0.02990875995087272, 'key'),\n",
       " (0.013191060999230777, 'mode')]"
      ]
     },
     "execution_count": 317,
     "metadata": {},
     "output_type": "execute_result"
    }
   ],
   "source": [
    "# the last 6 figures appear to be the least important of all features. could be\n",
    "# useful to drop these?\n",
    "sorted(zip(rf.feature_importances_, features), reverse=True)"
   ]
  },
  {
   "cell_type": "code",
   "execution_count": 318,
   "metadata": {},
   "outputs": [
    {
     "data": {
      "text/html": [
       "<div>\n",
       "<style scoped>\n",
       "    .dataframe tbody tr th:only-of-type {\n",
       "        vertical-align: middle;\n",
       "    }\n",
       "\n",
       "    .dataframe tbody tr th {\n",
       "        vertical-align: top;\n",
       "    }\n",
       "\n",
       "    .dataframe thead th {\n",
       "        text-align: right;\n",
       "    }\n",
       "</style>\n",
       "<table border=\"1\" class=\"dataframe\">\n",
       "  <thead>\n",
       "    <tr style=\"text-align: right;\">\n",
       "      <th></th>\n",
       "      <th>predictions</th>\n",
       "      <th>actual</th>\n",
       "    </tr>\n",
       "  </thead>\n",
       "  <tbody>\n",
       "    <tr>\n",
       "      <th>507</th>\n",
       "      <td>metal</td>\n",
       "      <td>alternative</td>\n",
       "    </tr>\n",
       "    <tr>\n",
       "      <th>818</th>\n",
       "      <td>r&amp;b</td>\n",
       "      <td>latin</td>\n",
       "    </tr>\n",
       "    <tr>\n",
       "      <th>452</th>\n",
       "      <td>edm</td>\n",
       "      <td>r&amp;b</td>\n",
       "    </tr>\n",
       "    <tr>\n",
       "      <th>368</th>\n",
       "      <td>rap</td>\n",
       "      <td>edm</td>\n",
       "    </tr>\n",
       "    <tr>\n",
       "      <th>242</th>\n",
       "      <td>country</td>\n",
       "      <td>christian</td>\n",
       "    </tr>\n",
       "    <tr>\n",
       "      <th>929</th>\n",
       "      <td>christian</td>\n",
       "      <td>jazz</td>\n",
       "    </tr>\n",
       "    <tr>\n",
       "      <th>262</th>\n",
       "      <td>christian</td>\n",
       "      <td>christian</td>\n",
       "    </tr>\n",
       "    <tr>\n",
       "      <th>810</th>\n",
       "      <td>r&amp;b</td>\n",
       "      <td>latin</td>\n",
       "    </tr>\n",
       "    <tr>\n",
       "      <th>318</th>\n",
       "      <td>r&amp;b</td>\n",
       "      <td>edm</td>\n",
       "    </tr>\n",
       "    <tr>\n",
       "      <th>49</th>\n",
       "      <td>rap</td>\n",
       "      <td>rap</td>\n",
       "    </tr>\n",
       "    <tr>\n",
       "      <th>446</th>\n",
       "      <td>rap</td>\n",
       "      <td>r&amp;b</td>\n",
       "    </tr>\n",
       "    <tr>\n",
       "      <th>142</th>\n",
       "      <td>classical</td>\n",
       "      <td>classical</td>\n",
       "    </tr>\n",
       "    <tr>\n",
       "      <th>968</th>\n",
       "      <td>country</td>\n",
       "      <td>jazz</td>\n",
       "    </tr>\n",
       "    <tr>\n",
       "      <th>345</th>\n",
       "      <td>metal</td>\n",
       "      <td>edm</td>\n",
       "    </tr>\n",
       "    <tr>\n",
       "      <th>971</th>\n",
       "      <td>r&amp;b</td>\n",
       "      <td>jazz</td>\n",
       "    </tr>\n",
       "    <tr>\n",
       "      <th>133</th>\n",
       "      <td>classical</td>\n",
       "      <td>classical</td>\n",
       "    </tr>\n",
       "    <tr>\n",
       "      <th>104</th>\n",
       "      <td>classical</td>\n",
       "      <td>classical</td>\n",
       "    </tr>\n",
       "    <tr>\n",
       "      <th>6</th>\n",
       "      <td>rap</td>\n",
       "      <td>rap</td>\n",
       "    </tr>\n",
       "    <tr>\n",
       "      <th>600</th>\n",
       "      <td>r&amp;b</td>\n",
       "      <td>country</td>\n",
       "    </tr>\n",
       "    <tr>\n",
       "      <th>496</th>\n",
       "      <td>r&amp;b</td>\n",
       "      <td>r&amp;b</td>\n",
       "    </tr>\n",
       "  </tbody>\n",
       "</table>\n",
       "</div>"
      ],
      "text/plain": [
       "    predictions       actual\n",
       "507       metal  alternative\n",
       "818         r&b        latin\n",
       "452         edm          r&b\n",
       "368         rap          edm\n",
       "242     country    christian\n",
       "929   christian         jazz\n",
       "262   christian    christian\n",
       "810         r&b        latin\n",
       "318         r&b          edm\n",
       "49          rap          rap\n",
       "446         rap          r&b\n",
       "142   classical    classical\n",
       "968     country         jazz\n",
       "345       metal          edm\n",
       "971         r&b         jazz\n",
       "133   classical    classical\n",
       "104   classical    classical\n",
       "6           rap          rap\n",
       "600         r&b      country\n",
       "496         r&b          r&b"
      ]
     },
     "execution_count": 318,
     "metadata": {},
     "output_type": "execute_result"
    }
   ],
   "source": [
    "# RandomForest Predictions\n",
    "RFpredictions = rf.predict(X_test)\n",
    "RFlist = pd.DataFrame({'predictions': RFpredictions, 'actual': y_test})\n",
    "RFlist.head(20)"
   ]
  },
  {
   "cell_type": "markdown",
   "metadata": {},
   "source": [
    "# Classification Report for Random Forest"
   ]
  },
  {
   "cell_type": "code",
   "execution_count": 37,
   "metadata": {},
   "outputs": [
    {
     "name": "stdout",
     "output_type": "stream",
     "text": [
      "                   precision    recall  f1-score   support\n",
      "\n",
      "            salsa       0.84      0.76      0.80        21\n",
      "            house       0.82      0.88      0.85        26\n",
      "      performance       0.50      0.50      0.50        16\n",
      "alternative metal       0.91      0.84      0.87        25\n",
      "    texas country       0.83      0.79      0.81        24\n",
      "             trap       0.67      0.83      0.74        29\n",
      "        cool jazz       0.87      0.76      0.81        34\n",
      "\n",
      "         accuracy                           0.78       175\n",
      "        macro avg       0.78      0.77      0.77       175\n",
      "     weighted avg       0.79      0.78      0.78       175\n",
      "\n"
     ]
    }
   ],
   "source": [
    "# performance(christian genre) is the poorest with trap as a runner up\n",
    "# \"here we decided to run a classification report to verify the precision for each genre just to \n",
    "# have a clearer idea on which genres were giving us the most issue(potentially remove them)\"\n",
    "\n",
    "# what is the recall and the f1 score?\n",
    "\n",
    "# precision is the true positive divided by the correct prediction and the false positive\n",
    "\n",
    "# recall is the true positive divided by correct prediction and the incorrect prediction\n",
    "\n",
    "# f1 score accounts for the precision and the recall\n",
    "\n",
    "from sklearn.metrics import classification_report\n",
    "\n",
    "print(classification_report(y_test, RFpredictions, target_names = ['salsa','house','performance','alternative metal', \"texas country\", 'trap', 'cool jazz']))"
   ]
  },
  {
   "cell_type": "code",
   "execution_count": null,
   "metadata": {},
   "outputs": [],
   "source": []
  },
  {
   "cell_type": "code",
   "execution_count": 18,
   "metadata": {},
   "outputs": [
    {
     "data": {
      "text/plain": [
       "525"
      ]
     },
     "execution_count": 18,
     "metadata": {},
     "output_type": "execute_result"
    }
   ],
   "source": [
    "len(X_train)"
   ]
  },
  {
   "cell_type": "code",
   "execution_count": 19,
   "metadata": {},
   "outputs": [
    {
     "data": {
      "text/plain": [
       "175"
      ]
     },
     "execution_count": 19,
     "metadata": {},
     "output_type": "execute_result"
    }
   ],
   "source": [
    "len(X_test)"
   ]
  },
  {
   "cell_type": "markdown",
   "metadata": {},
   "source": [
    "# Deep Neural Network"
   ]
  },
  {
   "cell_type": "code",
   "execution_count": 190,
   "metadata": {},
   "outputs": [
    {
     "name": "stdout",
     "output_type": "stream",
     "text": [
      "(700, 12) (700,)\n"
     ]
    }
   ],
   "source": [
    "X = secondarygenres.drop(\"secondary_genres\", axis=1)\n",
    "y = secondarygenres[\"secondary_genres\"]\n",
    "print(X.shape, y.shape)"
   ]
  },
  {
   "cell_type": "code",
   "execution_count": 191,
   "metadata": {},
   "outputs": [],
   "source": [
    "# from sklearn.preprocessing import LabelEncoder\n",
    "\n",
    "# label_encoder = LabelEncoder()\n",
    "# label_encoder.fit(y)\n",
    "# encoded_y = label_encoder.transform(y)"
   ]
  },
  {
   "cell_type": "code",
   "execution_count": 192,
   "metadata": {},
   "outputs": [],
   "source": [
    "# for i in [0, round (len(y)/2), len (y)-1]:\n",
    "#     print(i)\n",
    "#     print(y[i])\n",
    "#     print(encoded_y[i])\n",
    "#     print('-' * 35)"
   ]
  },
  {
   "cell_type": "code",
   "execution_count": 193,
   "metadata": {},
   "outputs": [],
   "source": [
    "# from keras.utils import to_categorical\n",
    "\n",
    "# one_hot_y = to_categorical(encoded_y)\n",
    "\n",
    "# one_hot_y[:2]"
   ]
  },
  {
   "cell_type": "code",
   "execution_count": 194,
   "metadata": {},
   "outputs": [],
   "source": [
    "# for i in [0, round (len(y)/2), len (y)-1]:\n",
    "#     print(i)\n",
    "#     print(y[i])\n",
    "#     print(encoded_y[i])\n",
    "#     print(one_hot_y[i])\n",
    "#     print('-' * 35)"
   ]
  },
  {
   "cell_type": "code",
   "execution_count": 195,
   "metadata": {},
   "outputs": [],
   "source": [
    "from sklearn.model_selection import train_test_split\n",
    "X_train, X_test, y_train, y_test = train_test_split(X, y, random_state=1)"
   ]
  },
  {
   "cell_type": "code",
   "execution_count": 196,
   "metadata": {},
   "outputs": [
    {
     "data": {
      "text/plain": [
       "(525,)"
      ]
     },
     "execution_count": 196,
     "metadata": {},
     "output_type": "execute_result"
    }
   ],
   "source": [
    "X_train.shape\n",
    "y_train.shape"
   ]
  },
  {
   "cell_type": "code",
   "execution_count": 197,
   "metadata": {},
   "outputs": [
    {
     "data": {
      "text/plain": [
       "(175,)"
      ]
     },
     "execution_count": 197,
     "metadata": {},
     "output_type": "execute_result"
    }
   ],
   "source": [
    "X_test.shape\n",
    "y_test.shape"
   ]
  },
  {
   "cell_type": "code",
   "execution_count": 198,
   "metadata": {},
   "outputs": [],
   "source": [
    "from sklearn.preprocessing import StandardScaler\n",
    "\n"
   ]
  },
  {
   "cell_type": "code",
   "execution_count": 199,
   "metadata": {},
   "outputs": [],
   "source": [
    "X_scaler = StandardScaler().fit(X_train)\n",
    "X_train_scaled = X_scaler.transform(X_train)\n",
    "X_test_scaled = X_scaler.transform(X_test)"
   ]
  },
  {
   "cell_type": "code",
   "execution_count": 200,
   "metadata": {},
   "outputs": [],
   "source": [
    "from tensorflow.keras.utils import to_categorical"
   ]
  },
  {
   "cell_type": "code",
   "execution_count": 201,
   "metadata": {},
   "outputs": [],
   "source": [
    "label_encoder = LabelEncoder()\n",
    "label_encoder.fit(y_train)\n",
    "\n",
    "encoded_y_train = label_encoder.transform(y_train)\n",
    "encoded_y_test = label_encoder.transform(y_test)"
   ]
  },
  {
   "cell_type": "code",
   "execution_count": 202,
   "metadata": {},
   "outputs": [],
   "source": [
    "y_train_categorical = to_categorical(encoded_y_train)\n",
    "y_test_categorical = to_categorical(encoded_y_test)"
   ]
  },
  {
   "cell_type": "code",
   "execution_count": 203,
   "metadata": {},
   "outputs": [],
   "source": [
    "from tensorflow.keras.models import Sequential \n",
    "\n",
    "model = Sequential()"
   ]
  },
  {
   "cell_type": "code",
   "execution_count": 204,
   "metadata": {},
   "outputs": [],
   "source": [
    "from tensorflow.keras.layers import Dense\n",
    "\n",
    "model.add(Dense(units=36, activation = 'relu', input_dim=12))\n",
    "model.add(Dense(units = 7, activation='softmax'))"
   ]
  },
  {
   "cell_type": "code",
   "execution_count": 205,
   "metadata": {},
   "outputs": [],
   "source": [
    "\n",
    "model.compile(optimizer='adam',\n",
    "            loss = 'categorical_crossentropy',\n",
    "            metrics=['accuracy'])\n"
   ]
  },
  {
   "cell_type": "code",
   "execution_count": 206,
   "metadata": {},
   "outputs": [
    {
     "name": "stdout",
     "output_type": "stream",
     "text": [
      "Model: \"sequential_6\"\n",
      "_________________________________________________________________\n",
      "Layer (type)                 Output Shape              Param #   \n",
      "=================================================================\n",
      "dense_10 (Dense)             (None, 36)                468       \n",
      "_________________________________________________________________\n",
      "dense_11 (Dense)             (None, 7)                 259       \n",
      "=================================================================\n",
      "Total params: 727\n",
      "Trainable params: 727\n",
      "Non-trainable params: 0\n",
      "_________________________________________________________________\n"
     ]
    }
   ],
   "source": [
    "model.summary()"
   ]
  },
  {
   "cell_type": "code",
   "execution_count": 207,
   "metadata": {},
   "outputs": [
    {
     "name": "stdout",
     "output_type": "stream",
     "text": [
      "Train on 525 samples\n",
      "Epoch 1/60\n",
      "525/525 - 0s - loss: 1.9100 - accuracy: 0.2057\n",
      "Epoch 2/60\n",
      "525/525 - 0s - loss: 1.7308 - accuracy: 0.3371\n",
      "Epoch 3/60\n",
      "525/525 - 0s - loss: 1.5963 - accuracy: 0.4324\n",
      "Epoch 4/60\n",
      "525/525 - 0s - loss: 1.4891 - accuracy: 0.4876\n",
      "Epoch 5/60\n",
      "525/525 - 0s - loss: 1.3982 - accuracy: 0.5448\n",
      "Epoch 6/60\n",
      "525/525 - 0s - loss: 1.3183 - accuracy: 0.5752\n",
      "Epoch 7/60\n",
      "525/525 - 0s - loss: 1.2448 - accuracy: 0.6038\n",
      "Epoch 8/60\n",
      "525/525 - 0s - loss: 1.1791 - accuracy: 0.6229\n",
      "Epoch 9/60\n",
      "525/525 - 0s - loss: 1.1201 - accuracy: 0.6419\n",
      "Epoch 10/60\n",
      "525/525 - 0s - loss: 1.0684 - accuracy: 0.6648\n",
      "Epoch 11/60\n",
      "525/525 - 0s - loss: 1.0217 - accuracy: 0.6819\n",
      "Epoch 12/60\n",
      "525/525 - 0s - loss: 0.9802 - accuracy: 0.7029\n",
      "Epoch 13/60\n",
      "525/525 - 0s - loss: 0.9426 - accuracy: 0.7162\n",
      "Epoch 14/60\n",
      "525/525 - 0s - loss: 0.9083 - accuracy: 0.7257\n",
      "Epoch 15/60\n",
      "525/525 - 0s - loss: 0.8792 - accuracy: 0.7333\n",
      "Epoch 16/60\n",
      "525/525 - 0s - loss: 0.8523 - accuracy: 0.7524\n",
      "Epoch 17/60\n",
      "525/525 - 0s - loss: 0.8275 - accuracy: 0.7581\n",
      "Epoch 18/60\n",
      "525/525 - 0s - loss: 0.8059 - accuracy: 0.7619\n",
      "Epoch 19/60\n",
      "525/525 - 0s - loss: 0.7858 - accuracy: 0.7676\n",
      "Epoch 20/60\n",
      "525/525 - 0s - loss: 0.7675 - accuracy: 0.7714\n",
      "Epoch 21/60\n",
      "525/525 - 0s - loss: 0.7495 - accuracy: 0.7810\n",
      "Epoch 22/60\n",
      "525/525 - 0s - loss: 0.7348 - accuracy: 0.7848\n",
      "Epoch 23/60\n",
      "525/525 - 0s - loss: 0.7205 - accuracy: 0.7867\n",
      "Epoch 24/60\n",
      "525/525 - 0s - loss: 0.7076 - accuracy: 0.7905\n",
      "Epoch 25/60\n",
      "525/525 - 0s - loss: 0.6945 - accuracy: 0.7943\n",
      "Epoch 26/60\n",
      "525/525 - 0s - loss: 0.6834 - accuracy: 0.7924\n",
      "Epoch 27/60\n",
      "525/525 - 0s - loss: 0.6730 - accuracy: 0.8019\n",
      "Epoch 28/60\n",
      "525/525 - 0s - loss: 0.6637 - accuracy: 0.8057\n",
      "Epoch 29/60\n",
      "525/525 - 0s - loss: 0.6547 - accuracy: 0.8076\n",
      "Epoch 30/60\n",
      "525/525 - 0s - loss: 0.6457 - accuracy: 0.8076\n",
      "Epoch 31/60\n",
      "525/525 - 0s - loss: 0.6368 - accuracy: 0.8076\n",
      "Epoch 32/60\n",
      "525/525 - 0s - loss: 0.6298 - accuracy: 0.8038\n",
      "Epoch 33/60\n",
      "525/525 - 0s - loss: 0.6228 - accuracy: 0.8095\n",
      "Epoch 34/60\n",
      "525/525 - 0s - loss: 0.6169 - accuracy: 0.8076\n",
      "Epoch 35/60\n",
      "525/525 - 0s - loss: 0.6104 - accuracy: 0.8076\n",
      "Epoch 36/60\n",
      "525/525 - 0s - loss: 0.6031 - accuracy: 0.8114\n",
      "Epoch 37/60\n",
      "525/525 - 0s - loss: 0.5980 - accuracy: 0.8152\n",
      "Epoch 38/60\n",
      "525/525 - 0s - loss: 0.5930 - accuracy: 0.8152\n",
      "Epoch 39/60\n",
      "525/525 - 0s - loss: 0.5886 - accuracy: 0.8171\n",
      "Epoch 40/60\n",
      "525/525 - 0s - loss: 0.5814 - accuracy: 0.8171\n",
      "Epoch 41/60\n",
      "525/525 - 0s - loss: 0.5760 - accuracy: 0.8248\n",
      "Epoch 42/60\n",
      "525/525 - 0s - loss: 0.5730 - accuracy: 0.8210\n",
      "Epoch 43/60\n",
      "525/525 - 0s - loss: 0.5676 - accuracy: 0.8229\n",
      "Epoch 44/60\n",
      "525/525 - 0s - loss: 0.5628 - accuracy: 0.8267\n",
      "Epoch 45/60\n",
      "525/525 - 0s - loss: 0.5585 - accuracy: 0.8248\n",
      "Epoch 46/60\n",
      "525/525 - 0s - loss: 0.5540 - accuracy: 0.8267\n",
      "Epoch 47/60\n",
      "525/525 - 0s - loss: 0.5497 - accuracy: 0.8286\n",
      "Epoch 48/60\n",
      "525/525 - 0s - loss: 0.5471 - accuracy: 0.8267\n",
      "Epoch 49/60\n",
      "525/525 - 0s - loss: 0.5423 - accuracy: 0.8324\n",
      "Epoch 50/60\n",
      "525/525 - 0s - loss: 0.5386 - accuracy: 0.8267\n",
      "Epoch 51/60\n",
      "525/525 - 0s - loss: 0.5348 - accuracy: 0.8286\n",
      "Epoch 52/60\n",
      "525/525 - 0s - loss: 0.5311 - accuracy: 0.8305\n",
      "Epoch 53/60\n",
      "525/525 - 0s - loss: 0.5279 - accuracy: 0.8286\n",
      "Epoch 54/60\n",
      "525/525 - 0s - loss: 0.5238 - accuracy: 0.8305\n",
      "Epoch 55/60\n",
      "525/525 - 0s - loss: 0.5204 - accuracy: 0.8305\n",
      "Epoch 56/60\n",
      "525/525 - 0s - loss: 0.5171 - accuracy: 0.8343\n",
      "Epoch 57/60\n",
      "525/525 - 0s - loss: 0.5153 - accuracy: 0.8343\n",
      "Epoch 58/60\n",
      "525/525 - 0s - loss: 0.5119 - accuracy: 0.8343\n",
      "Epoch 59/60\n",
      "525/525 - 0s - loss: 0.5087 - accuracy: 0.8362\n",
      "Epoch 60/60\n",
      "525/525 - 0s - loss: 0.5058 - accuracy: 0.8381\n"
     ]
    },
    {
     "data": {
      "text/plain": [
       "<tensorflow.python.keras.callbacks.History at 0x139c7b395c0>"
      ]
     },
     "execution_count": 207,
     "metadata": {},
     "output_type": "execute_result"
    }
   ],
   "source": [
    "model.fit(\n",
    "    X_train_scaled,\n",
    "    y_train_categorical,\n",
    "    epochs=60,\n",
    "    #batch_size=200,\n",
    "    shuffle=True,\n",
    "    verbose=2\n",
    ")"
   ]
  },
  {
   "cell_type": "code",
   "execution_count": 215,
   "metadata": {},
   "outputs": [],
   "source": [
    "deep_model = Sequential()\n",
    "deep_model.add(Dense(units=36, activation='relu', input_dim=12))\n",
    "deep_model.add(Dense(units=24, activation='relu'))\n",
    "deep_model.add(Dense(units=12, activation='relu'))\n",
    "deep_model.add(Dense(units=7, activation='softmax'))"
   ]
  },
  {
   "cell_type": "code",
   "execution_count": 216,
   "metadata": {},
   "outputs": [
    {
     "name": "stdout",
     "output_type": "stream",
     "text": [
      "Model: \"sequential_8\"\n",
      "_________________________________________________________________\n",
      "Layer (type)                 Output Shape              Param #   \n",
      "=================================================================\n",
      "dense_15 (Dense)             (None, 36)                468       \n",
      "_________________________________________________________________\n",
      "dense_16 (Dense)             (None, 24)                888       \n",
      "_________________________________________________________________\n",
      "dense_17 (Dense)             (None, 12)                300       \n",
      "_________________________________________________________________\n",
      "dense_18 (Dense)             (None, 7)                 91        \n",
      "=================================================================\n",
      "Total params: 1,747\n",
      "Trainable params: 1,747\n",
      "Non-trainable params: 0\n",
      "_________________________________________________________________\n"
     ]
    }
   ],
   "source": [
    "deep_model.summary()"
   ]
  },
  {
   "cell_type": "code",
   "execution_count": 217,
   "metadata": {},
   "outputs": [
    {
     "name": "stdout",
     "output_type": "stream",
     "text": [
      "Train on 525 samples\n",
      "Epoch 1/200\n",
      "525/525 - 0s - loss: 1.9123 - accuracy: 0.1752\n",
      "Epoch 2/200\n",
      "525/525 - 0s - loss: 1.8064 - accuracy: 0.2762\n",
      "Epoch 3/200\n",
      "525/525 - 0s - loss: 1.7148 - accuracy: 0.3429\n",
      "Epoch 4/200\n",
      "525/525 - 0s - loss: 1.6245 - accuracy: 0.4324\n",
      "Epoch 5/200\n",
      "525/525 - 0s - loss: 1.5079 - accuracy: 0.5619\n",
      "Epoch 6/200\n",
      "525/525 - 0s - loss: 1.3853 - accuracy: 0.6171\n",
      "Epoch 7/200\n",
      "525/525 - 0s - loss: 1.2561 - accuracy: 0.6457\n",
      "Epoch 8/200\n",
      "525/525 - 0s - loss: 1.1386 - accuracy: 0.6781\n",
      "Epoch 9/200\n",
      "525/525 - 0s - loss: 1.0347 - accuracy: 0.7219\n",
      "Epoch 10/200\n",
      "525/525 - 0s - loss: 0.9469 - accuracy: 0.7352\n",
      "Epoch 11/200\n",
      "525/525 - 0s - loss: 0.8753 - accuracy: 0.7448\n",
      "Epoch 12/200\n",
      "525/525 - 0s - loss: 0.8198 - accuracy: 0.7505\n",
      "Epoch 13/200\n",
      "525/525 - 0s - loss: 0.7711 - accuracy: 0.7676\n",
      "Epoch 14/200\n",
      "525/525 - 0s - loss: 0.7383 - accuracy: 0.7695\n",
      "Epoch 15/200\n",
      "525/525 - 0s - loss: 0.7038 - accuracy: 0.7829\n",
      "Epoch 16/200\n",
      "525/525 - 0s - loss: 0.6837 - accuracy: 0.7752\n",
      "Epoch 17/200\n",
      "525/525 - 0s - loss: 0.6668 - accuracy: 0.7810\n",
      "Epoch 18/200\n",
      "525/525 - 0s - loss: 0.6483 - accuracy: 0.7829\n",
      "Epoch 19/200\n",
      "525/525 - 0s - loss: 0.6315 - accuracy: 0.8038\n",
      "Epoch 20/200\n",
      "525/525 - 0s - loss: 0.6185 - accuracy: 0.7848\n",
      "Epoch 21/200\n",
      "525/525 - 0s - loss: 0.6086 - accuracy: 0.8019\n",
      "Epoch 22/200\n",
      "525/525 - 0s - loss: 0.6010 - accuracy: 0.8133\n",
      "Epoch 23/200\n",
      "525/525 - 0s - loss: 0.5894 - accuracy: 0.8076\n",
      "Epoch 24/200\n",
      "525/525 - 0s - loss: 0.5765 - accuracy: 0.8248\n",
      "Epoch 25/200\n",
      "525/525 - 0s - loss: 0.5696 - accuracy: 0.8095\n",
      "Epoch 26/200\n",
      "525/525 - 0s - loss: 0.5588 - accuracy: 0.8152\n",
      "Epoch 27/200\n",
      "525/525 - 0s - loss: 0.5487 - accuracy: 0.8171\n",
      "Epoch 28/200\n",
      "525/525 - 0s - loss: 0.5379 - accuracy: 0.8362\n",
      "Epoch 29/200\n",
      "525/525 - 0s - loss: 0.5396 - accuracy: 0.8248\n",
      "Epoch 30/200\n",
      "525/525 - 0s - loss: 0.5275 - accuracy: 0.8362\n",
      "Epoch 31/200\n",
      "525/525 - 0s - loss: 0.5168 - accuracy: 0.8362\n",
      "Epoch 32/200\n",
      "525/525 - 0s - loss: 0.5126 - accuracy: 0.8324\n",
      "Epoch 33/200\n",
      "525/525 - 0s - loss: 0.5024 - accuracy: 0.8419\n",
      "Epoch 34/200\n",
      "525/525 - 0s - loss: 0.4971 - accuracy: 0.8476\n",
      "Epoch 35/200\n",
      "525/525 - 0s - loss: 0.4949 - accuracy: 0.8457\n",
      "Epoch 36/200\n",
      "525/525 - 0s - loss: 0.4873 - accuracy: 0.8476\n",
      "Epoch 37/200\n",
      "525/525 - 0s - loss: 0.4834 - accuracy: 0.8457\n",
      "Epoch 38/200\n",
      "525/525 - 0s - loss: 0.4754 - accuracy: 0.8457\n",
      "Epoch 39/200\n",
      "525/525 - 0s - loss: 0.4696 - accuracy: 0.8476\n",
      "Epoch 40/200\n",
      "525/525 - 0s - loss: 0.4648 - accuracy: 0.8495\n",
      "Epoch 41/200\n",
      "525/525 - 0s - loss: 0.4567 - accuracy: 0.8571\n",
      "Epoch 42/200\n",
      "525/525 - 0s - loss: 0.4520 - accuracy: 0.8571\n",
      "Epoch 43/200\n",
      "525/525 - 0s - loss: 0.4490 - accuracy: 0.8552\n",
      "Epoch 44/200\n",
      "525/525 - 0s - loss: 0.4395 - accuracy: 0.8533\n",
      "Epoch 45/200\n",
      "525/525 - 0s - loss: 0.4399 - accuracy: 0.8533\n",
      "Epoch 46/200\n",
      "525/525 - 0s - loss: 0.4298 - accuracy: 0.8629\n",
      "Epoch 47/200\n",
      "525/525 - 0s - loss: 0.4258 - accuracy: 0.8629\n",
      "Epoch 48/200\n",
      "525/525 - 0s - loss: 0.4250 - accuracy: 0.8610\n",
      "Epoch 49/200\n",
      "525/525 - 0s - loss: 0.4177 - accuracy: 0.8686\n",
      "Epoch 50/200\n",
      "525/525 - 0s - loss: 0.4098 - accuracy: 0.8667\n",
      "Epoch 51/200\n",
      "525/525 - 0s - loss: 0.4070 - accuracy: 0.8762\n",
      "Epoch 52/200\n",
      "525/525 - 0s - loss: 0.4106 - accuracy: 0.8705\n",
      "Epoch 53/200\n",
      "525/525 - 0s - loss: 0.3991 - accuracy: 0.8724\n",
      "Epoch 54/200\n",
      "525/525 - 0s - loss: 0.3912 - accuracy: 0.8800\n",
      "Epoch 55/200\n",
      "525/525 - 0s - loss: 0.3916 - accuracy: 0.8743\n",
      "Epoch 56/200\n",
      "525/525 - 0s - loss: 0.3878 - accuracy: 0.8762\n",
      "Epoch 57/200\n",
      "525/525 - 0s - loss: 0.3792 - accuracy: 0.8819\n",
      "Epoch 58/200\n",
      "525/525 - 0s - loss: 0.3771 - accuracy: 0.8857\n",
      "Epoch 59/200\n",
      "525/525 - 0s - loss: 0.3718 - accuracy: 0.8914\n",
      "Epoch 60/200\n",
      "525/525 - 0s - loss: 0.3743 - accuracy: 0.8781\n",
      "Epoch 61/200\n",
      "525/525 - 0s - loss: 0.3670 - accuracy: 0.8857\n",
      "Epoch 62/200\n",
      "525/525 - 0s - loss: 0.3655 - accuracy: 0.8914\n",
      "Epoch 63/200\n",
      "525/525 - 0s - loss: 0.3578 - accuracy: 0.8933\n",
      "Epoch 64/200\n",
      "525/525 - 0s - loss: 0.3527 - accuracy: 0.8895\n",
      "Epoch 65/200\n",
      "525/525 - 0s - loss: 0.3553 - accuracy: 0.8952\n",
      "Epoch 66/200\n",
      "525/525 - 0s - loss: 0.3481 - accuracy: 0.8914\n",
      "Epoch 67/200\n",
      "525/525 - 0s - loss: 0.3401 - accuracy: 0.8933\n",
      "Epoch 68/200\n",
      "525/525 - 0s - loss: 0.3370 - accuracy: 0.8990\n",
      "Epoch 69/200\n",
      "525/525 - 0s - loss: 0.3354 - accuracy: 0.8990\n",
      "Epoch 70/200\n",
      "525/525 - 0s - loss: 0.3312 - accuracy: 0.8990\n",
      "Epoch 71/200\n",
      "525/525 - 0s - loss: 0.3311 - accuracy: 0.8952\n",
      "Epoch 72/200\n",
      "525/525 - 0s - loss: 0.3284 - accuracy: 0.8933\n",
      "Epoch 73/200\n",
      "525/525 - 0s - loss: 0.3217 - accuracy: 0.9029\n",
      "Epoch 74/200\n",
      "525/525 - 0s - loss: 0.3239 - accuracy: 0.9010\n",
      "Epoch 75/200\n",
      "525/525 - 0s - loss: 0.3151 - accuracy: 0.9029\n",
      "Epoch 76/200\n",
      "525/525 - 0s - loss: 0.3156 - accuracy: 0.9048\n",
      "Epoch 77/200\n",
      "525/525 - 0s - loss: 0.3083 - accuracy: 0.8990\n",
      "Epoch 78/200\n",
      "525/525 - 0s - loss: 0.3034 - accuracy: 0.9029\n",
      "Epoch 79/200\n",
      "525/525 - 0s - loss: 0.3020 - accuracy: 0.9162\n",
      "Epoch 80/200\n",
      "525/525 - 0s - loss: 0.3009 - accuracy: 0.9124\n",
      "Epoch 81/200\n",
      "525/525 - 0s - loss: 0.2928 - accuracy: 0.9162\n",
      "Epoch 82/200\n",
      "525/525 - 0s - loss: 0.2895 - accuracy: 0.9143\n",
      "Epoch 83/200\n",
      "525/525 - 0s - loss: 0.2892 - accuracy: 0.9105\n",
      "Epoch 84/200\n",
      "525/525 - 0s - loss: 0.2887 - accuracy: 0.9143\n",
      "Epoch 85/200\n",
      "525/525 - 0s - loss: 0.2894 - accuracy: 0.9124\n",
      "Epoch 86/200\n",
      "525/525 - 0s - loss: 0.2815 - accuracy: 0.9181\n",
      "Epoch 87/200\n",
      "525/525 - 0s - loss: 0.2749 - accuracy: 0.9181\n",
      "Epoch 88/200\n",
      "525/525 - 0s - loss: 0.2738 - accuracy: 0.9181\n",
      "Epoch 89/200\n",
      "525/525 - 0s - loss: 0.2709 - accuracy: 0.9257\n",
      "Epoch 90/200\n",
      "525/525 - 0s - loss: 0.2679 - accuracy: 0.9200\n",
      "Epoch 91/200\n",
      "525/525 - 0s - loss: 0.2706 - accuracy: 0.9181\n",
      "Epoch 92/200\n",
      "525/525 - 0s - loss: 0.2621 - accuracy: 0.9257\n",
      "Epoch 93/200\n",
      "525/525 - 0s - loss: 0.2583 - accuracy: 0.9295\n",
      "Epoch 94/200\n",
      "525/525 - 0s - loss: 0.2598 - accuracy: 0.9200\n",
      "Epoch 95/200\n",
      "525/525 - 0s - loss: 0.2533 - accuracy: 0.9276\n",
      "Epoch 96/200\n",
      "525/525 - 0s - loss: 0.2502 - accuracy: 0.9238\n",
      "Epoch 97/200\n",
      "525/525 - 0s - loss: 0.2469 - accuracy: 0.9276\n",
      "Epoch 98/200\n",
      "525/525 - 0s - loss: 0.2523 - accuracy: 0.9200\n",
      "Epoch 99/200\n",
      "525/525 - 0s - loss: 0.2461 - accuracy: 0.9238\n",
      "Epoch 100/200\n",
      "525/525 - 0s - loss: 0.2441 - accuracy: 0.9352\n",
      "Epoch 101/200\n",
      "525/525 - 0s - loss: 0.2380 - accuracy: 0.9295\n",
      "Epoch 102/200\n",
      "525/525 - 0s - loss: 0.2362 - accuracy: 0.9333\n",
      "Epoch 103/200\n",
      "525/525 - 0s - loss: 0.2333 - accuracy: 0.9352\n",
      "Epoch 104/200\n",
      "525/525 - 0s - loss: 0.2315 - accuracy: 0.9371\n",
      "Epoch 105/200\n",
      "525/525 - 0s - loss: 0.2299 - accuracy: 0.9352\n",
      "Epoch 106/200\n",
      "525/525 - 0s - loss: 0.2275 - accuracy: 0.9333\n",
      "Epoch 107/200\n",
      "525/525 - 0s - loss: 0.2281 - accuracy: 0.9295\n",
      "Epoch 108/200\n",
      "525/525 - 0s - loss: 0.2234 - accuracy: 0.9333\n",
      "Epoch 109/200\n",
      "525/525 - 0s - loss: 0.2169 - accuracy: 0.9352\n",
      "Epoch 110/200\n",
      "525/525 - 0s - loss: 0.2191 - accuracy: 0.9371\n",
      "Epoch 111/200\n",
      "525/525 - 0s - loss: 0.2143 - accuracy: 0.9352\n",
      "Epoch 112/200\n",
      "525/525 - 0s - loss: 0.2111 - accuracy: 0.9448\n",
      "Epoch 113/200\n",
      "525/525 - 0s - loss: 0.2126 - accuracy: 0.9352\n",
      "Epoch 114/200\n",
      "525/525 - 0s - loss: 0.2103 - accuracy: 0.9448\n",
      "Epoch 115/200\n",
      "525/525 - 0s - loss: 0.2042 - accuracy: 0.9505\n",
      "Epoch 116/200\n",
      "525/525 - 0s - loss: 0.2005 - accuracy: 0.9486\n",
      "Epoch 117/200\n",
      "525/525 - 0s - loss: 0.1999 - accuracy: 0.9390\n",
      "Epoch 118/200\n",
      "525/525 - 0s - loss: 0.1983 - accuracy: 0.9448\n",
      "Epoch 119/200\n",
      "525/525 - 0s - loss: 0.1981 - accuracy: 0.9429\n",
      "Epoch 120/200\n",
      "525/525 - 0s - loss: 0.1936 - accuracy: 0.9467\n",
      "Epoch 121/200\n",
      "525/525 - 0s - loss: 0.1913 - accuracy: 0.9467\n",
      "Epoch 122/200\n",
      "525/525 - 0s - loss: 0.1940 - accuracy: 0.9505\n",
      "Epoch 123/200\n",
      "525/525 - 0s - loss: 0.1926 - accuracy: 0.9486\n",
      "Epoch 124/200\n",
      "525/525 - 0s - loss: 0.1987 - accuracy: 0.9467\n",
      "Epoch 125/200\n",
      "525/525 - 0s - loss: 0.1899 - accuracy: 0.9524\n",
      "Epoch 126/200\n",
      "525/525 - 0s - loss: 0.1867 - accuracy: 0.9505\n",
      "Epoch 127/200\n",
      "525/525 - 0s - loss: 0.1807 - accuracy: 0.9543\n",
      "Epoch 128/200\n",
      "525/525 - 0s - loss: 0.1781 - accuracy: 0.9562\n",
      "Epoch 129/200\n",
      "525/525 - 0s - loss: 0.1765 - accuracy: 0.9562\n",
      "Epoch 130/200\n",
      "525/525 - 0s - loss: 0.1761 - accuracy: 0.9505\n",
      "Epoch 131/200\n",
      "525/525 - 0s - loss: 0.1735 - accuracy: 0.9562\n",
      "Epoch 132/200\n",
      "525/525 - 0s - loss: 0.1726 - accuracy: 0.9524\n",
      "Epoch 133/200\n",
      "525/525 - 0s - loss: 0.1686 - accuracy: 0.9600\n",
      "Epoch 134/200\n",
      "525/525 - 0s - loss: 0.1676 - accuracy: 0.9562\n",
      "Epoch 135/200\n",
      "525/525 - 0s - loss: 0.1624 - accuracy: 0.9581\n",
      "Epoch 136/200\n",
      "525/525 - 0s - loss: 0.1642 - accuracy: 0.9562\n"
     ]
    },
    {
     "name": "stdout",
     "output_type": "stream",
     "text": [
      "Epoch 137/200\n",
      "525/525 - 0s - loss: 0.1654 - accuracy: 0.9581\n",
      "Epoch 138/200\n",
      "525/525 - 0s - loss: 0.1598 - accuracy: 0.9562\n",
      "Epoch 139/200\n",
      "525/525 - 0s - loss: 0.1581 - accuracy: 0.9619\n",
      "Epoch 140/200\n",
      "525/525 - 0s - loss: 0.1590 - accuracy: 0.9581\n",
      "Epoch 141/200\n",
      "525/525 - 0s - loss: 0.1578 - accuracy: 0.9600\n",
      "Epoch 142/200\n",
      "525/525 - 0s - loss: 0.1529 - accuracy: 0.9619\n",
      "Epoch 143/200\n",
      "525/525 - 0s - loss: 0.1510 - accuracy: 0.9619\n",
      "Epoch 144/200\n",
      "525/525 - 0s - loss: 0.1520 - accuracy: 0.9619\n",
      "Epoch 145/200\n",
      "525/525 - 0s - loss: 0.1482 - accuracy: 0.9600\n",
      "Epoch 146/200\n",
      "525/525 - 0s - loss: 0.1484 - accuracy: 0.9638\n",
      "Epoch 147/200\n",
      "525/525 - 0s - loss: 0.1476 - accuracy: 0.9543\n",
      "Epoch 148/200\n",
      "525/525 - 0s - loss: 0.1472 - accuracy: 0.9638\n",
      "Epoch 149/200\n",
      "525/525 - 0s - loss: 0.1435 - accuracy: 0.9619\n",
      "Epoch 150/200\n",
      "525/525 - 0s - loss: 0.1424 - accuracy: 0.9600\n",
      "Epoch 151/200\n",
      "525/525 - 0s - loss: 0.1411 - accuracy: 0.9657\n",
      "Epoch 152/200\n",
      "525/525 - 0s - loss: 0.1397 - accuracy: 0.9600\n",
      "Epoch 153/200\n",
      "525/525 - 0s - loss: 0.1409 - accuracy: 0.9619\n",
      "Epoch 154/200\n",
      "525/525 - 0s - loss: 0.1387 - accuracy: 0.9600\n",
      "Epoch 155/200\n",
      "525/525 - 0s - loss: 0.1370 - accuracy: 0.9619\n",
      "Epoch 156/200\n",
      "525/525 - 0s - loss: 0.1369 - accuracy: 0.9657\n",
      "Epoch 157/200\n",
      "525/525 - 0s - loss: 0.1384 - accuracy: 0.9619\n",
      "Epoch 158/200\n",
      "525/525 - 0s - loss: 0.1332 - accuracy: 0.9638\n",
      "Epoch 159/200\n",
      "525/525 - 0s - loss: 0.1322 - accuracy: 0.9657\n",
      "Epoch 160/200\n",
      "525/525 - 0s - loss: 0.1277 - accuracy: 0.9657\n",
      "Epoch 161/200\n",
      "525/525 - 0s - loss: 0.1254 - accuracy: 0.9676\n",
      "Epoch 162/200\n",
      "525/525 - 0s - loss: 0.1243 - accuracy: 0.9676\n",
      "Epoch 163/200\n",
      "525/525 - 0s - loss: 0.1263 - accuracy: 0.9676\n",
      "Epoch 164/200\n",
      "525/525 - 0s - loss: 0.1225 - accuracy: 0.9714\n",
      "Epoch 165/200\n",
      "525/525 - 0s - loss: 0.1218 - accuracy: 0.9714\n",
      "Epoch 166/200\n",
      "525/525 - 0s - loss: 0.1201 - accuracy: 0.9714\n",
      "Epoch 167/200\n",
      "525/525 - 0s - loss: 0.1201 - accuracy: 0.9657\n",
      "Epoch 168/200\n",
      "525/525 - 0s - loss: 0.1205 - accuracy: 0.9676\n",
      "Epoch 169/200\n",
      "525/525 - 0s - loss: 0.1194 - accuracy: 0.9695\n",
      "Epoch 170/200\n",
      "525/525 - 0s - loss: 0.1157 - accuracy: 0.9695\n",
      "Epoch 171/200\n",
      "525/525 - 0s - loss: 0.1136 - accuracy: 0.9714\n",
      "Epoch 172/200\n",
      "525/525 - 0s - loss: 0.1114 - accuracy: 0.9714\n",
      "Epoch 173/200\n",
      "525/525 - 0s - loss: 0.1128 - accuracy: 0.9714\n",
      "Epoch 174/200\n",
      "525/525 - 0s - loss: 0.1090 - accuracy: 0.9695\n",
      "Epoch 175/200\n",
      "525/525 - 0s - loss: 0.1093 - accuracy: 0.9771\n",
      "Epoch 176/200\n",
      "525/525 - 0s - loss: 0.1063 - accuracy: 0.9714\n",
      "Epoch 177/200\n",
      "525/525 - 0s - loss: 0.1103 - accuracy: 0.9733\n",
      "Epoch 178/200\n",
      "525/525 - 0s - loss: 0.1072 - accuracy: 0.9714\n",
      "Epoch 179/200\n",
      "525/525 - 0s - loss: 0.1047 - accuracy: 0.9752\n",
      "Epoch 180/200\n",
      "525/525 - 0s - loss: 0.1035 - accuracy: 0.9733\n",
      "Epoch 181/200\n",
      "525/525 - 0s - loss: 0.1003 - accuracy: 0.9790\n",
      "Epoch 182/200\n",
      "525/525 - 0s - loss: 0.0983 - accuracy: 0.9752\n",
      "Epoch 183/200\n",
      "525/525 - 0s - loss: 0.1001 - accuracy: 0.9829\n",
      "Epoch 184/200\n",
      "525/525 - 0s - loss: 0.0982 - accuracy: 0.9771\n",
      "Epoch 185/200\n",
      "525/525 - 0s - loss: 0.0977 - accuracy: 0.9790\n",
      "Epoch 186/200\n",
      "525/525 - 0s - loss: 0.0942 - accuracy: 0.9771\n",
      "Epoch 187/200\n",
      "525/525 - 0s - loss: 0.0946 - accuracy: 0.9790\n",
      "Epoch 188/200\n",
      "525/525 - 0s - loss: 0.0952 - accuracy: 0.9752\n",
      "Epoch 189/200\n",
      "525/525 - 0s - loss: 0.1000 - accuracy: 0.9714\n",
      "Epoch 190/200\n",
      "525/525 - 0s - loss: 0.0998 - accuracy: 0.9752\n",
      "Epoch 191/200\n",
      "525/525 - 0s - loss: 0.0929 - accuracy: 0.9790\n",
      "Epoch 192/200\n",
      "525/525 - 0s - loss: 0.0911 - accuracy: 0.9771\n",
      "Epoch 193/200\n",
      "525/525 - 0s - loss: 0.0875 - accuracy: 0.9829\n",
      "Epoch 194/200\n",
      "525/525 - 0s - loss: 0.0893 - accuracy: 0.9790\n",
      "Epoch 195/200\n",
      "525/525 - 0s - loss: 0.0893 - accuracy: 0.9848\n",
      "Epoch 196/200\n",
      "525/525 - 0s - loss: 0.0854 - accuracy: 0.9867\n",
      "Epoch 197/200\n",
      "525/525 - 0s - loss: 0.0846 - accuracy: 0.9848\n",
      "Epoch 198/200\n",
      "525/525 - 0s - loss: 0.0844 - accuracy: 0.9790\n",
      "Epoch 199/200\n",
      "525/525 - 0s - loss: 0.0833 - accuracy: 0.9886\n",
      "Epoch 200/200\n",
      "525/525 - 0s - loss: 0.0828 - accuracy: 0.9829\n"
     ]
    },
    {
     "data": {
      "text/plain": [
       "<tensorflow.python.keras.callbacks.History at 0x139caf5dc18>"
      ]
     },
     "execution_count": 217,
     "metadata": {},
     "output_type": "execute_result"
    }
   ],
   "source": [
    "deep_model.compile(optimizer='adam',\n",
    "                  loss='categorical_crossentropy',\n",
    "                  metrics=['accuracy'])\n",
    "\n",
    "deep_model.fit(\n",
    "    X_train_scaled,\n",
    "    y_train_categorical,\n",
    "    epochs=200,\n",
    "    #batch_size=200,\n",
    "    shuffle=True,\n",
    "    verbose=2\n",
    ")"
   ]
  },
  {
   "cell_type": "code",
   "execution_count": 218,
   "metadata": {},
   "outputs": [
    {
     "name": "stdout",
     "output_type": "stream",
     "text": [
      "175/175 - 0s - loss: 0.8620 - accuracy: 0.7714\n",
      "0.8619845873968942 0.7714286\n"
     ]
    }
   ],
   "source": [
    "model_loss, model_accuracy = model.evaluate(\n",
    "    X_test_scaled, y_test_categorical, verbose=2)\n",
    "\n",
    "print(model_loss, model_accuracy)"
   ]
  },
  {
   "cell_type": "code",
   "execution_count": 219,
   "metadata": {},
   "outputs": [
    {
     "name": "stdout",
     "output_type": "stream",
     "text": [
      "175/175 - 0s - loss: 1.5863 - accuracy: 0.6743\n",
      "1.5862619951793127 0.6742857\n"
     ]
    }
   ],
   "source": [
    "model_loss, model_accuracy = deep_model.evaluate(\n",
    "    X_test_scaled, y_test_categorical, verbose=2)\n",
    "\n",
    "print(model_loss, model_accuracy)"
   ]
  },
  {
   "cell_type": "code",
   "execution_count": null,
   "metadata": {},
   "outputs": [],
   "source": [
    "from sklearn.metrics import roc_auc_score\n",
    "from sklearn.metrics import roc_curve\n",
    "\n"
   ]
  },
  {
   "cell_type": "markdown",
   "metadata": {},
   "source": [
    "# SVM Classifier"
   ]
  },
  {
   "cell_type": "code",
   "execution_count": 58,
   "metadata": {},
   "outputs": [],
   "source": [
    "from sklearn.svm import SVC\n",
    "model_SVC = SVC(kernel = 'rbf', random_state = 4)\n",
    "model_SVC.fit(X_train, y_train)\n",
    "\n",
    "y_pred_svm = model_SVC.decision_function(X_test)"
   ]
  },
  {
   "cell_type": "code",
   "execution_count": 59,
   "metadata": {},
   "outputs": [],
   "source": [
    "from sklearn.linear_model import LogisticRegression\n",
    "model_logistic = LogisticRegression()\n",
    "model_logistic.fit(X_train, y_train)\n",
    "\n",
    "y_pred_logistic = model_logistic.decision_function(X_test)"
   ]
  },
  {
   "cell_type": "code",
   "execution_count": null,
   "metadata": {},
   "outputs": [],
   "source": [
    "from sklearn.metrics import roc_curve, auc\n",
    "\n",
    "logistic_fpr, logistic_tpr, threshold = roc_curve(y_test, y_pred_logistic)\n",
    "auc_logistic = auc(logistic_fpr, logistic_tpr)\n",
    "\n",
    "svm_fpr, svm_tpr, threshold = roc_curve(y_test, y_pred_svm)\n",
    "auc_svm = auc(svm_fpr, svm_tpr)\n",
    "\n",
    "plt.figure(figsize=(5, 5), dpi=100)\n",
    "plt.plot(svm_fpr, svm_tpr, linestyle='-', label='SVM (auc = %0.3f)' % auc_svm)\n",
    "plt.plot(logistic_fpr, logistic_tpr, marker='.', label='Logistic (auc = %0.3f)' % auc_logistic)\n",
    "\n",
    "plt.xlabel('False Positive Rate -->')\n",
    "plt.ylabel('True Positive Rate -->')\n",
    "\n",
    "plt.legend()\n",
    "\n",
    "plt.show()"
   ]
  },
  {
   "cell_type": "markdown",
   "metadata": {},
   "source": [
    "# KNN"
   ]
  },
  {
   "cell_type": "code",
   "execution_count": null,
   "metadata": {},
   "outputs": [],
   "source": [
    "# KNN\n",
    "from sklearn.preprocessing import StandardScaler\n",
    "\n",
    "X_scaler = StandardScaler().fit(X_train)"
   ]
  },
  {
   "cell_type": "code",
   "execution_count": null,
   "metadata": {},
   "outputs": [],
   "source": [
    "X_train_scaled = X_scaler.transform(X_train)\n",
    "X_test_scaled = X_scaler.transform(X_test)"
   ]
  },
  {
   "cell_type": "code",
   "execution_count": null,
   "metadata": {},
   "outputs": [],
   "source": [
    "train_scores = []\n",
    "test_scores = []\n",
    "for k in range(1,21,2):\n",
    "    knn = KNeighborsClassifier(n_neighbors=k)\n",
    "    knn.fit(X_train_scaled,y_train)\n",
    "    train_score = knn.score(X_train_scaled,y_train)\n",
    "    test_score = knn.score(X_test_scaled, y_test)\n",
    "    train_scores.append(train_score)\n",
    "    test_scores.append(test_score)\n",
    "    print(f\"k: {k}, train/test score: {train_score:.3f}/{test_score:.3f}\")\n",
    "    \n",
    "plt.plot(range(1,20,2), train_scores, marker='o')\n",
    "plt.plot(range(1,20,2), test_scores, marker='x')\n",
    "plt.xlabel(\"k neighbors\")\n",
    "plt.ylabel(\"testing accuracy\")\n",
    "plt.show()"
   ]
  },
  {
   "cell_type": "code",
   "execution_count": null,
   "metadata": {},
   "outputs": [],
   "source": [
    "knn = KNeighborsClassifier(n_neighbors=17)\n",
    "knn.fit(X_train_scaled,y_train)\n",
    "print(knn.score(X_test_scaled, y_test))"
   ]
  },
  {
   "cell_type": "code",
   "execution_count": null,
   "metadata": {},
   "outputs": [],
   "source": [
    "X_test.iloc[0]"
   ]
  },
  {
   "cell_type": "code",
   "execution_count": null,
   "metadata": {},
   "outputs": [],
   "source": [
    "X_test_scaled[0]"
   ]
  },
  {
   "cell_type": "code",
   "execution_count": null,
   "metadata": {},
   "outputs": [],
   "source": [
    "for x in X_test_scaled:\n",
    "    print(knn.predict([x]))"
   ]
  },
  {
   "cell_type": "code",
   "execution_count": null,
   "metadata": {},
   "outputs": [],
   "source": [
    "predictions = rf.predict(X_test)\n",
    "print(f\"First 10 Predictions:   {predictions[:10]}\")\n",
    "print(f\"First 10 Actual labels: {y_test[:10].tolist()}\")"
   ]
  },
  {
   "cell_type": "code",
   "execution_count": null,
   "metadata": {
    "scrolled": true
   },
   "outputs": [],
   "source": [
    "from sklearn.metrics import plot_confusion_matrix\n",
    "\n",
    "plot_confusion_matrix(rf, X_test, y_test, cmap=plt.cm.Blues)\n",
    "\n",
    "plt.show()"
   ]
  },
  {
   "cell_type": "code",
   "execution_count": null,
   "metadata": {
    "scrolled": true
   },
   "outputs": [],
   "source": [
    "# binary classification\n",
    "from sklearn.metrics import classification_report \n",
    "\n",
    "print(classification_report(y_test,predictions))"
   ]
  },
  {
   "cell_type": "code",
   "execution_count": null,
   "metadata": {},
   "outputs": [],
   "source": [
    "pipeline_dt = Pipeline([('scalar1', StandardScaler()),\n",
    "                    ('pca1',PCA(n_components=2)),\n",
    "                    ('lr_classifier',LogisticRegression())])"
   ]
  },
  {
   "cell_type": "code",
   "execution_count": null,
   "metadata": {},
   "outputs": [],
   "source": [
    "pipeline_rf = Pipeline([('scalar2', StandardScaler()),\n",
    "                    ('pca2',PCA(n_components=2)),\n",
    "                    ('lr_classifier',DecisionTreeClassifier())])"
   ]
  },
  {
   "cell_type": "code",
   "execution_count": null,
   "metadata": {},
   "outputs": [],
   "source": [
    "pipeline_knn = Pipeline([('scalar3', StandardScaler()),\n",
    "                    ('pca3',PCA(n_components=2)),\n",
    "                    ('lr_classifier',RandomForestClassifier())])"
   ]
  },
  {
   "cell_type": "code",
   "execution_count": null,
   "metadata": {},
   "outputs": [],
   "source": [
    "pipelines = [pipeline_dt, pipeline_rf, pipeline_knn]"
   ]
  },
  {
   "cell_type": "code",
   "execution_count": null,
   "metadata": {},
   "outputs": [],
   "source": [
    "best_accuracy = 0.0\n",
    "best_classifier=0\n",
    "best_pipeline=\"\""
   ]
  },
  {
   "cell_type": "code",
   "execution_count": null,
   "metadata": {},
   "outputs": [],
   "source": [
    "pipe_dict = {0: 'Logistic Regression', 1: 'Decision Tree', 2: 'RandomForest'}\n",
    "\n",
    "# Fit the pipelines\n",
    "for pipe in pipelines:\n",
    "\tpipe.fit(X_train, y_train)"
   ]
  },
  {
   "cell_type": "code",
   "execution_count": null,
   "metadata": {},
   "outputs": [],
   "source": [
    "for i,model in enumerate(pipelines):\n",
    "    print(\"{} Test Accuracy: {}\".format(pipe_dict[i],model.score(X_test,y_test)))"
   ]
  },
  {
   "cell_type": "code",
   "execution_count": null,
   "metadata": {},
   "outputs": [],
   "source": [
    "for i,model in enumerate(pipelines):\n",
    "    if model.score(X_test,y_test)>best_accuracy:\n",
    "        best_accuracy=model.score(X_test,y_test)\n",
    "        best_pipeline=model\n",
    "        best_classifier=i\n",
    "print('Classifier with best accuracy:{}'.format(pipe_dict[best_classifier]))"
   ]
  },
  {
   "cell_type": "code",
   "execution_count": null,
   "metadata": {},
   "outputs": [],
   "source": [
    "from sklearn.model_selection import GridSearchCV"
   ]
  },
  {
   "cell_type": "code",
   "execution_count": null,
   "metadata": {},
   "outputs": [],
   "source": [
    "# Create a pipeline\n",
    "pipe = Pipeline([(\"classifier\", RandomForestClassifier())])\n",
    "# Create dictionary with candidate learning algorithms and their hyperparameters\n",
    "grid_param = [\n",
    "                {\"classifier\": [LogisticRegression()],\n",
    "                 \"classifier__penalty\": ['l2','l1'],\n",
    "                 \"classifier__C\": np.logspace(0, 4, 10)\n",
    "                 },\n",
    "                {\"classifier\": [LogisticRegression()],\n",
    "                 \"classifier__penalty\": ['l2'],\n",
    "                 \"classifier__C\": np.logspace(0, 4, 10),\n",
    "                 \"classifier__solver\":['newton-cg','saga','sag','liblinear'] ##This solvers don't allow L1 penalty\n",
    "                 },\n",
    "                {\"classifier\": [RandomForestClassifier()],\n",
    "                 \"classifier__n_estimators\": [10, 100, 1000],\n",
    "                 \"classifier__max_depth\":[5,8,15,25,30,None],\n",
    "                 \"classifier__min_samples_leaf\":[1,2,5,10,15,100],\n",
    "                 \"classifier__max_leaf_nodes\": [2, 5,10]}]\n",
    "# create a gridsearch of the pipeline, the fit the best model\n",
    "gridsearch = GridSearchCV(pipe, grid_param, cv=5, verbose=0,n_jobs=-1) # Fit grid search\n",
    "best_model = gridsearch.fit(X_train,y_train)"
   ]
  },
  {
   "cell_type": "code",
   "execution_count": null,
   "metadata": {},
   "outputs": [],
   "source": [
    "print(best_model.best_estimator_)\n",
    "print(\"The mean accuracy of the model is:\",best_model.score(X_test,y_test))"
   ]
  },
  {
   "cell_type": "code",
   "execution_count": null,
   "metadata": {},
   "outputs": [],
   "source": [
    "from sklearn.pipeline import make_pipeline"
   ]
  },
  {
   "cell_type": "code",
   "execution_count": null,
   "metadata": {},
   "outputs": [],
   "source": [
    "# Create a pipeline\n",
    "pipe = make_pipeline((RandomForestClassifier()))\n",
    "# Create dictionary with candidate learning algorithms and their hyperparameters\n",
    "grid_param = [\n",
    "                {\"randomforestclassifier\": [RandomForestClassifier()],\n",
    "                 \"randomforestclassifier__n_estimators\": [10, 100, 1000],\n",
    "                 \"randomforestclassifier__max_depth\":[5,8,15,25,30,None],\n",
    "                 \"randomforestclassifier__min_samples_leaf\":[1,2,5,10,15,100],\n",
    "                 \"randomforestclassifier__max_leaf_nodes\": [2, 5,10]}]\n",
    "# create a gridsearch of the pipeline, the fit the best model\n",
    "gridsearch = GridSearchCV(pipe, grid_param, cv=5, verbose=0,n_jobs=-1) # Fit grid search\n",
    "best_model = gridsearch.fit(X_train,y_train)"
   ]
  },
  {
   "cell_type": "code",
   "execution_count": null,
   "metadata": {},
   "outputs": [],
   "source": [
    "\n",
    "best_model.score(X_test,y_test)"
   ]
  },
  {
   "cell_type": "code",
   "execution_count": null,
   "metadata": {},
   "outputs": [],
   "source": []
  },
  {
   "cell_type": "code",
   "execution_count": null,
   "metadata": {},
   "outputs": [],
   "source": [
    "# Gridsearch via SVM\n",
    "# from sklearn.svm import SVC\n",
    "# model = SVC(kernel='linear')\n",
    "# model"
   ]
  },
  {
   "cell_type": "code",
   "execution_count": null,
   "metadata": {},
   "outputs": [],
   "source": [
    "# from sklearn.model_selection import GridSearchCV\n",
    "\n",
    "# param_grid = {'C':[1,5,10,50],\n",
    "#             'gamma': [0.0001, 0.0005, 0.001, 0.005]}\n",
    "\n",
    "# grid = GridSearchCV(model, param_grid, verbose=3)"
   ]
  },
  {
   "cell_type": "code",
   "execution_count": null,
   "metadata": {},
   "outputs": [],
   "source": [
    "grid.fit(X_train, y_train)"
   ]
  },
  {
   "cell_type": "code",
   "execution_count": null,
   "metadata": {},
   "outputs": [],
   "source": [
    "print(grid.best_score)"
   ]
  },
  {
   "cell_type": "code",
   "execution_count": null,
   "metadata": {},
   "outputs": [],
   "source": [
    "gridpredictions = grid.predict(X_test)"
   ]
  },
  {
   "cell_type": "code",
   "execution_count": null,
   "metadata": {},
   "outputs": [],
   "source": [
    "# should we mention what these features are?"
   ]
  },
  {
   "cell_type": "code",
   "execution_count": null,
   "metadata": {},
   "outputs": [],
   "source": [
    "# we should attempt pipeline and n_jobs / gridsearch\n",
    "# reducing the columns we are using to attempt a higher accuracy\n"
   ]
  },
  {
   "cell_type": "code",
   "execution_count": null,
   "metadata": {},
   "outputs": [],
   "source": [
    "#  (0.04888157126179538, 'duration_ms'),\n",
    "#  (0.043915717257736984, 'tempo'),\n",
    "#  (0.03734735314898238, 'liveness'),\n",
    "#  (0.011619048542549717, 'mode')]"
   ]
  },
  {
   "cell_type": "code",
   "execution_count": null,
   "metadata": {},
   "outputs": [],
   "source": [
    "# reduction = secondarygenres.drop([\"duration_ms\",\"tempo\",\"liveness\",\"key\",\"mode\", \"energy\", \"speechiness\",\"instrumentalness\"],axis=1)\n",
    "# reduction.head()"
   ]
  },
  {
   "cell_type": "code",
   "execution_count": null,
   "metadata": {},
   "outputs": [],
   "source": [
    "# target = reduction['secondary_genres']"
   ]
  },
  {
   "cell_type": "code",
   "execution_count": null,
   "metadata": {},
   "outputs": [],
   "source": [
    "# cleaned_data = reduction.drop('secondary_genres', axis=1)\n",
    "# features = cleaned_data.columns\n",
    "# cleaned_data.head()"
   ]
  },
  {
   "cell_type": "code",
   "execution_count": null,
   "metadata": {},
   "outputs": [],
   "source": [
    "# from sklearn.model_selection import train_test_split\n",
    "# X_train, X_test, y_train, y_test = train_test_split(X,y, random_state=1)"
   ]
  },
  {
   "cell_type": "code",
   "execution_count": null,
   "metadata": {},
   "outputs": [],
   "source": [
    "# len(X_train)"
   ]
  },
  {
   "cell_type": "code",
   "execution_count": null,
   "metadata": {},
   "outputs": [],
   "source": [
    "# decision tree again\n",
    "# clf = tree.DecisionTreeClassifier()\n",
    "# clf = clf.fit(X_train, y_train)\n",
    "# clf.score(X_test, y_test)"
   ]
  },
  {
   "cell_type": "code",
   "execution_count": null,
   "metadata": {},
   "outputs": [],
   "source": [
    "# random forest accuracy again\n",
    "# rf = RandomForestClassifier(n_estimators=700)\n",
    "# rf = rf.fit(X_train, y_train)\n",
    "# rf.score(X_test, y_test)"
   ]
  },
  {
   "cell_type": "code",
   "execution_count": null,
   "metadata": {},
   "outputs": [],
   "source": [
    "# sorted(zip(rf.feature_importances_, features), reverse=True)"
   ]
  },
  {
   "cell_type": "code",
   "execution_count": null,
   "metadata": {},
   "outputs": [],
   "source": [
    "# from sklearn.metrics import plot_confusion_matrix\n",
    "\n",
    "# plot_confusion_matrix(rf, X_test, y_test, cmap=plt.cm.Blues)\n",
    "\n",
    "# plt.show()"
   ]
  },
  {
   "cell_type": "code",
   "execution_count": null,
   "metadata": {},
   "outputs": [],
   "source": [
    "# reduced again by the energy, speechiness and instrumentalness and it \n",
    "# made the data less accurate by 1 percent. "
   ]
  }
 ],
 "metadata": {
  "kernelspec": {
   "display_name": "Python 3",
   "language": "python",
   "name": "python3"
  },
  "language_info": {
   "codemirror_mode": {
    "name": "ipython",
    "version": 3
   },
   "file_extension": ".py",
   "mimetype": "text/x-python",
   "name": "python",
   "nbconvert_exporter": "python",
   "pygments_lexer": "ipython3",
   "version": "3.7.6"
  }
 },
 "nbformat": 4,
 "nbformat_minor": 4
}
